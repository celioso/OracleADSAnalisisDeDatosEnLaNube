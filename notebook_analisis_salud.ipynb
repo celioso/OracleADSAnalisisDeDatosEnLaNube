{
 "cells": [
  {
   "cell_type": "markdown",
   "metadata": {},
   "source": [
    "# 1.5 Version de las Bibliotecas"
   ]
  },
  {
   "cell_type": "code",
   "execution_count": 231,
   "metadata": {},
   "outputs": [
    {
     "name": "stdout",
     "output_type": "stream",
     "text": [
      "Defaulting to user installation because normal site-packages is not writeable\n",
      "Requirement already satisfied: ads in /home/celis/.local/lib/python3.11/site-packages (0.12.3)\n",
      "Requirement already satisfied: six in /usr/lib/python3/dist-packages (from ads) (1.16.0)\n",
      "Requirement already satisfied: requests in /usr/lib/python3/dist-packages (from ads) (2.25.1)\n",
      "Requirement already satisfied: werkzeug in /home/celis/.local/lib/python3.11/site-packages (from ads) (3.0.1)\n",
      "Requirement already satisfied: httpretty==0.8.10 in /home/celis/.local/lib/python3.11/site-packages (from ads) (0.8.10)\n",
      "Requirement already satisfied: mock in /home/celis/.local/lib/python3.11/site-packages (from ads) (5.1.0)\n",
      "Requirement already satisfied: MarkupSafe>=2.1.1 in /home/celis/.local/lib/python3.11/site-packages (from werkzeug->ads) (2.1.3)\n",
      "Note: you may need to restart the kernel to use updated packages.\n"
     ]
    }
   ],
   "source": [
    "pip install ads"
   ]
  },
  {
   "cell_type": "code",
   "execution_count": 232,
   "metadata": {},
   "outputs": [
    {
     "name": "stdout",
     "output_type": "stream",
     "text": [
      "Defaulting to user installation because normal site-packages is not writeable\n",
      "Requirement already satisfied: oracle-ads in /home/celis/.local/lib/python3.11/site-packages (2.9.0)\n",
      "Requirement already satisfied: numpy>=1.19.2 in /home/celis/.local/lib/python3.11/site-packages (from oracle-ads) (1.26.1)\n",
      "Requirement already satisfied: jinja2>=2.11.2 in /home/celis/.local/lib/python3.11/site-packages (from oracle-ads) (3.1.2)\n",
      "Requirement already satisfied: PyYAML>=6 in /home/celis/.local/lib/python3.11/site-packages (from oracle-ads) (6.0.1)\n",
      "Requirement already satisfied: pandas<2.1,>1.2.1 in /home/celis/.local/lib/python3.11/site-packages (from oracle-ads) (2.0.3)\n",
      "Requirement already satisfied: python_jsonschema_objects>=0.3.13 in /home/celis/.local/lib/python3.11/site-packages (from oracle-ads) (0.5.0)\n",
      "Requirement already satisfied: matplotlib>=3.1.3 in /home/celis/.local/lib/python3.11/site-packages (from oracle-ads) (3.8.0)\n",
      "Requirement already satisfied: oci>=2.113.0 in /home/celis/.local/lib/python3.11/site-packages (from oracle-ads) (2.116.0)\n",
      "Requirement already satisfied: tqdm>=4.59.0 in /home/celis/.local/lib/python3.11/site-packages (from oracle-ads) (4.66.1)\n",
      "Requirement already satisfied: cerberus>=1.3.4 in /home/celis/.local/lib/python3.11/site-packages (from oracle-ads) (1.3.5)\n",
      "Requirement already satisfied: cloudpickle>=1.6.0 in /home/celis/.local/lib/python3.11/site-packages (from oracle-ads) (3.0.0)\n",
      "Requirement already satisfied: gitpython>=3.1.2 in /home/celis/.local/lib/python3.11/site-packages (from oracle-ads) (3.1.40)\n",
      "Requirement already satisfied: fsspec<2023.9.1,>=0.8.7 in /home/celis/.local/lib/python3.11/site-packages (from oracle-ads) (2023.9.0)\n",
      "Requirement already satisfied: ocifs>=1.1.3 in /home/celis/.local/lib/python3.11/site-packages (from oracle-ads) (1.3.0)\n",
      "Requirement already satisfied: asteval>=0.9.25 in /home/celis/.local/lib/python3.11/site-packages (from oracle-ads) (0.9.31)\n",
      "Requirement already satisfied: psutil>=5.7.2 in /home/celis/.local/lib/python3.11/site-packages (from oracle-ads) (5.9.6)\n",
      "Requirement already satisfied: tabulate>=0.8.9 in /home/celis/.local/lib/python3.11/site-packages (from oracle-ads) (0.9.0)\n",
      "Requirement already satisfied: scikit-learn>=1.0 in /home/celis/.local/lib/python3.11/site-packages (from oracle-ads) (1.3.2)\n",
      "Requirement already satisfied: requests in /usr/lib/python3/dist-packages (from oracle-ads) (2.25.1)\n",
      "Requirement already satisfied: gitdb<5,>=4.0.1 in /home/celis/.local/lib/python3.11/site-packages (from gitpython>=3.1.2->oracle-ads) (4.0.11)\n",
      "Requirement already satisfied: MarkupSafe>=2.0 in /home/celis/.local/lib/python3.11/site-packages (from jinja2>=2.11.2->oracle-ads) (2.1.3)\n",
      "Requirement already satisfied: packaging>=20.0 in /home/celis/.local/lib/python3.11/site-packages (from matplotlib>=3.1.3->oracle-ads) (23.2)\n",
      "Requirement already satisfied: kiwisolver>=1.0.1 in /home/celis/.local/lib/python3.11/site-packages (from matplotlib>=3.1.3->oracle-ads) (1.4.5)\n",
      "Requirement already satisfied: python-dateutil>=2.7 in /home/celis/.local/lib/python3.11/site-packages (from matplotlib>=3.1.3->oracle-ads) (2.8.2)\n",
      "Requirement already satisfied: fonttools>=4.22.0 in /home/celis/.local/lib/python3.11/site-packages (from matplotlib>=3.1.3->oracle-ads) (4.43.1)\n",
      "Requirement already satisfied: pillow>=6.2.0 in /home/celis/.local/lib/python3.11/site-packages (from matplotlib>=3.1.3->oracle-ads) (10.1.0)\n",
      "Requirement already satisfied: pyparsing>=2.3.1 in /usr/lib/python3/dist-packages (from matplotlib>=3.1.3->oracle-ads) (2.4.7)\n",
      "Requirement already satisfied: cycler>=0.10 in /home/celis/.local/lib/python3.11/site-packages (from matplotlib>=3.1.3->oracle-ads) (0.12.1)\n",
      "Requirement already satisfied: contourpy>=1.0.1 in /home/celis/.local/lib/python3.11/site-packages (from matplotlib>=3.1.3->oracle-ads) (1.1.1)\n",
      "Requirement already satisfied: pytz>=2016.10 in /usr/lib/python3/dist-packages (from oci>=2.113.0->oracle-ads) (2022.1)\n",
      "Requirement already satisfied: certifi in /usr/lib/python3/dist-packages (from oci>=2.113.0->oracle-ads) (2020.6.20)\n",
      "Requirement already satisfied: pyOpenSSL<24.0.0,>=17.5.0 in /home/celis/.local/lib/python3.11/site-packages (from oci>=2.113.0->oracle-ads) (23.3.0)\n",
      "Requirement already satisfied: cryptography<42.0.0,>=3.2.1 in /home/celis/.local/lib/python3.11/site-packages (from oci>=2.113.0->oracle-ads) (41.0.7)\n",
      "Requirement already satisfied: circuitbreaker<2.0.0,>=1.3.1 in /home/celis/.local/lib/python3.11/site-packages (from oci>=2.113.0->oracle-ads) (1.4.0)\n",
      "Requirement already satisfied: tzdata>=2022.1 in /home/celis/.local/lib/python3.11/site-packages (from pandas<2.1,>1.2.1->oracle-ads) (2023.3)\n",
      "Requirement already satisfied: inflection>=0.2 in /home/celis/.local/lib/python3.11/site-packages (from python_jsonschema_objects>=0.3.13->oracle-ads) (0.5.1)\n",
      "Requirement already satisfied: Markdown>=2.4 in /home/celis/.local/lib/python3.11/site-packages (from python_jsonschema_objects>=0.3.13->oracle-ads) (3.5.1)\n",
      "Requirement already satisfied: jsonschema>=4.18 in /home/celis/.local/lib/python3.11/site-packages (from python_jsonschema_objects>=0.3.13->oracle-ads) (4.20.0)\n",
      "Requirement already satisfied: six>=1.5.2 in /usr/lib/python3/dist-packages (from python_jsonschema_objects>=0.3.13->oracle-ads) (1.16.0)\n",
      "Requirement already satisfied: scipy>=1.5.0 in /home/celis/.local/lib/python3.11/site-packages (from scikit-learn>=1.0->oracle-ads) (1.11.3)\n",
      "Requirement already satisfied: threadpoolctl>=2.0.0 in /home/celis/.local/lib/python3.11/site-packages (from scikit-learn>=1.0->oracle-ads) (3.2.0)\n",
      "Requirement already satisfied: joblib>=1.1.1 in /home/celis/.local/lib/python3.11/site-packages (from scikit-learn>=1.0->oracle-ads) (1.3.2)\n",
      "Requirement already satisfied: cffi>=1.12 in /home/celis/.local/lib/python3.11/site-packages (from cryptography<42.0.0,>=3.2.1->oci>=2.113.0->oracle-ads) (1.16.0)\n",
      "Requirement already satisfied: smmap<6,>=3.0.1 in /home/celis/.local/lib/python3.11/site-packages (from gitdb<5,>=4.0.1->gitpython>=3.1.2->oracle-ads) (5.0.1)\n",
      "Requirement already satisfied: attrs>=22.2.0 in /home/celis/.local/lib/python3.11/site-packages (from jsonschema>=4.18->python_jsonschema_objects>=0.3.13->oracle-ads) (23.1.0)\n",
      "Requirement already satisfied: jsonschema-specifications>=2023.03.6 in /home/celis/.local/lib/python3.11/site-packages (from jsonschema>=4.18->python_jsonschema_objects>=0.3.13->oracle-ads) (2023.11.2)\n",
      "Requirement already satisfied: rpds-py>=0.7.1 in /home/celis/.local/lib/python3.11/site-packages (from jsonschema>=4.18->python_jsonschema_objects>=0.3.13->oracle-ads) (0.13.2)\n",
      "Requirement already satisfied: referencing>=0.28.4 in /home/celis/.local/lib/python3.11/site-packages (from jsonschema>=4.18->python_jsonschema_objects>=0.3.13->oracle-ads) (0.31.1)\n",
      "Requirement already satisfied: pycparser in /home/celis/.local/lib/python3.11/site-packages (from cffi>=1.12->cryptography<42.0.0,>=3.2.1->oci>=2.113.0->oracle-ads) (2.21)\n",
      "Note: you may need to restart the kernel to use updated packages.\n"
     ]
    }
   ],
   "source": [
    "pip install oracle-ads"
   ]
  },
  {
   "cell_type": "code",
   "execution_count": 233,
   "metadata": {},
   "outputs": [
    {
     "name": "stdout",
     "output_type": "stream",
     "text": [
      "Defaulting to user installation because normal site-packages is not writeable\n",
      "Requirement already satisfied: oracle-ads[ADSExplainer,bds,boosted,data,forecast,geo,notebook,onnx,opctl,optuna,tensorflow,text,torch,viz] in /home/celis/.local/lib/python3.11/site-packages (2.9.0)\n",
      "\u001b[33mWARNING: oracle-ads 2.9.0 does not provide the extra 'adsexplainer'\u001b[0m\u001b[33m\n",
      "\u001b[0mRequirement already satisfied: cerberus>=1.3.4 in /home/celis/.local/lib/python3.11/site-packages (from oracle-ads[ADSExplainer,bds,boosted,data,forecast,geo,notebook,onnx,opctl,optuna,tensorflow,text,torch,viz]) (1.3.5)\n",
      "Requirement already satisfied: tabulate>=0.8.9 in /home/celis/.local/lib/python3.11/site-packages (from oracle-ads[ADSExplainer,bds,boosted,data,forecast,geo,notebook,onnx,opctl,optuna,tensorflow,text,torch,viz]) (0.9.0)\n",
      "Requirement already satisfied: asteval>=0.9.25 in /home/celis/.local/lib/python3.11/site-packages (from oracle-ads[ADSExplainer,bds,boosted,data,forecast,geo,notebook,onnx,opctl,optuna,tensorflow,text,torch,viz]) (0.9.31)\n",
      "Requirement already satisfied: fsspec<2023.9.1,>=0.8.7 in /home/celis/.local/lib/python3.11/site-packages (from oracle-ads[ADSExplainer,bds,boosted,data,forecast,geo,notebook,onnx,opctl,optuna,tensorflow,text,torch,viz]) (2023.9.0)\n",
      "Requirement already satisfied: gitpython>=3.1.2 in /home/celis/.local/lib/python3.11/site-packages (from oracle-ads[ADSExplainer,bds,boosted,data,forecast,geo,notebook,onnx,opctl,optuna,tensorflow,text,torch,viz]) (3.1.40)\n",
      "Requirement already satisfied: scikit-learn>=1.0 in /home/celis/.local/lib/python3.11/site-packages (from oracle-ads[ADSExplainer,bds,boosted,data,forecast,geo,notebook,onnx,opctl,optuna,tensorflow,text,torch,viz]) (1.3.2)\n",
      "Requirement already satisfied: tqdm>=4.59.0 in /home/celis/.local/lib/python3.11/site-packages (from oracle-ads[ADSExplainer,bds,boosted,data,forecast,geo,notebook,onnx,opctl,optuna,tensorflow,text,torch,viz]) (4.66.1)\n",
      "Requirement already satisfied: requests in /usr/lib/python3/dist-packages (from oracle-ads[ADSExplainer,bds,boosted,data,forecast,geo,notebook,onnx,opctl,optuna,tensorflow,text,torch,viz]) (2.25.1)\n",
      "Requirement already satisfied: cloudpickle>=1.6.0 in /home/celis/.local/lib/python3.11/site-packages (from oracle-ads[ADSExplainer,bds,boosted,data,forecast,geo,notebook,onnx,opctl,optuna,tensorflow,text,torch,viz]) (3.0.0)\n",
      "Requirement already satisfied: ocifs>=1.1.3 in /home/celis/.local/lib/python3.11/site-packages (from oracle-ads[ADSExplainer,bds,boosted,data,forecast,geo,notebook,onnx,opctl,optuna,tensorflow,text,torch,viz]) (1.3.0)\n",
      "Requirement already satisfied: oci>=2.113.0 in /home/celis/.local/lib/python3.11/site-packages (from oracle-ads[ADSExplainer,bds,boosted,data,forecast,geo,notebook,onnx,opctl,optuna,tensorflow,text,torch,viz]) (2.116.0)\n",
      "Requirement already satisfied: numpy>=1.19.2 in /home/celis/.local/lib/python3.11/site-packages (from oracle-ads[ADSExplainer,bds,boosted,data,forecast,geo,notebook,onnx,opctl,optuna,tensorflow,text,torch,viz]) (1.26.1)\n",
      "Requirement already satisfied: pandas<2.1,>1.2.1 in /home/celis/.local/lib/python3.11/site-packages (from oracle-ads[ADSExplainer,bds,boosted,data,forecast,geo,notebook,onnx,opctl,optuna,tensorflow,text,torch,viz]) (2.0.3)\n",
      "Requirement already satisfied: jinja2>=2.11.2 in /home/celis/.local/lib/python3.11/site-packages (from oracle-ads[ADSExplainer,bds,boosted,data,forecast,geo,notebook,onnx,opctl,optuna,tensorflow,text,torch,viz]) (3.1.2)\n",
      "Requirement already satisfied: matplotlib>=3.1.3 in /home/celis/.local/lib/python3.11/site-packages (from oracle-ads[ADSExplainer,bds,boosted,data,forecast,geo,notebook,onnx,opctl,optuna,tensorflow,text,torch,viz]) (3.8.0)\n",
      "Requirement already satisfied: psutil>=5.7.2 in /home/celis/.local/lib/python3.11/site-packages (from oracle-ads[ADSExplainer,bds,boosted,data,forecast,geo,notebook,onnx,opctl,optuna,tensorflow,text,torch,viz]) (5.9.6)\n",
      "Requirement already satisfied: PyYAML>=6 in /home/celis/.local/lib/python3.11/site-packages (from oracle-ads[ADSExplainer,bds,boosted,data,forecast,geo,notebook,onnx,opctl,optuna,tensorflow,text,torch,viz]) (6.0.1)\n",
      "Requirement already satisfied: python_jsonschema_objects>=0.3.13 in /home/celis/.local/lib/python3.11/site-packages (from oracle-ads[ADSExplainer,bds,boosted,data,forecast,geo,notebook,onnx,opctl,optuna,tensorflow,text,torch,viz]) (0.5.0)\n",
      "Collecting optuna==2.9.0\n",
      "  Using cached optuna-2.9.0-py3-none-any.whl (302 kB)\n",
      "Collecting torchvision\n",
      "  Using cached torchvision-0.16.1-cp311-cp311-manylinux1_x86_64.whl (6.8 MB)\n",
      "Collecting torch\n",
      "  Using cached torch-2.1.1-cp311-cp311-manylinux1_x86_64.whl (670.2 MB)\n",
      "Collecting geopandas\n",
      "  Using cached geopandas-0.14.1-py3-none-any.whl (1.1 MB)\n",
      "Collecting ibis-framework[impala]\n",
      "  Using cached ibis_framework-7.1.0-py3-none-any.whl (1.7 MB)\n",
      "Collecting sqlalchemy\n",
      "  Using cached SQLAlchemy-2.0.23-cp311-cp311-manylinux_2_17_x86_64.manylinux2014_x86_64.whl (3.2 MB)\n",
      "Collecting hdfs[kerberos]\n",
      "  Using cached hdfs-2.7.3.tar.gz (43 kB)\n",
      "  Preparing metadata (setup.py) ... \u001b[?25ldone\n",
      "\u001b[?25hCollecting tensorflow\n",
      "  Using cached tensorflow-2.15.0-cp311-cp311-manylinux_2_17_x86_64.manylinux2014_x86_64.whl (475.3 MB)\n",
      "Collecting oracledb>=1.0\n",
      "  Using cached oracledb-1.4.2-cp311-cp311-manylinux_2_17_x86_64.manylinux2014_x86_64.whl (9.5 MB)\n",
      "Collecting openpyxl>=3.0.7\n",
      "  Using cached openpyxl-3.1.2-py2.py3-none-any.whl (249 kB)\n",
      "Collecting datefinder>=0.7.1\n",
      "  Using cached datefinder-0.7.3-py2.py3-none-any.whl (10 kB)\n",
      "Collecting htmllistparse>=0.6.0\n",
      "  Using cached htmllistparse-0.6.1-py3-none-any.whl (10.0 kB)\n",
      "Collecting sqlalchemy\n",
      "  Using cached SQLAlchemy-1.4.46-cp311-cp311-manylinux_2_5_x86_64.manylinux1_x86_64.manylinux_2_17_x86_64.manylinux2014_x86_64.whl (1.6 MB)\n",
      "Collecting fastavro>=0.24.2\n",
      "  Using cached fastavro-1.9.0-cp311-cp311-manylinux_2_17_x86_64.manylinux2014_x86_64.whl (3.3 MB)\n",
      "Collecting pandavro>=1.6.0\n",
      "  Using cached pandavro-1.8.0-py3-none-any.whl (8.8 kB)\n",
      "Requirement already satisfied: scipy>=1.5.4 in /home/celis/.local/lib/python3.11/site-packages (from oracle-ads[ADSExplainer,bds,boosted,data,forecast,geo,notebook,onnx,opctl,optuna,tensorflow,text,torch,viz]) (1.11.3)\n",
      "Collecting graphviz<0.17\n",
      "  Using cached graphviz-0.16-py2.py3-none-any.whl (19 kB)\n",
      "Requirement already satisfied: seaborn>=0.11.0 in /home/celis/.local/lib/python3.11/site-packages (from oracle-ads[ADSExplainer,bds,boosted,data,forecast,geo,notebook,onnx,opctl,optuna,tensorflow,text,torch,viz]) (0.13.0)\n",
      "Collecting folium>=0.12.1\n",
      "  Using cached folium-0.15.0-py2.py3-none-any.whl (100 kB)\n",
      "Collecting bokeh<=2.4.3,>=2.3.0\n",
      "  Using cached bokeh-2.4.3-py3-none-any.whl (18.5 MB)\n",
      "Collecting tf2onnx\n",
      "  Using cached tf2onnx-1.15.1-py3-none-any.whl (454 kB)\n",
      "Collecting onnxruntime<1.16,>=1.10.0\n",
      "  Using cached onnxruntime-1.15.1-cp311-cp311-manylinux_2_17_x86_64.manylinux2014_x86_64.whl (5.9 MB)\n",
      "Requirement already satisfied: lightgbm in /home/celis/.local/lib/python3.11/site-packages (from oracle-ads[ADSExplainer,bds,boosted,data,forecast,geo,notebook,onnx,opctl,optuna,tensorflow,text,torch,viz]) (4.1.0)\n",
      "Collecting xgboost<=1.7\n",
      "  Using cached xgboost-1.7.0-py3-none-manylinux2014_x86_64.whl (193.6 MB)\n",
      "Collecting onnxmltools>=1.10.0\n",
      "  Using cached onnxmltools-1.11.2-py2.py3-none-any.whl (322 kB)\n",
      "Collecting onnx>=1.12.0\n",
      "  Using cached onnx-1.15.0-cp311-cp311-manylinux_2_17_x86_64.manylinux2014_x86_64.whl (15.7 MB)\n",
      "Collecting protobuf<=3.20\n",
      "  Using cached protobuf-3.20.0-py2.py3-none-any.whl (162 kB)\n",
      "Collecting skl2onnx>=1.10.4\n",
      "  Using cached skl2onnx-1.15.0-py2.py3-none-any.whl (294 kB)\n",
      "Collecting oracle-ads[ADSExplainer,bds,boosted,data,forecast,geo,notebook,onnx,opctl,optuna,tensorflow,text,torch,viz]\n",
      "  Using cached oracle_ads-2.8.11-py3-none-any.whl (1.4 MB)\n",
      "\u001b[33mWARNING: oracle-ads 2.8.11 does not provide the extra 'adsexplainer'\u001b[0m\u001b[33m\n",
      "\u001b[0m\u001b[33mWARNING: oracle-ads 2.8.11 does not provide the extra 'forecast'\u001b[0m\u001b[33m\n",
      "\u001b[0mCollecting lightgbm==3.3.1\n",
      "  Using cached lightgbm-3.3.1-py3-none-manylinux1_x86_64.whl (2.0 MB)\n",
      "Collecting ipython<8.0,>=7.23.1\n",
      "  Using cached ipython-7.34.0-py3-none-any.whl (793 kB)\n",
      "Collecting ipywidgets~=7.6.3\n",
      "  Using cached ipywidgets-7.6.6-py2.py3-none-any.whl (121 kB)\n",
      "Collecting nbconvert\n",
      "  Using cached nbconvert-7.11.0-py3-none-any.whl (256 kB)\n",
      "Collecting nbformat\n",
      "  Using cached nbformat-5.9.2-py3-none-any.whl (77 kB)\n",
      "Requirement already satisfied: inflection in /home/celis/.local/lib/python3.11/site-packages (from oracle-ads[ADSExplainer,bds,boosted,data,forecast,geo,notebook,onnx,opctl,optuna,tensorflow,text,torch,viz]) (0.5.1)\n",
      "Collecting conda-pack\n",
      "  Using cached conda_pack-0.7.1-py2.py3-none-any.whl (32 kB)\n",
      "Collecting docker\n",
      "  Using cached docker-6.1.3-py3-none-any.whl (148 kB)\n",
      "Collecting oci-cli\n",
      "  Using cached oci_cli-3.36.2-py3-none-any.whl (44.4 MB)\n",
      "Collecting spacy\n",
      "  Using cached spacy-3.7.2-cp311-cp311-manylinux_2_17_x86_64.manylinux2014_x86_64.whl (6.6 MB)\n",
      "Collecting wordcloud>=1.8.1\n",
      "  Using cached wordcloud-1.9.2-cp311-cp311-manylinux_2_17_x86_64.manylinux2014_x86_64.whl (473 kB)\n",
      "Requirement already satisfied: wheel in /usr/lib/python3/dist-packages (from lightgbm==3.3.1->oracle-ads[ADSExplainer,bds,boosted,data,forecast,geo,notebook,onnx,opctl,optuna,tensorflow,text,torch,viz]) (0.37.1)\n",
      "Collecting alembic\n",
      "  Using cached alembic-1.13.0-py3-none-any.whl (230 kB)\n",
      "Requirement already satisfied: packaging>=20.0 in /home/celis/.local/lib/python3.11/site-packages (from optuna==2.9.0->oracle-ads[ADSExplainer,bds,boosted,data,forecast,geo,notebook,onnx,opctl,optuna,tensorflow,text,torch,viz]) (23.2)\n",
      "Collecting cliff\n",
      "  Using cached cliff-4.4.0-py3-none-any.whl (80 kB)\n",
      "Collecting cmaes>=0.8.2\n",
      "  Using cached cmaes-0.10.0-py3-none-any.whl (29 kB)\n",
      "Collecting colorlog\n",
      "  Using cached colorlog-6.7.0-py2.py3-none-any.whl (11 kB)\n",
      "Requirement already satisfied: pillow>=7.1.0 in /home/celis/.local/lib/python3.11/site-packages (from bokeh<=2.4.3,>=2.3.0->oracle-ads[ADSExplainer,bds,boosted,data,forecast,geo,notebook,onnx,opctl,optuna,tensorflow,text,torch,viz]) (10.1.0)\n",
      "Collecting typing-extensions>=3.10.0\n",
      "  Using cached typing_extensions-4.8.0-py3-none-any.whl (31 kB)\n",
      "Requirement already satisfied: tornado>=5.1 in /home/celis/.local/lib/python3.11/site-packages (from bokeh<=2.4.3,>=2.3.0->oracle-ads[ADSExplainer,bds,boosted,data,forecast,geo,notebook,onnx,opctl,optuna,tensorflow,text,torch,viz]) (6.3.3)\n",
      "Collecting regex>=2017.02.08\n",
      "  Using cached regex-2023.10.3-cp311-cp311-manylinux_2_17_x86_64.manylinux2014_x86_64.whl (785 kB)\n",
      "Requirement already satisfied: pytz in /usr/lib/python3/dist-packages (from datefinder>=0.7.1->oracle-ads[ADSExplainer,bds,boosted,data,forecast,geo,notebook,onnx,opctl,optuna,tensorflow,text,torch,viz]) (2022.1)\n",
      "Requirement already satisfied: python-dateutil>=2.4.2 in /home/celis/.local/lib/python3.11/site-packages (from datefinder>=0.7.1->oracle-ads[ADSExplainer,bds,boosted,data,forecast,geo,notebook,onnx,opctl,optuna,tensorflow,text,torch,viz]) (2.8.2)\n",
      "Collecting branca>=0.6.0\n",
      "  Using cached branca-0.7.0-py3-none-any.whl (25 kB)\n",
      "Requirement already satisfied: gitdb<5,>=4.0.1 in /home/celis/.local/lib/python3.11/site-packages (from gitpython>=3.1.2->oracle-ads[ADSExplainer,bds,boosted,data,forecast,geo,notebook,onnx,opctl,optuna,tensorflow,text,torch,viz]) (4.0.11)\n",
      "Collecting beautifulsoup4\n",
      "  Using cached beautifulsoup4-4.12.2-py3-none-any.whl (142 kB)\n",
      "Collecting html5lib\n",
      "  Using cached html5lib-1.1-py2.py3-none-any.whl (112 kB)\n",
      "Collecting fusepy\n",
      "  Using cached fusepy-3.0.1.tar.gz (11 kB)\n",
      "  Preparing metadata (setup.py) ... \u001b[?25ldone\n",
      "\u001b[?25hRequirement already satisfied: pygments in /home/celis/.local/lib/python3.11/site-packages (from ipython<8.0,>=7.23.1->oracle-ads[ADSExplainer,bds,boosted,data,forecast,geo,notebook,onnx,opctl,optuna,tensorflow,text,torch,viz]) (2.16.1)\n",
      "Requirement already satisfied: pickleshare in /home/celis/.local/lib/python3.11/site-packages (from ipython<8.0,>=7.23.1->oracle-ads[ADSExplainer,bds,boosted,data,forecast,geo,notebook,onnx,opctl,optuna,tensorflow,text,torch,viz]) (0.7.5)\n",
      "Requirement already satisfied: setuptools>=18.5 in /usr/lib/python3/dist-packages (from ipython<8.0,>=7.23.1->oracle-ads[ADSExplainer,bds,boosted,data,forecast,geo,notebook,onnx,opctl,optuna,tensorflow,text,torch,viz]) (59.6.0)\n",
      "Requirement already satisfied: prompt-toolkit!=3.0.0,!=3.0.1,<3.1.0,>=2.0.0 in /home/celis/.local/lib/python3.11/site-packages (from ipython<8.0,>=7.23.1->oracle-ads[ADSExplainer,bds,boosted,data,forecast,geo,notebook,onnx,opctl,optuna,tensorflow,text,torch,viz]) (3.0.39)\n",
      "Requirement already satisfied: jedi>=0.16 in /home/celis/.local/lib/python3.11/site-packages (from ipython<8.0,>=7.23.1->oracle-ads[ADSExplainer,bds,boosted,data,forecast,geo,notebook,onnx,opctl,optuna,tensorflow,text,torch,viz]) (0.19.1)\n",
      "Requirement already satisfied: backcall in /home/celis/.local/lib/python3.11/site-packages (from ipython<8.0,>=7.23.1->oracle-ads[ADSExplainer,bds,boosted,data,forecast,geo,notebook,onnx,opctl,optuna,tensorflow,text,torch,viz]) (0.2.0)\n",
      "Requirement already satisfied: pexpect>4.3 in /home/celis/.local/lib/python3.11/site-packages (from ipython<8.0,>=7.23.1->oracle-ads[ADSExplainer,bds,boosted,data,forecast,geo,notebook,onnx,opctl,optuna,tensorflow,text,torch,viz]) (4.8.0)\n",
      "Requirement already satisfied: decorator in /home/celis/.local/lib/python3.11/site-packages (from ipython<8.0,>=7.23.1->oracle-ads[ADSExplainer,bds,boosted,data,forecast,geo,notebook,onnx,opctl,optuna,tensorflow,text,torch,viz]) (5.1.1)\n",
      "Requirement already satisfied: traitlets>=4.2 in /home/celis/.local/lib/python3.11/site-packages (from ipython<8.0,>=7.23.1->oracle-ads[ADSExplainer,bds,boosted,data,forecast,geo,notebook,onnx,opctl,optuna,tensorflow,text,torch,viz]) (5.11.2)\n",
      "Requirement already satisfied: matplotlib-inline in /home/celis/.local/lib/python3.11/site-packages (from ipython<8.0,>=7.23.1->oracle-ads[ADSExplainer,bds,boosted,data,forecast,geo,notebook,onnx,opctl,optuna,tensorflow,text,torch,viz]) (0.1.6)\n",
      "Requirement already satisfied: ipykernel>=4.5.1 in /home/celis/.local/lib/python3.11/site-packages (from ipywidgets~=7.6.3->oracle-ads[ADSExplainer,bds,boosted,data,forecast,geo,notebook,onnx,opctl,optuna,tensorflow,text,torch,viz]) (6.25.2)\n",
      "Collecting widgetsnbextension~=3.5.0\n",
      "  Using cached widgetsnbextension-3.5.2-py2.py3-none-any.whl (1.6 MB)\n",
      "Collecting ipython-genutils~=0.2.0\n",
      "  Using cached ipython_genutils-0.2.0-py2.py3-none-any.whl (26 kB)\n",
      "Collecting jupyterlab-widgets<3,>=1.0.0\n",
      "  Using cached jupyterlab_widgets-1.1.7-py3-none-any.whl (295 kB)\n",
      "Requirement already satisfied: MarkupSafe>=2.0 in /home/celis/.local/lib/python3.11/site-packages (from jinja2>=2.11.2->oracle-ads[ADSExplainer,bds,boosted,data,forecast,geo,notebook,onnx,opctl,optuna,tensorflow,text,torch,viz]) (2.1.3)\n",
      "Requirement already satisfied: pyparsing>=2.3.1 in /usr/lib/python3/dist-packages (from matplotlib>=3.1.3->oracle-ads[ADSExplainer,bds,boosted,data,forecast,geo,notebook,onnx,opctl,optuna,tensorflow,text,torch,viz]) (2.4.7)\n",
      "Requirement already satisfied: cycler>=0.10 in /home/celis/.local/lib/python3.11/site-packages (from matplotlib>=3.1.3->oracle-ads[ADSExplainer,bds,boosted,data,forecast,geo,notebook,onnx,opctl,optuna,tensorflow,text,torch,viz]) (0.12.1)\n",
      "Requirement already satisfied: contourpy>=1.0.1 in /home/celis/.local/lib/python3.11/site-packages (from matplotlib>=3.1.3->oracle-ads[ADSExplainer,bds,boosted,data,forecast,geo,notebook,onnx,opctl,optuna,tensorflow,text,torch,viz]) (1.1.1)\n",
      "Requirement already satisfied: kiwisolver>=1.0.1 in /home/celis/.local/lib/python3.11/site-packages (from matplotlib>=3.1.3->oracle-ads[ADSExplainer,bds,boosted,data,forecast,geo,notebook,onnx,opctl,optuna,tensorflow,text,torch,viz]) (1.4.5)\n",
      "Requirement already satisfied: fonttools>=4.22.0 in /home/celis/.local/lib/python3.11/site-packages (from matplotlib>=3.1.3->oracle-ads[ADSExplainer,bds,boosted,data,forecast,geo,notebook,onnx,opctl,optuna,tensorflow,text,torch,viz]) (4.43.1)\n",
      "Requirement already satisfied: jsonschema>=2.6 in /home/celis/.local/lib/python3.11/site-packages (from nbformat->oracle-ads[ADSExplainer,bds,boosted,data,forecast,geo,notebook,onnx,opctl,optuna,tensorflow,text,torch,viz]) (4.20.0)\n",
      "Collecting fastjsonschema\n",
      "  Using cached fastjsonschema-2.19.0-py3-none-any.whl (23 kB)\n",
      "Requirement already satisfied: jupyter-core in /home/celis/.local/lib/python3.11/site-packages (from nbformat->oracle-ads[ADSExplainer,bds,boosted,data,forecast,geo,notebook,onnx,opctl,optuna,tensorflow,text,torch,viz]) (5.4.0)\n",
      "Requirement already satisfied: certifi in /usr/lib/python3/dist-packages (from oci>=2.113.0->oracle-ads[ADSExplainer,bds,boosted,data,forecast,geo,notebook,onnx,opctl,optuna,tensorflow,text,torch,viz]) (2020.6.20)\n",
      "Requirement already satisfied: circuitbreaker<2.0.0,>=1.3.1 in /home/celis/.local/lib/python3.11/site-packages (from oci>=2.113.0->oracle-ads[ADSExplainer,bds,boosted,data,forecast,geo,notebook,onnx,opctl,optuna,tensorflow,text,torch,viz]) (1.4.0)\n",
      "Requirement already satisfied: pyOpenSSL<24.0.0,>=17.5.0 in /home/celis/.local/lib/python3.11/site-packages (from oci>=2.113.0->oracle-ads[ADSExplainer,bds,boosted,data,forecast,geo,notebook,onnx,opctl,optuna,tensorflow,text,torch,viz]) (23.3.0)\n",
      "Requirement already satisfied: cryptography<42.0.0,>=3.2.1 in /home/celis/.local/lib/python3.11/site-packages (from oci>=2.113.0->oracle-ads[ADSExplainer,bds,boosted,data,forecast,geo,notebook,onnx,opctl,optuna,tensorflow,text,torch,viz]) (41.0.7)\n",
      "Collecting onnx>=1.12.0\n",
      "  Using cached onnx-1.14.1-cp311-cp311-manylinux_2_17_x86_64.manylinux2014_x86_64.whl (14.6 MB)\n",
      "  Using cached onnx-1.14.0-cp311-cp311-manylinux_2_17_x86_64.manylinux2014_x86_64.whl (14.6 MB)\n",
      "  Using cached onnx-1.13.1-cp311-cp311-manylinux_2_17_x86_64.manylinux2014_x86_64.whl (13.5 MB)\n",
      "  Using cached onnx-1.13.0-cp311-cp311-manylinux_2_17_x86_64.manylinux2014_x86_64.whl (13.5 MB)\n",
      "  Using cached onnx-1.12.0.tar.gz (10.1 MB)\n",
      "  Preparing metadata (setup.py) ... \u001b[?25lerror\n",
      "  \u001b[1;31merror\u001b[0m: \u001b[1msubprocess-exited-with-error\u001b[0m\n",
      "  \n",
      "  \u001b[31m×\u001b[0m \u001b[32mpython setup.py egg_info\u001b[0m did not run successfully.\n",
      "  \u001b[31m│\u001b[0m exit code: \u001b[1;36m1\u001b[0m\n",
      "  \u001b[31m╰─>\u001b[0m \u001b[31m[7 lines of output]\u001b[0m\n",
      "  \u001b[31m   \u001b[0m fatal: not a git repository (or any of the parent directories): .git\n",
      "  \u001b[31m   \u001b[0m Traceback (most recent call last):\n",
      "  \u001b[31m   \u001b[0m   File \"<string>\", line 2, in <module>\n",
      "  \u001b[31m   \u001b[0m   File \"<pip-setuptools-caller>\", line 34, in <module>\n",
      "  \u001b[31m   \u001b[0m   File \"/tmp/pip-install-n4bb9epv/onnx_c0d52f5b456e484b9a7c07ae53560a82/setup.py\", line 81, in <module>\n",
      "  \u001b[31m   \u001b[0m     assert CMAKE, \"Could not find cmake executable!\"\n",
      "  \u001b[31m   \u001b[0m AssertionError: Could not find cmake executable!\n",
      "  \u001b[31m   \u001b[0m \u001b[31m[end of output]\u001b[0m\n",
      "  \n",
      "  \u001b[1;35mnote\u001b[0m: This error originates from a subprocess, and is likely not a problem with pip.\n",
      "\u001b[?25h\u001b[1;31merror\u001b[0m: \u001b[1mmetadata-generation-failed\u001b[0m\n",
      "\n",
      "\u001b[31m×\u001b[0m Encountered error while generating package metadata.\n",
      "\u001b[31m╰─>\u001b[0m See above for output.\n",
      "\n",
      "\u001b[1;35mnote\u001b[0m: This is an issue with the package mentioned above, not pip.\n",
      "\u001b[1;36mhint\u001b[0m: See above for details.\n",
      "Note: you may need to restart the kernel to use updated packages.\n"
     ]
    }
   ],
   "source": [
    "pip install 'oracle-ads[boosted,forecast, bds, data, geo, notebook, onnx, opctl, optuna, tensorflow, text, torch, viz, ADSExplainer]'"
   ]
  },
  {
   "cell_type": "code",
   "execution_count": 234,
   "metadata": {},
   "outputs": [
    {
     "name": "stderr",
     "output_type": "stream",
     "text": [
      "ERROR - Exception\n",
      "Traceback (most recent call last):\n",
      "  File \"/home/celis/.local/lib/python3.11/site-packages/IPython/core/interactiveshell.py\", line 3526, in run_code\n",
      "    exec(code_obj, self.user_global_ns, self.user_ns)\n",
      "  File \"/tmp/ipykernel_1506/3874518975.py\", line 18, in <module>\n",
      "    from ads.explanations.explainer import ADSExplainer\n",
      "  File \"/home/celis/.local/lib/python3.11/site-packages/ads/explanations/explainer.py\", line 13, in <module>\n",
      "    class ADSExplainer(object):\n",
      "  File \"/home/celis/.local/lib/python3.11/site-packages/ads/explanations/explainer.py\", line 54, in ADSExplainer\n",
      "    def global_explanation(self, provider=MLXGlobalExplainer()):\n",
      "                                          ^^^^^^^^^^^^^^^^^^^^\n",
      "  File \"/home/celis/.local/lib/python3.11/site-packages/ads/common/decorator/deprecate.py\", line 62, in wrapper\n",
      "    raise NotSupportedError(msg)\n",
      "ads.common.decorator.deprecate.NotSupportedError: Working with AutoML has moved from within ADS to working directly with the AutoMLx library. AutoMLx are preinstalled in conda pack automlx_p38_cpu_v2 and later, and can now be updated independently of ADS. AutoMLx documentation may be found at https://docs.oracle.com/en-us/iaas/tools/automlx/latest/html/multiversion/v23.1.1/index.html. Notebook examples are in Oracle's samples repository: https://github.com/oracle-samples/oci-data-science-ai-samples/tree/master/notebook_examples and a migration tutorial can be found at https://accelerated-data-science.readthedocs.io/en/latest/user_guide/model_training/automl/quick_start.html .\n",
      "NotSupportedError: Working with AutoML has moved from within ADS to working directly with the AutoMLx library. AutoMLx are preinstalled in conda pack automlx_p38_cpu_v2 and later, and can now be updated independently of ADS. AutoMLx documentation may be found at https://docs.oracle.com/en-us/iaas/tools/automlx/latest/html/multiversion/v23.1.1/index.html. Notebook examples are in Oracle's samples repository: https://github.com/oracle-samples/oci-data-science-ai-samples/tree/master/notebook_examples and a migration tutorial can be found at https://accelerated-data-science.readthedocs.io/en/latest/user_guide/model_training/automl/quick_start.html ."
     ]
    }
   ],
   "source": [
    "import requests\n",
    "response = requests.get(\"https://oracle.com\")\n",
    "assert response.status_code==200, \"Internet connection failed\"\n",
    "\n",
    "\n",
    "import warnings\n",
    "warnings.filterwarnings('ignore')\n",
    "\n",
    "import logging\n",
    "logging.basicConfig(format='%(levelname)s:%(message)s', level=logging.ERROR)\n",
    "\n",
    "import ads\n",
    "from ads.dataset.factory import DatasetFactory\n",
    "from ads.automl.provider import OracleAutoMLProvider\n",
    "from ads.automl.driver import AutoML\n",
    "from ads.evaluations.evaluator import ADSEvaluator\n",
    "from ads.common.data import ADSData\n",
    "from ads.explanations.explainer import ADSExplainer\n",
    "from ads.explanations.mlx_global_explainer import MLXGlobalExplainer\n",
    "from ads.explanations.mlx_local_explainer import MLXLocalExplainer\n",
    "from ads.catalog.model import ModelCatalog\n",
    "from ads.common.model_artifact import ModelArtifact\n",
    "\n",
    "import os\n",
    "print(os.environ[\"NB_SESSION_COMPARTMENT_OCID\"])\n",
    "print(os.environ[\"PROJECT_OCID\"])\n",
    "print(os.environ[\"USER_OCID\"])\n",
    "print(os.environ[\"TENANCY_OCID\"])\n",
    "print(os.environ[\"NB_REGION\"])"
   ]
  },
  {
   "cell_type": "code",
   "execution_count": 235,
   "metadata": {},
   "outputs": [
    {
     "name": "stderr",
     "output_type": "stream",
     "text": [
      "ERROR - Exception\n",
      "Traceback (most recent call last):\n",
      "  File \"/home/celis/.local/lib/python3.11/site-packages/IPython/core/interactiveshell.py\", line 3526, in run_code\n",
      "    exec(code_obj, self.user_global_ns, self.user_ns)\n",
      "  File \"/tmp/ipykernel_1506/2397190709.py\", line 10, in <module>\n",
      "    from ads.explanations.explainer import ADSExplainer\n",
      "  File \"/home/celis/.local/lib/python3.11/site-packages/ads/explanations/explainer.py\", line 13, in <module>\n",
      "    class ADSExplainer(object):\n",
      "  File \"/home/celis/.local/lib/python3.11/site-packages/ads/explanations/explainer.py\", line 54, in ADSExplainer\n",
      "    def global_explanation(self, provider=MLXGlobalExplainer()):\n",
      "                                          ^^^^^^^^^^^^^^^^^^^^\n",
      "  File \"/home/celis/.local/lib/python3.11/site-packages/ads/common/decorator/deprecate.py\", line 62, in wrapper\n",
      "    raise NotSupportedError(msg)\n",
      "ads.common.decorator.deprecate.NotSupportedError: Working with AutoML has moved from within ADS to working directly with the AutoMLx library. AutoMLx are preinstalled in conda pack automlx_p38_cpu_v2 and later, and can now be updated independently of ADS. AutoMLx documentation may be found at https://docs.oracle.com/en-us/iaas/tools/automlx/latest/html/multiversion/v23.1.1/index.html. Notebook examples are in Oracle's samples repository: https://github.com/oracle-samples/oci-data-science-ai-samples/tree/master/notebook_examples and a migration tutorial can be found at https://accelerated-data-science.readthedocs.io/en/latest/user_guide/model_training/automl/quick_start.html .\n",
      "NotSupportedError: Working with AutoML has moved from within ADS to working directly with the AutoMLx library. AutoMLx are preinstalled in conda pack automlx_p38_cpu_v2 and later, and can now be updated independently of ADS. AutoMLx documentation may be found at https://docs.oracle.com/en-us/iaas/tools/automlx/latest/html/multiversion/v23.1.1/index.html. Notebook examples are in Oracle's samples repository: https://github.com/oracle-samples/oci-data-science-ai-samples/tree/master/notebook_examples and a migration tutorial can be found at https://accelerated-data-science.readthedocs.io/en/latest/user_guide/model_training/automl/quick_start.html ."
     ]
    }
   ],
   "source": [
    "import requests\n",
    "import warnings\n",
    "import logging\n",
    "import ads\n",
    "from ads.dataset.factory import DatasetFactory\n",
    "from ads.automl.provider import OracleAutoMLProvider\n",
    "from ads.automl.driver import AutoML\n",
    "from ads.evaluations.evaluator import ADSEvaluator\n",
    "from ads.common.data import ADSData\n",
    "from ads.explanations.explainer import ADSExplainer\n",
    "from ads.explanations.mlx_global_explainer import MLXGlobalExplainer\n",
    "from ads.explanations.mlx_local_explainer import MLXLocalExplainer\n",
    "from ads.catalog.model import ModelCatalog\n",
    "from ads.common.model_artifact import ModelArtifact\n",
    "import os\n",
    "\n",
    "\n",
    "\n",
    "\n"
   ]
  },
  {
   "cell_type": "code",
   "execution_count": 236,
   "metadata": {},
   "outputs": [],
   "source": [
    "import ads\n",
    "import pandas as pd"
   ]
  },
  {
   "cell_type": "code",
   "execution_count": 237,
   "metadata": {},
   "outputs": [
    {
     "data": {
      "text/plain": [
       "'2.0.3'"
      ]
     },
     "execution_count": 237,
     "metadata": {},
     "output_type": "execute_result"
    }
   ],
   "source": [
    "pd.__version__"
   ]
  },
  {
   "cell_type": "code",
   "execution_count": 238,
   "metadata": {},
   "outputs": [
    {
     "data": {
      "text/plain": [
       "'2.9.0'"
      ]
     },
     "execution_count": 238,
     "metadata": {},
     "output_type": "execute_result"
    }
   ],
   "source": [
    "ads.__version__"
   ]
  },
  {
   "cell_type": "markdown",
   "metadata": {},
   "source": [
    "link de los datos = https://www.kaggle.com/datasets/dileep070/heart-disease-prediction-using-logistic-regression/"
   ]
  },
  {
   "cell_type": "code",
   "execution_count": 239,
   "metadata": {},
   "outputs": [
    {
     "data": {
      "text/html": [
       "<div>\n",
       "<style scoped>\n",
       "    .dataframe tbody tr th:only-of-type {\n",
       "        vertical-align: middle;\n",
       "    }\n",
       "\n",
       "    .dataframe tbody tr th {\n",
       "        vertical-align: top;\n",
       "    }\n",
       "\n",
       "    .dataframe thead th {\n",
       "        text-align: right;\n",
       "    }\n",
       "</style>\n",
       "<table border=\"1\" class=\"dataframe\">\n",
       "  <thead>\n",
       "    <tr style=\"text-align: right;\">\n",
       "      <th></th>\n",
       "      <th>male</th>\n",
       "      <th>age</th>\n",
       "      <th>education</th>\n",
       "      <th>currentSmoker</th>\n",
       "      <th>cigsPerDay</th>\n",
       "      <th>BPMeds</th>\n",
       "      <th>prevalentStroke</th>\n",
       "      <th>prevalentHyp</th>\n",
       "      <th>diabetes</th>\n",
       "      <th>totChol</th>\n",
       "      <th>sysBP</th>\n",
       "      <th>diaBP</th>\n",
       "      <th>BMI</th>\n",
       "      <th>heartRate</th>\n",
       "      <th>glucose</th>\n",
       "      <th>TenYearCHD</th>\n",
       "    </tr>\n",
       "  </thead>\n",
       "  <tbody>\n",
       "    <tr>\n",
       "      <th>3600</th>\n",
       "      <td>0</td>\n",
       "      <td>47</td>\n",
       "      <td>1.0</td>\n",
       "      <td>1</td>\n",
       "      <td>20.0</td>\n",
       "      <td>0.0</td>\n",
       "      <td>0</td>\n",
       "      <td>1</td>\n",
       "      <td>0</td>\n",
       "      <td>226.0</td>\n",
       "      <td>122.5</td>\n",
       "      <td>80.0</td>\n",
       "      <td>24.62</td>\n",
       "      <td>72.0</td>\n",
       "      <td>68.0</td>\n",
       "      <td>0</td>\n",
       "    </tr>\n",
       "    <tr>\n",
       "      <th>897</th>\n",
       "      <td>0</td>\n",
       "      <td>57</td>\n",
       "      <td>3.0</td>\n",
       "      <td>1</td>\n",
       "      <td>20.0</td>\n",
       "      <td>0.0</td>\n",
       "      <td>0</td>\n",
       "      <td>0</td>\n",
       "      <td>0</td>\n",
       "      <td>200.0</td>\n",
       "      <td>108.0</td>\n",
       "      <td>77.0</td>\n",
       "      <td>18.55</td>\n",
       "      <td>70.0</td>\n",
       "      <td>87.0</td>\n",
       "      <td>0</td>\n",
       "    </tr>\n",
       "    <tr>\n",
       "      <th>2762</th>\n",
       "      <td>1</td>\n",
       "      <td>45</td>\n",
       "      <td>1.0</td>\n",
       "      <td>1</td>\n",
       "      <td>20.0</td>\n",
       "      <td>0.0</td>\n",
       "      <td>0</td>\n",
       "      <td>0</td>\n",
       "      <td>0</td>\n",
       "      <td>234.0</td>\n",
       "      <td>126.0</td>\n",
       "      <td>80.0</td>\n",
       "      <td>23.14</td>\n",
       "      <td>72.0</td>\n",
       "      <td>88.0</td>\n",
       "      <td>0</td>\n",
       "    </tr>\n",
       "    <tr>\n",
       "      <th>3341</th>\n",
       "      <td>0</td>\n",
       "      <td>59</td>\n",
       "      <td>2.0</td>\n",
       "      <td>1</td>\n",
       "      <td>20.0</td>\n",
       "      <td>0.0</td>\n",
       "      <td>0</td>\n",
       "      <td>1</td>\n",
       "      <td>0</td>\n",
       "      <td>254.0</td>\n",
       "      <td>154.5</td>\n",
       "      <td>93.0</td>\n",
       "      <td>21.82</td>\n",
       "      <td>85.0</td>\n",
       "      <td>89.0</td>\n",
       "      <td>0</td>\n",
       "    </tr>\n",
       "    <tr>\n",
       "      <th>1616</th>\n",
       "      <td>0</td>\n",
       "      <td>41</td>\n",
       "      <td>1.0</td>\n",
       "      <td>0</td>\n",
       "      <td>0.0</td>\n",
       "      <td>NaN</td>\n",
       "      <td>0</td>\n",
       "      <td>0</td>\n",
       "      <td>0</td>\n",
       "      <td>179.0</td>\n",
       "      <td>121.0</td>\n",
       "      <td>83.0</td>\n",
       "      <td>23.04</td>\n",
       "      <td>66.0</td>\n",
       "      <td>90.0</td>\n",
       "      <td>0</td>\n",
       "    </tr>\n",
       "  </tbody>\n",
       "</table>\n",
       "</div>"
      ],
      "text/plain": [
       "      male  age  education  currentSmoker  cigsPerDay  BPMeds  \\\n",
       "3600     0   47        1.0              1        20.0     0.0   \n",
       "897      0   57        3.0              1        20.0     0.0   \n",
       "2762     1   45        1.0              1        20.0     0.0   \n",
       "3341     0   59        2.0              1        20.0     0.0   \n",
       "1616     0   41        1.0              0         0.0     NaN   \n",
       "\n",
       "      prevalentStroke  prevalentHyp  diabetes  totChol  sysBP  diaBP    BMI  \\\n",
       "3600                0             1         0    226.0  122.5   80.0  24.62   \n",
       "897                 0             0         0    200.0  108.0   77.0  18.55   \n",
       "2762                0             0         0    234.0  126.0   80.0  23.14   \n",
       "3341                0             1         0    254.0  154.5   93.0  21.82   \n",
       "1616                0             0         0    179.0  121.0   83.0  23.04   \n",
       "\n",
       "      heartRate  glucose  TenYearCHD  \n",
       "3600       72.0     68.0           0  \n",
       "897        70.0     87.0           0  \n",
       "2762       72.0     88.0           0  \n",
       "3341       85.0     89.0           0  \n",
       "1616       66.0     90.0           0  "
      ]
     },
     "execution_count": 239,
     "metadata": {},
     "output_type": "execute_result"
    }
   ],
   "source": [
    "datos = pd.read_csv(\"data/framingham.csv\")\n",
    "datos.sample(5)"
   ]
  },
  {
   "cell_type": "code",
   "execution_count": 240,
   "metadata": {},
   "outputs": [
    {
     "data": {
      "text/plain": [
       "(4238, 16)"
      ]
     },
     "execution_count": 240,
     "metadata": {},
     "output_type": "execute_result"
    }
   ],
   "source": [
    "datos.shape"
   ]
  },
  {
   "cell_type": "code",
   "execution_count": 241,
   "metadata": {},
   "outputs": [
    {
     "data": {
      "text/plain": [
       "Index(['male', 'age', 'education', 'currentSmoker', 'cigsPerDay', 'BPMeds',\n",
       "       'prevalentStroke', 'prevalentHyp', 'diabetes', 'totChol', 'sysBP',\n",
       "       'diaBP', 'BMI', 'heartRate', 'glucose', 'TenYearCHD'],\n",
       "      dtype='object')"
      ]
     },
     "execution_count": 241,
     "metadata": {},
     "output_type": "execute_result"
    }
   ],
   "source": [
    "datos.columns"
   ]
  },
  {
   "cell_type": "markdown",
   "metadata": {},
   "source": [
    "###  2.2 Cargando el CSV"
   ]
  },
  {
   "cell_type": "code",
   "execution_count": 242,
   "metadata": {},
   "outputs": [
    {
     "name": "stderr",
     "output_type": "stream",
     "text": [
      "Building dataset:  75%|███████▌  | 3/4 [00:00<00:00, 116.25it/s]      ERROR - Exception\n",
      "Traceback (most recent call last):\n",
      "  File \"/home/celis/.local/lib/python3.11/site-packages/ads/common/decorator/runtime_dependency.py\", line 146, in wrapper\n",
      "    _module = importlib.import_module(module)\n",
      "              ^^^^^^^^^^^^^^^^^^^^^^^^^^^^^^^\n",
      "  File \"/usr/lib/python3.11/importlib/__init__.py\", line 126, in import_module\n",
      "    return _bootstrap._gcd_import(name[level:], package, level)\n",
      "           ^^^^^^^^^^^^^^^^^^^^^^^^^^^^^^^^^^^^^^^^^^^^^^^^^^^^\n",
      "  File \"<frozen importlib._bootstrap>\", line 1206, in _gcd_import\n",
      "  File \"<frozen importlib._bootstrap>\", line 1178, in _find_and_load\n",
      "  File \"<frozen importlib._bootstrap>\", line 1142, in _find_and_load_unlocked\n",
      "ModuleNotFoundError: No module named 'datefinder'\n",
      "\n",
      "During handling of the above exception, another exception occurred:\n",
      "\n",
      "Traceback (most recent call last):\n",
      "  File \"/home/celis/.local/lib/python3.11/site-packages/IPython/core/interactiveshell.py\", line 3526, in run_code\n",
      "    exec(code_obj, self.user_global_ns, self.user_ns)\n",
      "  File \"/tmp/ipykernel_1506/3886500887.py\", line 3, in <module>\n",
      "    ds = DatasetFactory.open('data/framingham.csv', target='TenYearCHD')\n",
      "         ^^^^^^^^^^^^^^^^^^^^^^^^^^^^^^^^^^^^^^^^^^^^^^^^^^^^^^^^^^^^^^^\n",
      "  File \"/home/celis/.local/lib/python3.11/site-packages/ads/common/decorator/deprecate.py\", line 65, in wrapper\n",
      "    return target(*args, **kwargs)\n",
      "           ^^^^^^^^^^^^^^^^^^^^^^^\n",
      "  File \"/home/celis/.local/lib/python3.11/site-packages/ads/dataset/factory.py\", line 222, in open\n",
      "    return DatasetFactory._build_dataset(\n",
      "           ^^^^^^^^^^^^^^^^^^^^^^^^^^^^^^\n",
      "  File \"/home/celis/.local/lib/python3.11/site-packages/ads/dataset/factory.py\", line 557, in _build_dataset\n",
      "    target_type = DatasetFactory.infer_target_type(\n",
      "                  ^^^^^^^^^^^^^^^^^^^^^^^^^^^^^^^^^\n",
      "  File \"/home/celis/.local/lib/python3.11/site-packages/ads/dataset/factory.py\", line 580, in infer_target_type\n",
      "    target_type = TypeDiscoveryDriver().discover(\n",
      "                  ^^^^^^^^^^^^^^^^^^^^^^^^^^^^^^^\n",
      "  File \"/home/celis/.local/lib/python3.11/site-packages/ads/type_discovery/type_discovery_driver.py\", line 85, in discover\n",
      "    return utils.first_not_none(\n",
      "           ^^^^^^^^^^^^^^^^^^^^^\n",
      "  File \"/home/celis/.local/lib/python3.11/site-packages/ads/common/utils.py\", line 661, in first_not_none\n",
      "    for x in itr:\n",
      "  File \"/home/celis/.local/lib/python3.11/site-packages/ads/type_discovery/type_discovery_driver.py\", line 86, in <genexpr>\n",
      "    (plugin.discover(name, s) for plugin in discovery_plugins)\n",
      "     ^^^^^^^^^^^^^^^^^^^^^^^^\n",
      "  File \"/home/celis/.local/lib/python3.11/site-packages/ads/type_discovery/datetime_detector.py\", line 53, in discover\n",
      "    fn = self._is_date_time(name, candidates.head(500), series.dtype.name)\n",
      "         ^^^^^^^^^^^^^^^^^^^^^^^^^^^^^^^^^^^^^^^^^^^^^^^^^^^^^^^^^^^^^^^^^\n",
      "  File \"/home/celis/.local/lib/python3.11/site-packages/ads/common/decorator/runtime_dependency.py\", line 163, in wrapper\n",
      "    raise ModuleNotFoundError(\n",
      "ModuleNotFoundError: The `datefinder` module was not found. Please run `pip install oracle-ads[data]`.\n",
      "ModuleNotFoundError: The `datefinder` module was not found. Please run `pip install oracle-ads[data]`."
     ]
    }
   ],
   "source": [
    "from ads.dataset.factory import DatasetFactory\n",
    "\n",
    "ds = DatasetFactory.open('data/framingham.csv', target='TenYearCHD')\n",
    "ds.head()"
   ]
  },
  {
   "cell_type": "code",
   "execution_count": 243,
   "metadata": {},
   "outputs": [
    {
     "name": "stderr",
     "output_type": "stream",
     "text": [
      "ERROR - Exception\n",
      "Traceback (most recent call last):\n",
      "  File \"/home/celis/.local/lib/python3.11/site-packages/IPython/core/interactiveshell.py\", line 3526, in run_code\n",
      "    exec(code_obj, self.user_global_ns, self.user_ns)\n",
      "  File \"/tmp/ipykernel_1506/3745045631.py\", line 1, in <module>\n",
      "    type(ds)\n",
      "         ^^\n",
      "NameError: name 'ds' is not defined\n",
      "NameError: name 'ds' is not defined"
     ]
    }
   ],
   "source": [
    "type(ds)"
   ]
  },
  {
   "cell_type": "code",
   "execution_count": 244,
   "metadata": {},
   "outputs": [
    {
     "data": {
      "text/plain": [
       "pandas.core.frame.DataFrame"
      ]
     },
     "execution_count": 244,
     "metadata": {},
     "output_type": "execute_result"
    }
   ],
   "source": [
    "type(datos)"
   ]
  },
  {
   "cell_type": "code",
   "execution_count": 245,
   "metadata": {},
   "outputs": [
    {
     "name": "stderr",
     "output_type": "stream",
     "text": [
      "ERROR - Exception\n",
      "Traceback (most recent call last):\n",
      "  File \"/home/celis/.local/lib/python3.11/site-packages/IPython/core/interactiveshell.py\", line 3526, in run_code\n",
      "    exec(code_obj, self.user_global_ns, self.user_ns)\n",
      "  File \"/tmp/ipykernel_1506/1656581057.py\", line 1, in <module>\n",
      "    ds.columns\n",
      "    ^^\n",
      "NameError: name 'ds' is not defined\n",
      "NameError: name 'ds' is not defined"
     ]
    }
   ],
   "source": [
    "ds.columns"
   ]
  },
  {
   "cell_type": "code",
   "execution_count": 246,
   "metadata": {},
   "outputs": [
    {
     "name": "stderr",
     "output_type": "stream",
     "text": [
      "                                                                \r"
     ]
    }
   ],
   "source": [
    "dict_ing_esp = {\n",
    "    \"male\":\"sexo\",\n",
    "    \"age\":\"edad\",\n",
    "    \"education\":\"escolaridad\",\n",
    "    \"currentSmoker\":\"fumador\",\n",
    "    \"cigsPerDay\":\"cigarrillos_por_dia\",\n",
    "    \"BPMeds\":\"uso_medicamentos_presion\",\n",
    "    \"prevalentStroke\":\"acv\",\n",
    "    \"prevalentHyp\":\"hipertension\",\n",
    "    \"diabetes\":\"diabetes\",\n",
    "    \"totChol\":\"colesterol_total\",\n",
    "    \"sysBP\":\"presion_arterial_sistolica\",\n",
    "    \"diaBP\":\"presion_arterial_diastolica\",\n",
    "    \"BMI\":\"imc\",\n",
    "    \"heartRate\":\"fracuencia_cardiaca\",\n",
    "    \"glucose\":\"glicemia\",\n",
    "    \"TenYearCHD\":\"riesgo_eac_decada\"\n",
    "}"
   ]
  },
  {
   "cell_type": "code",
   "execution_count": 247,
   "metadata": {},
   "outputs": [
    {
     "name": "stderr",
     "output_type": "stream",
     "text": [
      "ERROR - Exception\n",
      "Traceback (most recent call last):\n",
      "  File \"/home/celis/.local/lib/python3.11/site-packages/IPython/core/interactiveshell.py\", line 3526, in run_code\n",
      "    exec(code_obj, self.user_global_ns, self.user_ns)\n",
      "  File \"/tmp/ipykernel_1506/3957733278.py\", line 1, in <module>\n",
      "    ds = ds.rename_columns(columns=dict_ing_esp)\n",
      "         ^^\n",
      "NameError: name 'ds' is not defined\n",
      "NameError: name 'ds' is not defined"
     ]
    }
   ],
   "source": [
    "ds = ds.rename_columns(columns=dict_ing_esp)"
   ]
  },
  {
   "cell_type": "code",
   "execution_count": 248,
   "metadata": {},
   "outputs": [
    {
     "name": "stderr",
     "output_type": "stream",
     "text": [
      "ERROR - Exception\n",
      "Traceback (most recent call last):\n",
      "  File \"/home/celis/.local/lib/python3.11/site-packages/IPython/core/interactiveshell.py\", line 3526, in run_code\n",
      "    exec(code_obj, self.user_global_ns, self.user_ns)\n",
      "  File \"/tmp/ipykernel_1506/1656581057.py\", line 1, in <module>\n",
      "    ds.columns\n",
      "    ^^\n",
      "NameError: name 'ds' is not defined\n",
      "NameError: name 'ds' is not defined"
     ]
    }
   ],
   "source": [
    "ds.columns"
   ]
  },
  {
   "cell_type": "code",
   "execution_count": 249,
   "metadata": {},
   "outputs": [
    {
     "name": "stderr",
     "output_type": "stream",
     "text": [
      "ERROR - Exception\n",
      "Traceback (most recent call last):\n",
      "  File \"/home/celis/.local/lib/python3.11/site-packages/IPython/core/interactiveshell.py\", line 3526, in run_code\n",
      "    exec(code_obj, self.user_global_ns, self.user_ns)\n",
      "  File \"/tmp/ipykernel_1506/1533807045.py\", line 1, in <module>\n",
      "    ds.head()\n",
      "    ^^\n",
      "NameError: name 'ds' is not defined\n",
      "NameError: name 'ds' is not defined"
     ]
    }
   ],
   "source": [
    "ds.head()"
   ]
  },
  {
   "cell_type": "code",
   "execution_count": 250,
   "metadata": {},
   "outputs": [
    {
     "name": "stderr",
     "output_type": "stream",
     "text": [
      "ERROR - Exception\n",
      "Traceback (most recent call last):\n",
      "  File \"/home/celis/.local/lib/python3.11/site-packages/IPython/core/interactiveshell.py\", line 3526, in run_code\n",
      "    exec(code_obj, self.user_global_ns, self.user_ns)\n",
      "  File \"/tmp/ipykernel_1506/1171898772.py\", line 1, in <module>\n",
      "    ds = ds.drop_columns(\"escolaridad\")\n",
      "         ^^\n",
      "NameError: name 'ds' is not defined\n",
      "NameError: name 'ds' is not defined"
     ]
    }
   ],
   "source": [
    "ds = ds.drop_columns(\"escolaridad\")"
   ]
  },
  {
   "cell_type": "code",
   "execution_count": 251,
   "metadata": {},
   "outputs": [
    {
     "name": "stderr",
     "output_type": "stream",
     "text": [
      "ERROR - Exception\n",
      "Traceback (most recent call last):\n",
      "  File \"/home/celis/.local/lib/python3.11/site-packages/IPython/core/interactiveshell.py\", line 3526, in run_code\n",
      "    exec(code_obj, self.user_global_ns, self.user_ns)\n",
      "  File \"/tmp/ipykernel_1506/1656581057.py\", line 1, in <module>\n",
      "    ds.columns\n",
      "    ^^\n",
      "NameError: name 'ds' is not defined\n",
      "NameError: name 'ds' is not defined"
     ]
    }
   ],
   "source": [
    "ds.columns"
   ]
  },
  {
   "cell_type": "markdown",
   "metadata": {},
   "source": [
    "### 2.3 Creando un ADS DataFreme"
   ]
  },
  {
   "cell_type": "code",
   "execution_count": 252,
   "metadata": {},
   "outputs": [
    {
     "name": "stderr",
     "output_type": "stream",
     "text": [
      "ERROR - Exception\n",
      "Traceback (most recent call last):\n",
      "  File \"/home/celis/.local/lib/python3.11/site-packages/IPython/core/interactiveshell.py\", line 3526, in run_code\n",
      "    exec(code_obj, self.user_global_ns, self.user_ns)\n",
      "  File \"/tmp/ipykernel_1506/3755559537.py\", line 1, in <module>\n",
      "    ds.summary()\n",
      "    ^^\n",
      "NameError: name 'ds' is not defined\n",
      "NameError: name 'ds' is not defined"
     ]
    }
   ],
   "source": [
    "ds.summary()"
   ]
  },
  {
   "cell_type": "code",
   "execution_count": 253,
   "metadata": {},
   "outputs": [
    {
     "name": "stderr",
     "output_type": "stream",
     "text": [
      "ERROR - Exception\n",
      "Traceback (most recent call last):\n",
      "  File \"/home/celis/.local/lib/python3.11/site-packages/IPython/core/interactiveshell.py\", line 3526, in run_code\n",
      "    exec(code_obj, self.user_global_ns, self.user_ns)\n",
      "  File \"/tmp/ipykernel_1506/649199912.py\", line 1, in <module>\n",
      "    ds.cigarrillos_por_dia.unique()\n",
      "    ^^\n",
      "NameError: name 'ds' is not defined\n",
      "NameError: name 'ds' is not defined"
     ]
    }
   ],
   "source": [
    "ds.cigarrillos_por_dia.unique()"
   ]
  },
  {
   "cell_type": "code",
   "execution_count": 254,
   "metadata": {},
   "outputs": [
    {
     "name": "stderr",
     "output_type": "stream",
     "text": [
      "ERROR - Exception\n",
      "Traceback (most recent call last):\n",
      "  File \"/home/celis/.local/lib/python3.11/site-packages/IPython/core/interactiveshell.py\", line 3526, in run_code\n",
      "    exec(code_obj, self.user_global_ns, self.user_ns)\n",
      "  File \"/tmp/ipykernel_1506/4173944523.py\", line 1, in <module>\n",
      "    ds.isnull().sum()\n",
      "    ^^\n",
      "NameError: name 'ds' is not defined\n",
      "NameError: name 'ds' is not defined"
     ]
    }
   ],
   "source": [
    "ds.isnull().sum()"
   ]
  },
  {
   "cell_type": "code",
   "execution_count": 255,
   "metadata": {},
   "outputs": [
    {
     "name": "stderr",
     "output_type": "stream",
     "text": [
      "ERROR - Exception\n",
      "Traceback (most recent call last):\n",
      "  File \"/home/celis/.local/lib/python3.11/site-packages/IPython/core/interactiveshell.py\", line 3526, in run_code\n",
      "    exec(code_obj, self.user_global_ns, self.user_ns)\n",
      "  File \"/tmp/ipykernel_1506/2675472459.py\", line 1, in <module>\n",
      "    seleccion_correctos = ds.cigarrilos_por_dia.notnull()\n",
      "                          ^^\n",
      "NameError: name 'ds' is not defined\n",
      "NameError: name 'ds' is not defined"
     ]
    }
   ],
   "source": [
    "seleccion_correctos = ds.cigarrilos_por_dia.notnull()"
   ]
  },
  {
   "cell_type": "code",
   "execution_count": 256,
   "metadata": {},
   "outputs": [
    {
     "name": "stderr",
     "output_type": "stream",
     "text": [
      "ERROR - Exception\n",
      "Traceback (most recent call last):\n",
      "  File \"/home/celis/.local/lib/python3.11/site-packages/IPython/core/interactiveshell.py\", line 3526, in run_code\n",
      "    exec(code_obj, self.user_global_ns, self.user_ns)\n",
      "  File \"/tmp/ipykernel_1506/516690611.py\", line 1, in <module>\n",
      "    ds = ds[seleccion_correctos]\n",
      "         ^^\n",
      "NameError: name 'ds' is not defined\n",
      "NameError: name 'ds' is not defined"
     ]
    }
   ],
   "source": [
    "ds = ds[seleccion_correctos]"
   ]
  },
  {
   "cell_type": "code",
   "execution_count": 257,
   "metadata": {},
   "outputs": [
    {
     "name": "stderr",
     "output_type": "stream",
     "text": [
      "ERROR - Exception\n",
      "Traceback (most recent call last):\n",
      "  File \"/home/celis/.local/lib/python3.11/site-packages/IPython/core/interactiveshell.py\", line 3526, in run_code\n",
      "    exec(code_obj, self.user_global_ns, self.user_ns)\n",
      "  File \"/tmp/ipykernel_1506/4173944523.py\", line 1, in <module>\n",
      "    ds.isnull().sum()\n",
      "    ^^\n",
      "NameError: name 'ds' is not defined\n",
      "NameError: name 'ds' is not defined"
     ]
    }
   ],
   "source": [
    "ds.isnull().sum()"
   ]
  },
  {
   "cell_type": "code",
   "execution_count": 258,
   "metadata": {},
   "outputs": [
    {
     "name": "stderr",
     "output_type": "stream",
     "text": [
      "ERROR - Exception\n",
      "Traceback (most recent call last):\n",
      "  File \"/home/celis/.local/lib/python3.11/site-packages/IPython/core/interactiveshell.py\", line 3526, in run_code\n",
      "    exec(code_obj, self.user_global_ns, self.user_ns)\n",
      "  File \"/tmp/ipykernel_1506/2374905155.py\", line 1, in <module>\n",
      "    ds = ds[ds.uso_medicamento_presion.notnull()]\n",
      "         ^^\n",
      "NameError: name 'ds' is not defined\n",
      "NameError: name 'ds' is not defined"
     ]
    }
   ],
   "source": [
    "ds = ds[ds.uso_medicamento_presion.notnull()]\n",
    "ds = ds[ds.colesterol_total.notnull()]\n",
    "ds = ds[ds.imc.notnull()]\n",
    "ds = ds[ds.frecuencia_cardiaca.notnull()]"
   ]
  },
  {
   "cell_type": "code",
   "execution_count": 259,
   "metadata": {},
   "outputs": [
    {
     "name": "stderr",
     "output_type": "stream",
     "text": [
      "ERROR - Exception\n",
      "Traceback (most recent call last):\n",
      "  File \"/home/celis/.local/lib/python3.11/site-packages/IPython/core/interactiveshell.py\", line 3526, in run_code\n",
      "    exec(code_obj, self.user_global_ns, self.user_ns)\n",
      "  File \"/tmp/ipykernel_1506/4173944523.py\", line 1, in <module>\n",
      "    ds.isnull().sum()\n",
      "    ^^\n",
      "NameError: name 'ds' is not defined\n",
      "NameError: name 'ds' is not defined"
     ]
    }
   ],
   "source": [
    "ds.isnull().sum()"
   ]
  },
  {
   "cell_type": "markdown",
   "metadata": {},
   "source": [
    "### 2.4 Tratamiento de datos faltantes"
   ]
  },
  {
   "cell_type": "code",
   "execution_count": 260,
   "metadata": {},
   "outputs": [
    {
     "name": "stderr",
     "output_type": "stream",
     "text": [
      "ERROR - Exception\n",
      "Traceback (most recent call last):\n",
      "  File \"/home/celis/.local/lib/python3.11/site-packages/IPython/core/interactiveshell.py\", line 3526, in run_code\n",
      "    exec(code_obj, self.user_global_ns, self.user_ns)\n",
      "  File \"/tmp/ipykernel_1506/542771762.py\", line 1, in <module>\n",
      "    personas_con_diabetes = ds[ds.diabetes == 1]\n",
      "                            ^^\n",
      "NameError: name 'ds' is not defined\n",
      "NameError: name 'ds' is not defined"
     ]
    }
   ],
   "source": [
    "personas_con_diabetes = ds[ds.diabetes == 1]"
   ]
  },
  {
   "cell_type": "code",
   "execution_count": 261,
   "metadata": {},
   "outputs": [
    {
     "name": "stderr",
     "output_type": "stream",
     "text": [
      "ERROR - Exception\n",
      "Traceback (most recent call last):\n",
      "  File \"/home/celis/.local/lib/python3.11/site-packages/IPython/core/interactiveshell.py\", line 3526, in run_code\n",
      "    exec(code_obj, self.user_global_ns, self.user_ns)\n",
      "  File \"/tmp/ipykernel_1506/3487947662.py\", line 1, in <module>\n",
      "    personas_con_diabetes = ds[ds.diabetes == 0]\n",
      "                            ^^\n",
      "NameError: name 'ds' is not defined\n",
      "NameError: name 'ds' is not defined"
     ]
    }
   ],
   "source": [
    "personas_con_diabetes = ds[ds.diabetes == 0]"
   ]
  },
  {
   "cell_type": "code",
   "execution_count": 262,
   "metadata": {},
   "outputs": [
    {
     "name": "stderr",
     "output_type": "stream",
     "text": [
      "ERROR - Exception\n",
      "Traceback (most recent call last):\n",
      "  File \"/home/celis/.local/lib/python3.11/site-packages/IPython/core/interactiveshell.py\", line 3526, in run_code\n",
      "    exec(code_obj, self.user_global_ns, self.user_ns)\n",
      "  File \"/tmp/ipykernel_1506/637862614.py\", line 1, in <module>\n",
      "    personas_con_diabetes.glicemia.head()\n",
      "    ^^^^^^^^^^^^^^^^^^^^^\n",
      "NameError: name 'personas_con_diabetes' is not defined\n",
      "NameError: name 'personas_con_diabetes' is not defined"
     ]
    }
   ],
   "source": [
    "personas_con_diabetes.glicemia.head()"
   ]
  },
  {
   "cell_type": "code",
   "execution_count": 263,
   "metadata": {},
   "outputs": [
    {
     "name": "stderr",
     "output_type": "stream",
     "text": [
      "ERROR - Exception\n",
      "Traceback (most recent call last):\n",
      "  File \"/home/celis/.local/lib/python3.11/site-packages/IPython/core/interactiveshell.py\", line 3526, in run_code\n",
      "    exec(code_obj, self.user_global_ns, self.user_ns)\n",
      "  File \"/tmp/ipykernel_1506/1348248839.py\", line 1, in <module>\n",
      "    personas_sin_diabetes.glicemia.mean()\n",
      "    ^^^^^^^^^^^^^^^^^^^^^\n",
      "NameError: name 'personas_sin_diabetes' is not defined\n",
      "NameError: name 'personas_sin_diabetes' is not defined"
     ]
    }
   ],
   "source": [
    "personas_sin_diabetes.glicemia.mean()"
   ]
  },
  {
   "cell_type": "code",
   "execution_count": 264,
   "metadata": {},
   "outputs": [
    {
     "name": "stderr",
     "output_type": "stream",
     "text": [
      "ERROR - Exception\n",
      "Traceback (most recent call last):\n",
      "  File \"/home/celis/.local/lib/python3.11/site-packages/IPython/core/interactiveshell.py\", line 3526, in run_code\n",
      "    exec(code_obj, self.user_global_ns, self.user_ns)\n",
      "  File \"/tmp/ipykernel_1506/1161362366.py\", line 1, in <module>\n",
      "    ds.glicemia.describe()\n",
      "    ^^\n",
      "NameError: name 'ds' is not defined\n",
      "NameError: name 'ds' is not defined"
     ]
    }
   ],
   "source": [
    "ds.glicemia.describe()"
   ]
  },
  {
   "cell_type": "code",
   "execution_count": 265,
   "metadata": {},
   "outputs": [
    {
     "name": "stderr",
     "output_type": "stream",
     "text": [
      "ERROR - Exception\n",
      "Traceback (most recent call last):\n",
      "  File \"/home/celis/.local/lib/python3.11/site-packages/IPython/core/interactiveshell.py\", line 3526, in run_code\n",
      "    exec(code_obj, self.user_global_ns, self.user_ns)\n",
      "  File \"/tmp/ipykernel_1506/80078867.py\", line 1, in <module>\n",
      "    ds.diabetes.value_counts(normalize= True)\n",
      "    ^^\n",
      "NameError: name 'ds' is not defined\n",
      "NameError: name 'ds' is not defined"
     ]
    }
   ],
   "source": [
    "ds.diabetes.value_counts(normalize= True)"
   ]
  },
  {
   "cell_type": "code",
   "execution_count": 266,
   "metadata": {},
   "outputs": [
    {
     "name": "stderr",
     "output_type": "stream",
     "text": [
      "ERROR - Exception\n",
      "Traceback (most recent call last):\n",
      "  File \"/home/celis/.local/lib/python3.11/site-packages/IPython/core/interactiveshell.py\", line 3526, in run_code\n",
      "    exec(code_obj, self.user_global_ns, self.user_ns)\n",
      "  File \"/tmp/ipykernel_1506/2730076443.py\", line 3, in <module>\n",
      "    ax = sns.distplot(personas_con_diabetes.glicemia, norm_hist = False)\n",
      "                      ^^^^^^^^^^^^^^^^^^^^^\n",
      "NameError: name 'personas_con_diabetes' is not defined\n",
      "NameError: name 'personas_con_diabetes' is not defined"
     ]
    }
   ],
   "source": [
    "import seaborn as sns\n",
    "\n",
    "ax = sns.distplot(personas_con_diabetes.glicemia, norm_hist = False)\n",
    "ax.set_xlim(0, 400)"
   ]
  },
  {
   "cell_type": "code",
   "execution_count": 267,
   "metadata": {},
   "outputs": [
    {
     "name": "stderr",
     "output_type": "stream",
     "text": [
      "ERROR - Exception\n",
      "Traceback (most recent call last):\n",
      "  File \"/home/celis/.local/lib/python3.11/site-packages/IPython/core/interactiveshell.py\", line 3526, in run_code\n",
      "    exec(code_obj, self.user_global_ns, self.user_ns)\n",
      "  File \"/tmp/ipykernel_1506/46021260.py\", line 1, in <module>\n",
      "    ax = sns.distplot(personas_sin_diabetes.glicemia, norm_hist = False)\n",
      "                      ^^^^^^^^^^^^^^^^^^^^^\n",
      "NameError: name 'personas_sin_diabetes' is not defined\n",
      "NameError: name 'personas_sin_diabetes' is not defined"
     ]
    }
   ],
   "source": [
    "ax = sns.distplot(personas_sin_diabetes.glicemia, norm_hist = False)\n",
    "ax.set_xlim(25, 400)"
   ]
  },
  {
   "cell_type": "code",
   "execution_count": 268,
   "metadata": {},
   "outputs": [
    {
     "name": "stderr",
     "output_type": "stream",
     "text": [
      "ERROR - Exception\n",
      "Traceback (most recent call last):\n",
      "  File \"/home/celis/.local/lib/python3.11/site-packages/IPython/core/interactiveshell.py\", line 3526, in run_code\n",
      "    exec(code_obj, self.user_global_ns, self.user_ns)\n",
      "  File \"/tmp/ipykernel_1506/1359531828.py\", line 1, in <module>\n",
      "    nulos = ds.glicemia.isnull()\n",
      "            ^^\n",
      "NameError: name 'ds' is not defined\n",
      "NameError: name 'ds' is not defined"
     ]
    }
   ],
   "source": [
    "nulos = ds.glicemia.isnull()"
   ]
  },
  {
   "cell_type": "code",
   "execution_count": 269,
   "metadata": {},
   "outputs": [
    {
     "name": "stderr",
     "output_type": "stream",
     "text": [
      "ERROR - Exception\n",
      "Traceback (most recent call last):\n",
      "  File \"/home/celis/.local/lib/python3.11/site-packages/IPython/core/interactiveshell.py\", line 3526, in run_code\n",
      "    exec(code_obj, self.user_global_ns, self.user_ns)\n",
      "  File \"/tmp/ipykernel_1506/3457897255.py\", line 1, in <module>\n",
      "    ds[nulos].diabetes.value_counts()\n",
      "    ^^\n",
      "NameError: name 'ds' is not defined\n",
      "NameError: name 'ds' is not defined"
     ]
    }
   ],
   "source": [
    "ds[nulos].diabetes.value_counts()"
   ]
  },
  {
   "cell_type": "code",
   "execution_count": 270,
   "metadata": {},
   "outputs": [
    {
     "name": "stderr",
     "output_type": "stream",
     "text": [
      "ERROR - Exception\n",
      "Traceback (most recent call last):\n",
      "  File \"/home/celis/.local/lib/python3.11/site-packages/IPython/core/interactiveshell.py\", line 3526, in run_code\n",
      "    exec(code_obj, self.user_global_ns, self.user_ns)\n",
      "  File \"/tmp/ipykernel_1506/3581963833.py\", line 1, in <module>\n",
      "    ds.glicemia.mean()\n",
      "    ^^\n",
      "NameError: name 'ds' is not defined\n",
      "NameError: name 'ds' is not defined"
     ]
    }
   ],
   "source": [
    "ds.glicemia.mean()"
   ]
  },
  {
   "cell_type": "code",
   "execution_count": 271,
   "metadata": {},
   "outputs": [
    {
     "name": "stderr",
     "output_type": "stream",
     "text": [
      "ERROR - Exception\n",
      "Traceback (most recent call last):\n",
      "  File \"/home/celis/.local/lib/python3.11/site-packages/IPython/core/interactiveshell.py\", line 3526, in run_code\n",
      "    exec(code_obj, self.user_global_ns, self.user_ns)\n",
      "  File \"/tmp/ipykernel_1506/350858424.py\", line 1, in <module>\n",
      "    ds.fillna({\"glicemia\":81.8}, inplace=True)\n",
      "    ^^\n",
      "NameError: name 'ds' is not defined\n",
      "NameError: name 'ds' is not defined"
     ]
    }
   ],
   "source": [
    "ds.fillna({\"glicemia\":81.8}, inplace=True)"
   ]
  },
  {
   "cell_type": "code",
   "execution_count": 272,
   "metadata": {},
   "outputs": [
    {
     "name": "stderr",
     "output_type": "stream",
     "text": [
      "ERROR - Exception\n",
      "Traceback (most recent call last):\n",
      "  File \"/home/celis/.local/lib/python3.11/site-packages/IPython/core/interactiveshell.py\", line 3526, in run_code\n",
      "    exec(code_obj, self.user_global_ns, self.user_ns)\n",
      "  File \"/tmp/ipykernel_1506/4173944523.py\", line 1, in <module>\n",
      "    ds.isnull().sum()\n",
      "    ^^\n",
      "NameError: name 'ds' is not defined\n",
      "NameError: name 'ds' is not defined"
     ]
    }
   ],
   "source": [
    "ds.isnull().sum()"
   ]
  },
  {
   "cell_type": "code",
   "execution_count": 273,
   "metadata": {},
   "outputs": [
    {
     "name": "stderr",
     "output_type": "stream",
     "text": [
      "ERROR - Exception\n",
      "Traceback (most recent call last):\n",
      "  File \"/home/celis/.local/lib/python3.11/site-packages/IPython/core/interactiveshell.py\", line 3526, in run_code\n",
      "    exec(code_obj, self.user_global_ns, self.user_ns)\n",
      "  File \"/tmp/ipykernel_1506/3515956873.py\", line 1, in <module>\n",
      "    ds.shape\n",
      "    ^^\n",
      "NameError: name 'ds' is not defined\n",
      "NameError: name 'ds' is not defined"
     ]
    }
   ],
   "source": [
    "ds.shape"
   ]
  },
  {
   "cell_type": "code",
   "execution_count": 274,
   "metadata": {},
   "outputs": [
    {
     "name": "stderr",
     "output_type": "stream",
     "text": [
      "ERROR - Exception\n",
      "Traceback (most recent call last):\n",
      "  File \"/home/celis/.local/lib/python3.11/site-packages/IPython/core/interactiveshell.py\", line 3526, in run_code\n",
      "    exec(code_obj, self.user_global_ns, self.user_ns)\n",
      "  File \"/tmp/ipykernel_1506/3193324727.py\", line 1, in <module>\n",
      "    ds = ds.astype(types={\"cigarrillos_por_dia\":\"int6\"})\n",
      "         ^^\n",
      "NameError: name 'ds' is not defined\n",
      "NameError: name 'ds' is not defined"
     ]
    }
   ],
   "source": [
    "ds = ds.astype(types={\"cigarrillos_por_dia\":\"int6\"})"
   ]
  },
  {
   "cell_type": "code",
   "execution_count": 275,
   "metadata": {},
   "outputs": [
    {
     "name": "stderr",
     "output_type": "stream",
     "text": [
      "ERROR - Exception\n",
      "Traceback (most recent call last):\n",
      "  File \"/home/celis/.local/lib/python3.11/site-packages/IPython/core/interactiveshell.py\", line 3526, in run_code\n",
      "    exec(code_obj, self.user_global_ns, self.user_ns)\n",
      "  File \"/tmp/ipykernel_1506/1649330165.py\", line 1, in <module>\n",
      "    ds = ds.astype(types={\"uso_medicamento_presion\":\"int6\"})\n",
      "         ^^\n",
      "NameError: name 'ds' is not defined\n",
      "NameError: name 'ds' is not defined"
     ]
    }
   ],
   "source": [
    "ds = ds.astype(types={\"uso_medicamento_presion\":\"int6\"})"
   ]
  },
  {
   "cell_type": "code",
   "execution_count": 276,
   "metadata": {},
   "outputs": [
    {
     "name": "stderr",
     "output_type": "stream",
     "text": [
      "ERROR - Exception\n",
      "Traceback (most recent call last):\n",
      "  File \"/home/celis/.local/lib/python3.11/site-packages/IPython/core/interactiveshell.py\", line 3526, in run_code\n",
      "    exec(code_obj, self.user_global_ns, self.user_ns)\n",
      "  File \"/tmp/ipykernel_1506/3755559537.py\", line 1, in <module>\n",
      "    ds.summary()\n",
      "    ^^\n",
      "NameError: name 'ds' is not defined\n",
      "NameError: name 'ds' is not defined"
     ]
    }
   ],
   "source": [
    "ds.summary()"
   ]
  },
  {
   "cell_type": "markdown",
   "metadata": {},
   "source": [
    "### 3.2 Ejecutando transformaciones"
   ]
  },
  {
   "cell_type": "code",
   "execution_count": 277,
   "metadata": {},
   "outputs": [
    {
     "name": "stderr",
     "output_type": "stream",
     "text": [
      "ERROR - Exception\n",
      "Traceback (most recent call last):\n",
      "  File \"/home/celis/.local/lib/python3.11/site-packages/IPython/core/interactiveshell.py\", line 3526, in run_code\n",
      "    exec(code_obj, self.user_global_ns, self.user_ns)\n",
      "  File \"/tmp/ipykernel_1506/2418657374.py\", line 1, in <module>\n",
      "    ds.cigarrillos_por_dia.describe()\n",
      "    ^^\n",
      "NameError: name 'ds' is not defined\n",
      "NameError: name 'ds' is not defined"
     ]
    }
   ],
   "source": [
    "ds.cigarrillos_por_dia.describe()"
   ]
  },
  {
   "cell_type": "code",
   "execution_count": 278,
   "metadata": {},
   "outputs": [
    {
     "name": "stderr",
     "output_type": "stream",
     "text": [
      "ERROR - Exception\n",
      "Traceback (most recent call last):\n",
      "  File \"/home/celis/.local/lib/python3.11/site-packages/IPython/core/interactiveshell.py\", line 3526, in run_code\n",
      "    exec(code_obj, self.user_global_ns, self.user_ns)\n",
      "  File \"/tmp/ipykernel_1506/2968172435.py\", line 1, in <module>\n",
      "    ax = sns.distplot(ds.cigarrilos_por_dia, norm_hist=False)\n",
      "                      ^^\n",
      "NameError: name 'ds' is not defined\n",
      "NameError: name 'ds' is not defined"
     ]
    }
   ],
   "source": [
    "ax = sns.distplot(ds.cigarrilos_por_dia, norm_hist=False)\n",
    "ax.set_xlim(0, 70)"
   ]
  },
  {
   "cell_type": "code",
   "execution_count": 279,
   "metadata": {},
   "outputs": [
    {
     "name": "stderr",
     "output_type": "stream",
     "text": [
      "ERROR - Exception\n",
      "Traceback (most recent call last):\n",
      "  File \"/home/celis/.local/lib/python3.11/site-packages/IPython/core/interactiveshell.py\", line 3526, in run_code\n",
      "    exec(code_obj, self.user_global_ns, self.user_ns)\n",
      "  File \"/tmp/ipykernel_1506/4081449395.py\", line 1, in <module>\n",
      "    ds.fumador.value_counts()\n",
      "    ^^\n",
      "NameError: name 'ds' is not defined\n",
      "NameError: name 'ds' is not defined"
     ]
    }
   ],
   "source": [
    "ds.fumador.value_counts()"
   ]
  },
  {
   "cell_type": "code",
   "execution_count": 280,
   "metadata": {},
   "outputs": [
    {
     "name": "stderr",
     "output_type": "stream",
     "text": [
      "ERROR - Exception\n",
      "Traceback (most recent call last):\n",
      "  File \"/home/celis/.local/lib/python3.11/site-packages/IPython/core/interactiveshell.py\", line 3526, in run_code\n",
      "    exec(code_obj, self.user_global_ns, self.user_ns)\n",
      "  File \"/tmp/ipykernel_1506/3832494345.py\", line 1, in <module>\n",
      "    sns.boxplot(ds.cigarrillos_por_dia)\n",
      "                ^^\n",
      "NameError: name 'ds' is not defined\n",
      "NameError: name 'ds' is not defined"
     ]
    }
   ],
   "source": [
    "sns.boxplot(ds.cigarrillos_por_dia)"
   ]
  },
  {
   "cell_type": "code",
   "execution_count": 281,
   "metadata": {},
   "outputs": [
    {
     "name": "stderr",
     "output_type": "stream",
     "text": [
      "ERROR - Exception\n",
      "Traceback (most recent call last):\n",
      "  File \"/home/celis/.local/lib/python3.11/site-packages/IPython/core/interactiveshell.py\", line 3526, in run_code\n",
      "    exec(code_obj, self.user_global_ns, self.user_ns)\n",
      "  File \"/tmp/ipykernel_1506/2691511579.py\", line 1, in <module>\n",
      "    ds.cigarrillos_por_dia.mean()\n",
      "    ^^\n",
      "NameError: name 'ds' is not defined\n",
      "NameError: name 'ds' is not defined"
     ]
    }
   ],
   "source": [
    "ds.cigarrillos_por_dia.mean()"
   ]
  },
  {
   "cell_type": "markdown",
   "metadata": {},
   "source": [
    "Definiendo las categorías de acuerdo con la cantidad de cigarrillos consumidos por día:\n",
    "\n",
    "\t0 - no fumador;\n",
    "    \n",
    "\t1 - fumador leve (1 a 10 cigarrillos por día);\n",
    "    \n",
    "\t2 - fumador moderado (11 a 20 cigarrillos por día);\n",
    "    \n",
    "\t3 - fumador severo (más de 20 cigarrillos por día)."
   ]
  },
  {
   "cell_type": "code",
   "execution_count": 282,
   "metadata": {},
   "outputs": [],
   "source": [
    "categorias = [0, 1, 2, 3]\n",
    "limites = [-1, 1, 11, 21, 71]"
   ]
  },
  {
   "cell_type": "code",
   "execution_count": 283,
   "metadata": {},
   "outputs": [
    {
     "name": "stderr",
     "output_type": "stream",
     "text": [
      "ERROR - Exception\n",
      "Traceback (most recent call last):\n",
      "  File \"/home/celis/.local/lib/python3.11/site-packages/IPython/core/interactiveshell.py\", line 3526, in run_code\n",
      "    exec(code_obj, self.user_global_ns, self.user_ns)\n",
      "  File \"/tmp/ipykernel_1506/3940097044.py\", line 1, in <module>\n",
      "    categoria_de_fumador = pd.cut(ds.cigarrillos_por_dia, limites, labels=categorias)\n",
      "                                  ^^\n",
      "NameError: name 'ds' is not defined\n",
      "NameError: name 'ds' is not defined"
     ]
    }
   ],
   "source": [
    "categoria_de_fumador = pd.cut(ds.cigarrillos_por_dia, limites, labels=categorias)"
   ]
  },
  {
   "cell_type": "code",
   "execution_count": 284,
   "metadata": {},
   "outputs": [
    {
     "name": "stderr",
     "output_type": "stream",
     "text": [
      "ERROR - Exception\n",
      "Traceback (most recent call last):\n",
      "  File \"/home/celis/.local/lib/python3.11/site-packages/IPython/core/interactiveshell.py\", line 3526, in run_code\n",
      "    exec(code_obj, self.user_global_ns, self.user_ns)\n",
      "  File \"/tmp/ipykernel_1506/1637485306.py\", line 1, in <module>\n",
      "    ds = ds.assign_columns(\"categoria_de_fumador\", categoria_de_fumador)\n",
      "         ^^\n",
      "NameError: name 'ds' is not defined\n",
      "NameError: name 'ds' is not defined"
     ]
    }
   ],
   "source": [
    "ds = ds.assign_columns(\"categoria_de_fumador\", categoria_de_fumador)"
   ]
  },
  {
   "cell_type": "markdown",
   "metadata": {},
   "source": [
    "### 3.3 Visualizando datos con ADS"
   ]
  },
  {
   "cell_type": "code",
   "execution_count": 285,
   "metadata": {},
   "outputs": [
    {
     "name": "stderr",
     "output_type": "stream",
     "text": [
      "ERROR - Exception\n",
      "Traceback (most recent call last):\n",
      "  File \"/home/celis/.local/lib/python3.11/site-packages/IPython/core/interactiveshell.py\", line 3526, in run_code\n",
      "    exec(code_obj, self.user_global_ns, self.user_ns)\n",
      "  File \"/tmp/ipykernel_1506/2876128834.py\", line 1, in <module>\n",
      "    ds.show_in_notebook()\n",
      "    ^^\n",
      "NameError: name 'ds' is not defined\n",
      "NameError: name 'ds' is not defined"
     ]
    }
   ],
   "source": [
    "ds.show_in_notebook()"
   ]
  },
  {
   "cell_type": "markdown",
   "metadata": {},
   "source": [
    "### 3.4 Geberando más visualizaciones"
   ]
  },
  {
   "cell_type": "code",
   "execution_count": 286,
   "metadata": {},
   "outputs": [
    {
     "name": "stderr",
     "output_type": "stream",
     "text": [
      "ERROR - Exception\n",
      "Traceback (most recent call last):\n",
      "  File \"/home/celis/.local/lib/python3.11/site-packages/IPython/core/interactiveshell.py\", line 3526, in run_code\n",
      "    exec(code_obj, self.user_global_ns, self.user_ns)\n",
      "  File \"/tmp/ipykernel_1506/3587869917.py\", line 1, in <module>\n",
      "    ds.plot(\"glicemia\")\n",
      "    ^^\n",
      "NameError: name 'ds' is not defined\n",
      "NameError: name 'ds' is not defined"
     ]
    }
   ],
   "source": [
    "ds.plot(\"glicemia\")"
   ]
  },
  {
   "cell_type": "code",
   "execution_count": 287,
   "metadata": {},
   "outputs": [
    {
     "name": "stderr",
     "output_type": "stream",
     "text": [
      "ERROR - Exception\n",
      "Traceback (most recent call last):\n",
      "  File \"/home/celis/.local/lib/python3.11/site-packages/IPython/core/interactiveshell.py\", line 3526, in run_code\n",
      "    exec(code_obj, self.user_global_ns, self.user_ns)\n",
      "  File \"/tmp/ipykernel_1506/1069932219.py\", line 1, in <module>\n",
      "    ds.plot('diabetes')\n",
      "    ^^\n",
      "NameError: name 'ds' is not defined\n",
      "NameError: name 'ds' is not defined"
     ]
    }
   ],
   "source": [
    "ds.plot('diabetes')"
   ]
  },
  {
   "cell_type": "code",
   "execution_count": 288,
   "metadata": {},
   "outputs": [
    {
     "name": "stderr",
     "output_type": "stream",
     "text": [
      "ERROR - Exception\n",
      "Traceback (most recent call last):\n",
      "  File \"/home/celis/.local/lib/python3.11/site-packages/IPython/core/interactiveshell.py\", line 3526, in run_code\n",
      "    exec(code_obj, self.user_global_ns, self.user_ns)\n",
      "  File \"/tmp/ipykernel_1506/4036196326.py\", line 1, in <module>\n",
      "    ds.plot('glicemia','diabetes')\n",
      "    ^^\n",
      "NameError: name 'ds' is not defined\n",
      "NameError: name 'ds' is not defined"
     ]
    }
   ],
   "source": [
    "ds.plot('glicemia','diabetes')"
   ]
  },
  {
   "cell_type": "code",
   "execution_count": 289,
   "metadata": {},
   "outputs": [
    {
     "name": "stderr",
     "output_type": "stream",
     "text": [
      "ERROR - Exception\n",
      "Traceback (most recent call last):\n",
      "  File \"/home/celis/.local/lib/python3.11/site-packages/IPython/core/interactiveshell.py\", line 3526, in run_code\n",
      "    exec(code_obj, self.user_global_ns, self.user_ns)\n",
      "  File \"/tmp/ipykernel_1506/2032971413.py\", line 1, in <module>\n",
      "    ds.plot('categoria_de_fumador','acv')\n",
      "    ^^\n",
      "NameError: name 'ds' is not defined\n",
      "NameError: name 'ds' is not defined"
     ]
    }
   ],
   "source": [
    "ds.plot('categoria_de_fumador','acv')"
   ]
  },
  {
   "cell_type": "code",
   "execution_count": 290,
   "metadata": {},
   "outputs": [
    {
     "name": "stderr",
     "output_type": "stream",
     "text": [
      "ERROR - Exception\n",
      "Traceback (most recent call last):\n",
      "  File \"/home/celis/.local/lib/python3.11/site-packages/IPython/core/interactiveshell.py\", line 3526, in run_code\n",
      "    exec(code_obj, self.user_global_ns, self.user_ns)\n",
      "  File \"/tmp/ipykernel_1506/4241061444.py\", line 1, in <module>\n",
      "    sns.pairplot(ds)\n",
      "                 ^^\n",
      "NameError: name 'ds' is not defined\n",
      "NameError: name 'ds' is not defined"
     ]
    }
   ],
   "source": [
    "sns.pairplot(ds)"
   ]
  },
  {
   "cell_type": "code",
   "execution_count": 291,
   "metadata": {},
   "outputs": [
    {
     "name": "stderr",
     "output_type": "stream",
     "text": [
      "ERROR - Exception\n",
      "Traceback (most recent call last):\n",
      "  File \"/home/celis/.local/lib/python3.11/site-packages/IPython/core/interactiveshell.py\", line 3526, in run_code\n",
      "    exec(code_obj, self.user_global_ns, self.user_ns)\n",
      "  File \"/tmp/ipykernel_1506/423992185.py\", line 1, in <module>\n",
      "    pandas_ds = ds.to_pandas()\n",
      "                ^^\n",
      "NameError: name 'ds' is not defined\n",
      "NameError: name 'ds' is not defined"
     ]
    }
   ],
   "source": [
    "pandas_ds = ds.to_pandas()"
   ]
  },
  {
   "cell_type": "code",
   "execution_count": 292,
   "metadata": {},
   "outputs": [
    {
     "name": "stderr",
     "output_type": "stream",
     "text": [
      "ERROR - Exception\n",
      "Traceback (most recent call last):\n",
      "  File \"/home/celis/.local/lib/python3.11/site-packages/IPython/core/interactiveshell.py\", line 3526, in run_code\n",
      "    exec(code_obj, self.user_global_ns, self.user_ns)\n",
      "  File \"/tmp/ipykernel_1506/2141689088.py\", line 1, in <module>\n",
      "    sns.pairplot(pandas_ds)\n",
      "                 ^^^^^^^^^\n",
      "NameError: name 'pandas_ds' is not defined\n",
      "NameError: name 'pandas_ds' is not defined"
     ]
    }
   ],
   "source": [
    "sns.pairplot(pandas_ds)"
   ]
  }
 ],
 "metadata": {
  "kernelspec": {
   "display_name": "Python 3",
   "language": "python",
   "name": "python3"
  },
  "language_info": {
   "codemirror_mode": {
    "name": "ipython",
    "version": 3
   },
   "file_extension": ".py",
   "mimetype": "text/x-python",
   "name": "python",
   "nbconvert_exporter": "python",
   "pygments_lexer": "ipython3",
   "version": "3.11.0rc1"
  }
 },
 "nbformat": 4,
 "nbformat_minor": 2
}
