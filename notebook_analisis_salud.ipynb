{
 "cells": [
  {
   "cell_type": "markdown",
   "metadata": {},
   "source": [
    "# 1.5 Version de las Bibliotecas"
   ]
  },
  {
   "cell_type": "code",
   "execution_count": 23,
   "metadata": {},
   "outputs": [
    {
     "name": "stdout",
     "output_type": "stream",
     "text": [
      "Defaulting to user installation because normal site-packages is not writeable\n",
      "Requirement already satisfied: ads in /home/celis/.local/lib/python3.11/site-packages (0.12.3)\n",
      "Requirement already satisfied: requests in /home/celis/.local/lib/python3.11/site-packages (from ads) (2.31.0)\n",
      "Requirement already satisfied: six in /usr/lib/python3/dist-packages (from ads) (1.16.0)\n",
      "Requirement already satisfied: httpretty==0.8.10 in /home/celis/.local/lib/python3.11/site-packages (from ads) (0.8.10)\n",
      "Requirement already satisfied: mock in /home/celis/.local/lib/python3.11/site-packages (from ads) (5.1.0)\n",
      "Requirement already satisfied: werkzeug in /home/celis/.local/lib/python3.11/site-packages (from ads) (3.0.1)\n",
      "Requirement already satisfied: urllib3<3,>=1.21.1 in /usr/lib/python3/dist-packages (from requests->ads) (1.26.5)\n",
      "Requirement already satisfied: idna<4,>=2.5 in /usr/lib/python3/dist-packages (from requests->ads) (3.3)\n",
      "Requirement already satisfied: charset-normalizer<4,>=2 in /home/celis/.local/lib/python3.11/site-packages (from requests->ads) (3.3.2)\n",
      "Requirement already satisfied: certifi>=2017.4.17 in /usr/lib/python3/dist-packages (from requests->ads) (2020.6.20)\n",
      "Requirement already satisfied: MarkupSafe>=2.1.1 in /home/celis/.local/lib/python3.11/site-packages (from werkzeug->ads) (2.1.3)\n",
      "Note: you may need to restart the kernel to use updated packages.\n"
     ]
    }
   ],
   "source": [
    "pip install ads"
   ]
  },
  {
   "cell_type": "code",
   "execution_count": 24,
   "metadata": {},
   "outputs": [
    {
     "name": "stdout",
     "output_type": "stream",
     "text": [
      "Defaulting to user installation because normal site-packages is not writeable\n",
      "Requirement already satisfied: oracle-ads in /home/celis/.local/lib/python3.11/site-packages (2.9.0)\n",
      "Requirement already satisfied: cerberus>=1.3.4 in /home/celis/.local/lib/python3.11/site-packages (from oracle-ads) (1.3.5)\n",
      "Requirement already satisfied: matplotlib>=3.1.3 in /home/celis/.local/lib/python3.11/site-packages (from oracle-ads) (3.8.0)\n",
      "Requirement already satisfied: fsspec<2023.9.1,>=0.8.7 in /home/celis/.local/lib/python3.11/site-packages (from oracle-ads) (2023.9.0)\n",
      "Requirement already satisfied: pandas<2.1,>1.2.1 in /home/celis/.local/lib/python3.11/site-packages (from oracle-ads) (2.0.3)\n",
      "Requirement already satisfied: PyYAML>=6 in /home/celis/.local/lib/python3.11/site-packages (from oracle-ads) (6.0.1)\n",
      "Requirement already satisfied: oci>=2.113.0 in /home/celis/.local/lib/python3.11/site-packages (from oracle-ads) (2.116.0)\n",
      "Requirement already satisfied: scikit-learn>=1.0 in /home/celis/.local/lib/python3.11/site-packages (from oracle-ads) (1.3.2)\n",
      "Requirement already satisfied: psutil>=5.7.2 in /home/celis/.local/lib/python3.11/site-packages (from oracle-ads) (5.9.6)\n",
      "Requirement already satisfied: asteval>=0.9.25 in /home/celis/.local/lib/python3.11/site-packages (from oracle-ads) (0.9.31)\n",
      "Requirement already satisfied: numpy>=1.19.2 in /home/celis/.local/lib/python3.11/site-packages (from oracle-ads) (1.26.1)\n",
      "Requirement already satisfied: gitpython>=3.1.2 in /home/celis/.local/lib/python3.11/site-packages (from oracle-ads) (3.1.40)\n",
      "Requirement already satisfied: python_jsonschema_objects>=0.3.13 in /home/celis/.local/lib/python3.11/site-packages (from oracle-ads) (0.5.0)\n",
      "Requirement already satisfied: tabulate>=0.8.9 in /home/celis/.local/lib/python3.11/site-packages (from oracle-ads) (0.9.0)\n",
      "Requirement already satisfied: tqdm>=4.59.0 in /home/celis/.local/lib/python3.11/site-packages (from oracle-ads) (4.66.1)\n",
      "Requirement already satisfied: jinja2>=2.11.2 in /home/celis/.local/lib/python3.11/site-packages (from oracle-ads) (3.1.2)\n",
      "Requirement already satisfied: requests in /home/celis/.local/lib/python3.11/site-packages (from oracle-ads) (2.31.0)\n",
      "Requirement already satisfied: ocifs>=1.1.3 in /home/celis/.local/lib/python3.11/site-packages (from oracle-ads) (1.3.0)\n",
      "Requirement already satisfied: cloudpickle>=1.6.0 in /home/celis/.local/lib/python3.11/site-packages (from oracle-ads) (3.0.0)\n",
      "Requirement already satisfied: gitdb<5,>=4.0.1 in /home/celis/.local/lib/python3.11/site-packages (from gitpython>=3.1.2->oracle-ads) (4.0.11)\n",
      "Requirement already satisfied: MarkupSafe>=2.0 in /home/celis/.local/lib/python3.11/site-packages (from jinja2>=2.11.2->oracle-ads) (2.1.3)\n",
      "Requirement already satisfied: pillow>=6.2.0 in /home/celis/.local/lib/python3.11/site-packages (from matplotlib>=3.1.3->oracle-ads) (10.1.0)\n",
      "Requirement already satisfied: python-dateutil>=2.7 in /home/celis/.local/lib/python3.11/site-packages (from matplotlib>=3.1.3->oracle-ads) (2.8.2)\n",
      "Requirement already satisfied: fonttools>=4.22.0 in /home/celis/.local/lib/python3.11/site-packages (from matplotlib>=3.1.3->oracle-ads) (4.43.1)\n",
      "Requirement already satisfied: cycler>=0.10 in /home/celis/.local/lib/python3.11/site-packages (from matplotlib>=3.1.3->oracle-ads) (0.12.1)\n",
      "Requirement already satisfied: contourpy>=1.0.1 in /home/celis/.local/lib/python3.11/site-packages (from matplotlib>=3.1.3->oracle-ads) (1.1.1)\n",
      "Requirement already satisfied: pyparsing>=2.3.1 in /usr/lib/python3/dist-packages (from matplotlib>=3.1.3->oracle-ads) (2.4.7)\n",
      "Requirement already satisfied: packaging>=20.0 in /home/celis/.local/lib/python3.11/site-packages (from matplotlib>=3.1.3->oracle-ads) (23.2)\n",
      "Requirement already satisfied: kiwisolver>=1.0.1 in /home/celis/.local/lib/python3.11/site-packages (from matplotlib>=3.1.3->oracle-ads) (1.4.5)\n",
      "Requirement already satisfied: certifi in /usr/lib/python3/dist-packages (from oci>=2.113.0->oracle-ads) (2020.6.20)\n",
      "Requirement already satisfied: cryptography<42.0.0,>=3.2.1 in /home/celis/.local/lib/python3.11/site-packages (from oci>=2.113.0->oracle-ads) (41.0.7)\n",
      "Requirement already satisfied: pytz>=2016.10 in /usr/lib/python3/dist-packages (from oci>=2.113.0->oracle-ads) (2022.1)\n",
      "Requirement already satisfied: circuitbreaker<2.0.0,>=1.3.1 in /home/celis/.local/lib/python3.11/site-packages (from oci>=2.113.0->oracle-ads) (1.4.0)\n",
      "Requirement already satisfied: pyOpenSSL<24.0.0,>=17.5.0 in /home/celis/.local/lib/python3.11/site-packages (from oci>=2.113.0->oracle-ads) (23.3.0)\n",
      "Requirement already satisfied: tzdata>=2022.1 in /home/celis/.local/lib/python3.11/site-packages (from pandas<2.1,>1.2.1->oracle-ads) (2023.3)\n",
      "Requirement already satisfied: six>=1.5.2 in /usr/lib/python3/dist-packages (from python_jsonschema_objects>=0.3.13->oracle-ads) (1.16.0)\n",
      "Requirement already satisfied: inflection>=0.2 in /home/celis/.local/lib/python3.11/site-packages (from python_jsonschema_objects>=0.3.13->oracle-ads) (0.5.1)\n",
      "Requirement already satisfied: Markdown>=2.4 in /home/celis/.local/lib/python3.11/site-packages (from python_jsonschema_objects>=0.3.13->oracle-ads) (3.5.1)\n",
      "Requirement already satisfied: jsonschema>=4.18 in /home/celis/.local/lib/python3.11/site-packages (from python_jsonschema_objects>=0.3.13->oracle-ads) (4.20.0)\n",
      "Requirement already satisfied: threadpoolctl>=2.0.0 in /home/celis/.local/lib/python3.11/site-packages (from scikit-learn>=1.0->oracle-ads) (3.2.0)\n",
      "Requirement already satisfied: joblib>=1.1.1 in /home/celis/.local/lib/python3.11/site-packages (from scikit-learn>=1.0->oracle-ads) (1.3.2)\n",
      "Requirement already satisfied: scipy>=1.5.0 in /home/celis/.local/lib/python3.11/site-packages (from scikit-learn>=1.0->oracle-ads) (1.11.3)\n",
      "Requirement already satisfied: charset-normalizer<4,>=2 in /home/celis/.local/lib/python3.11/site-packages (from requests->oracle-ads) (3.3.2)\n",
      "Requirement already satisfied: idna<4,>=2.5 in /usr/lib/python3/dist-packages (from requests->oracle-ads) (3.3)\n",
      "Requirement already satisfied: urllib3<3,>=1.21.1 in /usr/lib/python3/dist-packages (from requests->oracle-ads) (1.26.5)\n",
      "Requirement already satisfied: cffi>=1.12 in /home/celis/.local/lib/python3.11/site-packages (from cryptography<42.0.0,>=3.2.1->oci>=2.113.0->oracle-ads) (1.16.0)\n",
      "Requirement already satisfied: smmap<6,>=3.0.1 in /home/celis/.local/lib/python3.11/site-packages (from gitdb<5,>=4.0.1->gitpython>=3.1.2->oracle-ads) (5.0.1)\n",
      "Requirement already satisfied: jsonschema-specifications>=2023.03.6 in /home/celis/.local/lib/python3.11/site-packages (from jsonschema>=4.18->python_jsonschema_objects>=0.3.13->oracle-ads) (2023.11.2)\n",
      "Requirement already satisfied: rpds-py>=0.7.1 in /home/celis/.local/lib/python3.11/site-packages (from jsonschema>=4.18->python_jsonschema_objects>=0.3.13->oracle-ads) (0.13.2)\n",
      "Requirement already satisfied: referencing>=0.28.4 in /home/celis/.local/lib/python3.11/site-packages (from jsonschema>=4.18->python_jsonschema_objects>=0.3.13->oracle-ads) (0.31.1)\n",
      "Requirement already satisfied: attrs>=22.2.0 in /home/celis/.local/lib/python3.11/site-packages (from jsonschema>=4.18->python_jsonschema_objects>=0.3.13->oracle-ads) (23.1.0)\n",
      "Requirement already satisfied: pycparser in /home/celis/.local/lib/python3.11/site-packages (from cffi>=1.12->cryptography<42.0.0,>=3.2.1->oci>=2.113.0->oracle-ads) (2.21)\n",
      "Note: you may need to restart the kernel to use updated packages.\n"
     ]
    }
   ],
   "source": [
    "pip install oracle-ads"
   ]
  },
  {
   "cell_type": "code",
   "execution_count": 25,
   "metadata": {},
   "outputs": [
    {
     "name": "stdout",
     "output_type": "stream",
     "text": [
      "Defaulting to user installation because normal site-packages is not writeable\n",
      "Requirement already satisfied: oracle-ads[ADSExplainer,bds,boosted,data,forecast,geo,notebook,onnx,opctl,optuna,tensorflow,text,torch,viz] in /home/celis/.local/lib/python3.11/site-packages (2.9.0)\n",
      "\u001b[33mWARNING: oracle-ads 2.9.0 does not provide the extra 'adsexplainer'\u001b[0m\u001b[33m\n",
      "\u001b[0mRequirement already satisfied: pandas<2.1,>1.2.1 in /home/celis/.local/lib/python3.11/site-packages (from oracle-ads[ADSExplainer,bds,boosted,data,forecast,geo,notebook,onnx,opctl,optuna,tensorflow,text,torch,viz]) (2.0.3)\n",
      "Requirement already satisfied: cerberus>=1.3.4 in /home/celis/.local/lib/python3.11/site-packages (from oracle-ads[ADSExplainer,bds,boosted,data,forecast,geo,notebook,onnx,opctl,optuna,tensorflow,text,torch,viz]) (1.3.5)\n",
      "Requirement already satisfied: asteval>=0.9.25 in /home/celis/.local/lib/python3.11/site-packages (from oracle-ads[ADSExplainer,bds,boosted,data,forecast,geo,notebook,onnx,opctl,optuna,tensorflow,text,torch,viz]) (0.9.31)\n",
      "Requirement already satisfied: gitpython>=3.1.2 in /home/celis/.local/lib/python3.11/site-packages (from oracle-ads[ADSExplainer,bds,boosted,data,forecast,geo,notebook,onnx,opctl,optuna,tensorflow,text,torch,viz]) (3.1.40)\n",
      "Requirement already satisfied: oci>=2.113.0 in /home/celis/.local/lib/python3.11/site-packages (from oracle-ads[ADSExplainer,bds,boosted,data,forecast,geo,notebook,onnx,opctl,optuna,tensorflow,text,torch,viz]) (2.116.0)\n",
      "Requirement already satisfied: tabulate>=0.8.9 in /home/celis/.local/lib/python3.11/site-packages (from oracle-ads[ADSExplainer,bds,boosted,data,forecast,geo,notebook,onnx,opctl,optuna,tensorflow,text,torch,viz]) (0.9.0)\n",
      "Requirement already satisfied: tqdm>=4.59.0 in /home/celis/.local/lib/python3.11/site-packages (from oracle-ads[ADSExplainer,bds,boosted,data,forecast,geo,notebook,onnx,opctl,optuna,tensorflow,text,torch,viz]) (4.66.1)\n",
      "Requirement already satisfied: jinja2>=2.11.2 in /home/celis/.local/lib/python3.11/site-packages (from oracle-ads[ADSExplainer,bds,boosted,data,forecast,geo,notebook,onnx,opctl,optuna,tensorflow,text,torch,viz]) (3.1.2)\n",
      "Requirement already satisfied: cloudpickle>=1.6.0 in /home/celis/.local/lib/python3.11/site-packages (from oracle-ads[ADSExplainer,bds,boosted,data,forecast,geo,notebook,onnx,opctl,optuna,tensorflow,text,torch,viz]) (3.0.0)\n",
      "Requirement already satisfied: fsspec<2023.9.1,>=0.8.7 in /home/celis/.local/lib/python3.11/site-packages (from oracle-ads[ADSExplainer,bds,boosted,data,forecast,geo,notebook,onnx,opctl,optuna,tensorflow,text,torch,viz]) (2023.9.0)\n",
      "Requirement already satisfied: matplotlib>=3.1.3 in /home/celis/.local/lib/python3.11/site-packages (from oracle-ads[ADSExplainer,bds,boosted,data,forecast,geo,notebook,onnx,opctl,optuna,tensorflow,text,torch,viz]) (3.8.0)\n",
      "Requirement already satisfied: ocifs>=1.1.3 in /home/celis/.local/lib/python3.11/site-packages (from oracle-ads[ADSExplainer,bds,boosted,data,forecast,geo,notebook,onnx,opctl,optuna,tensorflow,text,torch,viz]) (1.3.0)\n",
      "Requirement already satisfied: PyYAML>=6 in /home/celis/.local/lib/python3.11/site-packages (from oracle-ads[ADSExplainer,bds,boosted,data,forecast,geo,notebook,onnx,opctl,optuna,tensorflow,text,torch,viz]) (6.0.1)\n",
      "Requirement already satisfied: psutil>=5.7.2 in /home/celis/.local/lib/python3.11/site-packages (from oracle-ads[ADSExplainer,bds,boosted,data,forecast,geo,notebook,onnx,opctl,optuna,tensorflow,text,torch,viz]) (5.9.6)\n",
      "Requirement already satisfied: python_jsonschema_objects>=0.3.13 in /home/celis/.local/lib/python3.11/site-packages (from oracle-ads[ADSExplainer,bds,boosted,data,forecast,geo,notebook,onnx,opctl,optuna,tensorflow,text,torch,viz]) (0.5.0)\n",
      "Requirement already satisfied: numpy>=1.19.2 in /home/celis/.local/lib/python3.11/site-packages (from oracle-ads[ADSExplainer,bds,boosted,data,forecast,geo,notebook,onnx,opctl,optuna,tensorflow,text,torch,viz]) (1.26.1)\n",
      "Requirement already satisfied: requests in /home/celis/.local/lib/python3.11/site-packages (from oracle-ads[ADSExplainer,bds,boosted,data,forecast,geo,notebook,onnx,opctl,optuna,tensorflow,text,torch,viz]) (2.31.0)\n",
      "Requirement already satisfied: scikit-learn>=1.0 in /home/celis/.local/lib/python3.11/site-packages (from oracle-ads[ADSExplainer,bds,boosted,data,forecast,geo,notebook,onnx,opctl,optuna,tensorflow,text,torch,viz]) (1.3.2)\n",
      "Requirement already satisfied: ipywidgets~=7.6.3 in /home/celis/.local/lib/python3.11/site-packages (from oracle-ads[ADSExplainer,bds,boosted,data,forecast,geo,notebook,onnx,opctl,optuna,tensorflow,text,torch,viz]) (7.6.6)\n",
      "Requirement already satisfied: ipython<8.0,>=7.23.1 in /home/celis/.local/lib/python3.11/site-packages (from oracle-ads[ADSExplainer,bds,boosted,data,forecast,geo,notebook,onnx,opctl,optuna,tensorflow,text,torch,viz]) (7.34.0)\n",
      "Requirement already satisfied: lightgbm in /home/celis/.local/lib/python3.11/site-packages (from oracle-ads[ADSExplainer,bds,boosted,data,forecast,geo,notebook,onnx,opctl,optuna,tensorflow,text,torch,viz]) (4.1.0)\n",
      "Requirement already satisfied: xgboost in /home/celis/.local/lib/python3.11/site-packages (from oracle-ads[ADSExplainer,bds,boosted,data,forecast,geo,notebook,onnx,opctl,optuna,tensorflow,text,torch,viz]) (2.0.2)\n",
      "Collecting wordcloud>=1.8.1\n",
      "  Using cached wordcloud-1.9.2-cp311-cp311-manylinux_2_17_x86_64.manylinux2014_x86_64.whl (473 kB)\n",
      "Collecting spacy\n",
      "  Using cached spacy-3.7.2-cp311-cp311-manylinux_2_17_x86_64.manylinux2014_x86_64.whl (6.6 MB)\n",
      "Requirement already satisfied: fastavro>=0.24.2 in /home/celis/.local/lib/python3.11/site-packages (from oracle-ads[ADSExplainer,bds,boosted,data,forecast,geo,notebook,onnx,opctl,optuna,tensorflow,text,torch,viz]) (1.9.0)\n",
      "Requirement already satisfied: datefinder>=0.7.1 in /home/celis/.local/lib/python3.11/site-packages (from oracle-ads[ADSExplainer,bds,boosted,data,forecast,geo,notebook,onnx,opctl,optuna,tensorflow,text,torch,viz]) (0.7.3)\n",
      "Requirement already satisfied: sqlalchemy<=1.4.46,>=1.4.1 in /home/celis/.local/lib/python3.11/site-packages (from oracle-ads[ADSExplainer,bds,boosted,data,forecast,geo,notebook,onnx,opctl,optuna,tensorflow,text,torch,viz]) (1.4.46)\n",
      "Requirement already satisfied: htmllistparse>=0.6.0 in /home/celis/.local/lib/python3.11/site-packages (from oracle-ads[ADSExplainer,bds,boosted,data,forecast,geo,notebook,onnx,opctl,optuna,tensorflow,text,torch,viz]) (0.6.1)\n",
      "Requirement already satisfied: pandavro>=1.6.0 in /home/celis/.local/lib/python3.11/site-packages (from oracle-ads[ADSExplainer,bds,boosted,data,forecast,geo,notebook,onnx,opctl,optuna,tensorflow,text,torch,viz]) (1.8.0)\n",
      "Requirement already satisfied: openpyxl>=3.0.7 in /home/celis/.local/lib/python3.11/site-packages (from oracle-ads[ADSExplainer,bds,boosted,data,forecast,geo,notebook,onnx,opctl,optuna,tensorflow,text,torch,viz]) (3.1.2)\n",
      "Requirement already satisfied: oracledb>=1.0 in /home/celis/.local/lib/python3.11/site-packages (from oracle-ads[ADSExplainer,bds,boosted,data,forecast,geo,notebook,onnx,opctl,optuna,tensorflow,text,torch,viz]) (1.4.2)\n",
      "Collecting ibis-framework[impala]\n",
      "  Using cached ibis_framework-7.1.0-py3-none-any.whl (1.7 MB)\n",
      "Collecting hdfs[kerberos]\n",
      "  Using cached hdfs-2.7.3.tar.gz (43 kB)\n",
      "  Preparing metadata (setup.py) ... \u001b[?25ldone\n",
      "\u001b[?25hCollecting protobuf<=3.20\n",
      "  Using cached protobuf-3.20.0-py2.py3-none-any.whl (162 kB)\n",
      "Collecting skl2onnx>=1.10.4\n",
      "  Using cached skl2onnx-1.15.0-py2.py3-none-any.whl (294 kB)\n",
      "Collecting xgboost\n",
      "  Using cached xgboost-1.7.0-py3-none-manylinux2014_x86_64.whl (193.6 MB)\n",
      "Collecting onnxruntime<1.16,>=1.10.0\n",
      "  Using cached onnxruntime-1.15.1-cp311-cp311-manylinux_2_17_x86_64.manylinux2014_x86_64.whl (5.9 MB)\n",
      "Collecting onnxmltools>=1.10.0\n",
      "  Using cached onnxmltools-1.11.2-py2.py3-none-any.whl (322 kB)\n",
      "Collecting onnx>=1.12.0\n",
      "  Using cached onnx-1.15.0-cp311-cp311-manylinux_2_17_x86_64.manylinux2014_x86_64.whl (15.7 MB)\n",
      "Collecting tf2onnx\n",
      "  Using cached tf2onnx-1.15.1-py3-none-any.whl (454 kB)\n",
      "Collecting optuna==2.9.0\n",
      "  Using cached optuna-2.9.0-py3-none-any.whl (302 kB)\n",
      "Collecting torch\n",
      "  Using cached torch-2.1.1-cp311-cp311-manylinux1_x86_64.whl (670.2 MB)\n",
      "Collecting torchvision\n",
      "  Using cached torchvision-0.16.1-cp311-cp311-manylinux1_x86_64.whl (6.8 MB)\n",
      "Collecting conda-pack\n",
      "  Using cached conda_pack-0.7.1-py2.py3-none-any.whl (32 kB)\n",
      "Requirement already satisfied: nbformat in /home/celis/.local/lib/python3.11/site-packages (from oracle-ads[ADSExplainer,bds,boosted,data,forecast,geo,notebook,onnx,opctl,optuna,tensorflow,text,torch,viz]) (5.9.2)\n",
      "Collecting py-cpuinfo\n",
      "  Using cached py_cpuinfo-9.0.0-py3-none-any.whl (22 kB)\n",
      "Requirement already satisfied: nbconvert in /home/celis/.local/lib/python3.11/site-packages (from oracle-ads[ADSExplainer,bds,boosted,data,forecast,geo,notebook,onnx,opctl,optuna,tensorflow,text,torch,viz]) (7.11.0)\n",
      "Requirement already satisfied: inflection in /home/celis/.local/lib/python3.11/site-packages (from oracle-ads[ADSExplainer,bds,boosted,data,forecast,geo,notebook,onnx,opctl,optuna,tensorflow,text,torch,viz]) (0.5.1)\n",
      "Collecting rich\n",
      "  Using cached rich-13.7.0-py3-none-any.whl (240 kB)\n",
      "Collecting docker\n",
      "  Using cached docker-6.1.3-py3-none-any.whl (148 kB)\n",
      "Collecting oci-cli\n",
      "  Using cached oci_cli-3.36.2-py3-none-any.whl (44.4 MB)\n",
      "Collecting geopandas\n",
      "  Using cached geopandas-0.14.1-py3-none-any.whl (1.1 MB)\n",
      "Collecting bokeh<=2.4.3,>=2.3.0\n",
      "  Using cached bokeh-2.4.3-py3-none-any.whl (18.5 MB)\n",
      "Collecting folium>=0.12.1\n",
      "  Using cached folium-0.15.0-py2.py3-none-any.whl (100 kB)\n",
      "Requirement already satisfied: scipy>=1.5.4 in /home/celis/.local/lib/python3.11/site-packages (from oracle-ads[ADSExplainer,bds,boosted,data,forecast,geo,notebook,onnx,opctl,optuna,tensorflow,text,torch,viz]) (1.11.3)\n",
      "Collecting graphviz<0.17\n",
      "  Using cached graphviz-0.16-py2.py3-none-any.whl (19 kB)\n",
      "Requirement already satisfied: seaborn>=0.11.0 in /home/celis/.local/lib/python3.11/site-packages (from oracle-ads[ADSExplainer,bds,boosted,data,forecast,geo,notebook,onnx,opctl,optuna,tensorflow,text,torch,viz]) (0.13.0)\n",
      "Collecting tensorflow\n",
      "  Using cached tensorflow-2.15.0-cp311-cp311-manylinux_2_17_x86_64.manylinux2014_x86_64.whl (475.3 MB)\n",
      "Collecting shap\n",
      "  Using cached shap-0.43.0-cp311-cp311-manylinux_2_12_x86_64.manylinux2010_x86_64.manylinux_2_17_x86_64.manylinux2014_x86_64.whl (532 kB)\n",
      "Collecting statsmodels\n",
      "  Using cached statsmodels-0.14.0-cp311-cp311-manylinux_2_17_x86_64.manylinux2014_x86_64.whl (10.1 MB)\n",
      "Collecting prophet\n",
      "  Using cached prophet-1.1.5-py3-none-manylinux_2_17_x86_64.manylinux2014_x86_64.whl (14.4 MB)\n",
      "Collecting holidays==0.21.13\n",
      "  Using cached holidays-0.21.13-py3-none-any.whl (378 kB)\n",
      "Collecting datapane\n",
      "  Using cached datapane-0.17.0-py3-none-any.whl (143 kB)\n",
      "Collecting autots[additional]\n",
      "  Using cached autots-0.6.3-py3-none-any.whl (808 kB)\n",
      "Collecting pmdarima\n",
      "  Using cached pmdarima-2.0.4-cp311-cp311-manylinux_2_17_x86_64.manylinux2014_x86_64.manylinux_2_28_x86_64.whl (2.2 MB)\n",
      "Collecting sktime\n",
      "  Using cached sktime-0.24.1-py3-none-any.whl (20.7 MB)\n",
      "Collecting oracle-ads[ADSExplainer,bds,boosted,data,forecast,geo,notebook,onnx,opctl,optuna,tensorflow,text,torch,viz]\n",
      "  Using cached oracle_ads-2.8.11-py3-none-any.whl (1.4 MB)\n",
      "\u001b[33mWARNING: oracle-ads 2.8.11 does not provide the extra 'adsexplainer'\u001b[0m\u001b[33m\n",
      "\u001b[0m\u001b[33mWARNING: oracle-ads 2.8.11 does not provide the extra 'forecast'\u001b[0m\u001b[33m\n",
      "\u001b[0mCollecting lightgbm\n",
      "  Using cached lightgbm-3.3.1-py3-none-manylinux1_x86_64.whl (2.0 MB)\n",
      "Requirement already satisfied: wheel in /usr/lib/python3/dist-packages (from lightgbm->oracle-ads[ADSExplainer,bds,boosted,data,forecast,geo,notebook,onnx,opctl,optuna,tensorflow,text,torch,viz]) (0.37.1)\n",
      "Collecting cmaes>=0.8.2\n",
      "  Using cached cmaes-0.10.0-py3-none-any.whl (29 kB)\n",
      "Collecting cliff\n",
      "  Using cached cliff-4.4.0-py3-none-any.whl (80 kB)\n",
      "Collecting colorlog\n",
      "  Using cached colorlog-6.8.0-py3-none-any.whl (11 kB)\n",
      "Collecting alembic\n",
      "  Using cached alembic-1.13.0-py3-none-any.whl (230 kB)\n",
      "Requirement already satisfied: packaging>=20.0 in /home/celis/.local/lib/python3.11/site-packages (from optuna==2.9.0->oracle-ads[ADSExplainer,bds,boosted,data,forecast,geo,notebook,onnx,opctl,optuna,tensorflow,text,torch,viz]) (23.2)\n",
      "Requirement already satisfied: tornado>=5.1 in /home/celis/.local/lib/python3.11/site-packages (from bokeh<=2.4.3,>=2.3.0->oracle-ads[ADSExplainer,bds,boosted,data,forecast,geo,notebook,onnx,opctl,optuna,tensorflow,text,torch,viz]) (6.3.3)\n",
      "Collecting typing-extensions>=3.10.0\n",
      "  Using cached typing_extensions-4.8.0-py3-none-any.whl (31 kB)\n",
      "Requirement already satisfied: pillow>=7.1.0 in /home/celis/.local/lib/python3.11/site-packages (from bokeh<=2.4.3,>=2.3.0->oracle-ads[ADSExplainer,bds,boosted,data,forecast,geo,notebook,onnx,opctl,optuna,tensorflow,text,torch,viz]) (10.1.0)\n",
      "Requirement already satisfied: python-dateutil>=2.4.2 in /home/celis/.local/lib/python3.11/site-packages (from datefinder>=0.7.1->oracle-ads[ADSExplainer,bds,boosted,data,forecast,geo,notebook,onnx,opctl,optuna,tensorflow,text,torch,viz]) (2.8.2)\n",
      "Requirement already satisfied: regex>=2017.02.08 in /home/celis/.local/lib/python3.11/site-packages (from datefinder>=0.7.1->oracle-ads[ADSExplainer,bds,boosted,data,forecast,geo,notebook,onnx,opctl,optuna,tensorflow,text,torch,viz]) (2023.10.3)\n",
      "Requirement already satisfied: pytz in /usr/lib/python3/dist-packages (from datefinder>=0.7.1->oracle-ads[ADSExplainer,bds,boosted,data,forecast,geo,notebook,onnx,opctl,optuna,tensorflow,text,torch,viz]) (2022.1)\n",
      "Collecting branca>=0.6.0\n",
      "  Using cached branca-0.7.0-py3-none-any.whl (25 kB)\n",
      "Requirement already satisfied: gitdb<5,>=4.0.1 in /home/celis/.local/lib/python3.11/site-packages (from gitpython>=3.1.2->oracle-ads[ADSExplainer,bds,boosted,data,forecast,geo,notebook,onnx,opctl,optuna,tensorflow,text,torch,viz]) (4.0.11)\n",
      "Requirement already satisfied: beautifulsoup4 in /home/celis/.local/lib/python3.11/site-packages (from htmllistparse>=0.6.0->oracle-ads[ADSExplainer,bds,boosted,data,forecast,geo,notebook,onnx,opctl,optuna,tensorflow,text,torch,viz]) (4.12.2)\n",
      "Requirement already satisfied: html5lib in /home/celis/.local/lib/python3.11/site-packages (from htmllistparse>=0.6.0->oracle-ads[ADSExplainer,bds,boosted,data,forecast,geo,notebook,onnx,opctl,optuna,tensorflow,text,torch,viz]) (1.1)\n",
      "Requirement already satisfied: fusepy in /home/celis/.local/lib/python3.11/site-packages (from htmllistparse>=0.6.0->oracle-ads[ADSExplainer,bds,boosted,data,forecast,geo,notebook,onnx,opctl,optuna,tensorflow,text,torch,viz]) (3.0.1)\n",
      "Requirement already satisfied: prompt-toolkit!=3.0.0,!=3.0.1,<3.1.0,>=2.0.0 in /home/celis/.local/lib/python3.11/site-packages (from ipython<8.0,>=7.23.1->oracle-ads[ADSExplainer,bds,boosted,data,forecast,geo,notebook,onnx,opctl,optuna,tensorflow,text,torch,viz]) (3.0.39)\n",
      "Requirement already satisfied: jedi>=0.16 in /home/celis/.local/lib/python3.11/site-packages (from ipython<8.0,>=7.23.1->oracle-ads[ADSExplainer,bds,boosted,data,forecast,geo,notebook,onnx,opctl,optuna,tensorflow,text,torch,viz]) (0.19.1)\n",
      "Requirement already satisfied: decorator in /home/celis/.local/lib/python3.11/site-packages (from ipython<8.0,>=7.23.1->oracle-ads[ADSExplainer,bds,boosted,data,forecast,geo,notebook,onnx,opctl,optuna,tensorflow,text,torch,viz]) (5.1.1)\n",
      "Requirement already satisfied: pexpect>4.3 in /home/celis/.local/lib/python3.11/site-packages (from ipython<8.0,>=7.23.1->oracle-ads[ADSExplainer,bds,boosted,data,forecast,geo,notebook,onnx,opctl,optuna,tensorflow,text,torch,viz]) (4.8.0)\n",
      "Requirement already satisfied: pickleshare in /home/celis/.local/lib/python3.11/site-packages (from ipython<8.0,>=7.23.1->oracle-ads[ADSExplainer,bds,boosted,data,forecast,geo,notebook,onnx,opctl,optuna,tensorflow,text,torch,viz]) (0.7.5)\n",
      "Requirement already satisfied: pygments in /home/celis/.local/lib/python3.11/site-packages (from ipython<8.0,>=7.23.1->oracle-ads[ADSExplainer,bds,boosted,data,forecast,geo,notebook,onnx,opctl,optuna,tensorflow,text,torch,viz]) (2.16.1)\n",
      "Requirement already satisfied: traitlets>=4.2 in /home/celis/.local/lib/python3.11/site-packages (from ipython<8.0,>=7.23.1->oracle-ads[ADSExplainer,bds,boosted,data,forecast,geo,notebook,onnx,opctl,optuna,tensorflow,text,torch,viz]) (5.11.2)\n",
      "Requirement already satisfied: matplotlib-inline in /home/celis/.local/lib/python3.11/site-packages (from ipython<8.0,>=7.23.1->oracle-ads[ADSExplainer,bds,boosted,data,forecast,geo,notebook,onnx,opctl,optuna,tensorflow,text,torch,viz]) (0.1.6)\n",
      "Requirement already satisfied: setuptools>=18.5 in /usr/lib/python3/dist-packages (from ipython<8.0,>=7.23.1->oracle-ads[ADSExplainer,bds,boosted,data,forecast,geo,notebook,onnx,opctl,optuna,tensorflow,text,torch,viz]) (59.6.0)\n",
      "Requirement already satisfied: backcall in /home/celis/.local/lib/python3.11/site-packages (from ipython<8.0,>=7.23.1->oracle-ads[ADSExplainer,bds,boosted,data,forecast,geo,notebook,onnx,opctl,optuna,tensorflow,text,torch,viz]) (0.2.0)\n",
      "Requirement already satisfied: ipython-genutils~=0.2.0 in /home/celis/.local/lib/python3.11/site-packages (from ipywidgets~=7.6.3->oracle-ads[ADSExplainer,bds,boosted,data,forecast,geo,notebook,onnx,opctl,optuna,tensorflow,text,torch,viz]) (0.2.0)\n",
      "Requirement already satisfied: ipykernel>=4.5.1 in /home/celis/.local/lib/python3.11/site-packages (from ipywidgets~=7.6.3->oracle-ads[ADSExplainer,bds,boosted,data,forecast,geo,notebook,onnx,opctl,optuna,tensorflow,text,torch,viz]) (6.25.2)\n",
      "Requirement already satisfied: jupyterlab-widgets<3,>=1.0.0 in /home/celis/.local/lib/python3.11/site-packages (from ipywidgets~=7.6.3->oracle-ads[ADSExplainer,bds,boosted,data,forecast,geo,notebook,onnx,opctl,optuna,tensorflow,text,torch,viz]) (1.1.7)\n",
      "Requirement already satisfied: widgetsnbextension~=3.5.0 in /home/celis/.local/lib/python3.11/site-packages (from ipywidgets~=7.6.3->oracle-ads[ADSExplainer,bds,boosted,data,forecast,geo,notebook,onnx,opctl,optuna,tensorflow,text,torch,viz]) (3.5.2)\n",
      "Requirement already satisfied: MarkupSafe>=2.0 in /home/celis/.local/lib/python3.11/site-packages (from jinja2>=2.11.2->oracle-ads[ADSExplainer,bds,boosted,data,forecast,geo,notebook,onnx,opctl,optuna,tensorflow,text,torch,viz]) (2.1.3)\n",
      "Requirement already satisfied: cycler>=0.10 in /home/celis/.local/lib/python3.11/site-packages (from matplotlib>=3.1.3->oracle-ads[ADSExplainer,bds,boosted,data,forecast,geo,notebook,onnx,opctl,optuna,tensorflow,text,torch,viz]) (0.12.1)\n",
      "Requirement already satisfied: fonttools>=4.22.0 in /home/celis/.local/lib/python3.11/site-packages (from matplotlib>=3.1.3->oracle-ads[ADSExplainer,bds,boosted,data,forecast,geo,notebook,onnx,opctl,optuna,tensorflow,text,torch,viz]) (4.43.1)\n",
      "Requirement already satisfied: kiwisolver>=1.0.1 in /home/celis/.local/lib/python3.11/site-packages (from matplotlib>=3.1.3->oracle-ads[ADSExplainer,bds,boosted,data,forecast,geo,notebook,onnx,opctl,optuna,tensorflow,text,torch,viz]) (1.4.5)\n",
      "Requirement already satisfied: contourpy>=1.0.1 in /home/celis/.local/lib/python3.11/site-packages (from matplotlib>=3.1.3->oracle-ads[ADSExplainer,bds,boosted,data,forecast,geo,notebook,onnx,opctl,optuna,tensorflow,text,torch,viz]) (1.1.1)\n",
      "Requirement already satisfied: pyparsing>=2.3.1 in /usr/lib/python3/dist-packages (from matplotlib>=3.1.3->oracle-ads[ADSExplainer,bds,boosted,data,forecast,geo,notebook,onnx,opctl,optuna,tensorflow,text,torch,viz]) (2.4.7)\n",
      "Requirement already satisfied: jsonschema>=2.6 in /home/celis/.local/lib/python3.11/site-packages (from nbformat->oracle-ads[ADSExplainer,bds,boosted,data,forecast,geo,notebook,onnx,opctl,optuna,tensorflow,text,torch,viz]) (4.20.0)\n",
      "Requirement already satisfied: fastjsonschema in /home/celis/.local/lib/python3.11/site-packages (from nbformat->oracle-ads[ADSExplainer,bds,boosted,data,forecast,geo,notebook,onnx,opctl,optuna,tensorflow,text,torch,viz]) (2.19.0)\n",
      "Requirement already satisfied: jupyter-core in /home/celis/.local/lib/python3.11/site-packages (from nbformat->oracle-ads[ADSExplainer,bds,boosted,data,forecast,geo,notebook,onnx,opctl,optuna,tensorflow,text,torch,viz]) (5.4.0)\n",
      "Requirement already satisfied: pyOpenSSL<24.0.0,>=17.5.0 in /home/celis/.local/lib/python3.11/site-packages (from oci>=2.113.0->oracle-ads[ADSExplainer,bds,boosted,data,forecast,geo,notebook,onnx,opctl,optuna,tensorflow,text,torch,viz]) (23.3.0)\n",
      "Requirement already satisfied: certifi in /usr/lib/python3/dist-packages (from oci>=2.113.0->oracle-ads[ADSExplainer,bds,boosted,data,forecast,geo,notebook,onnx,opctl,optuna,tensorflow,text,torch,viz]) (2020.6.20)\n",
      "Requirement already satisfied: cryptography<42.0.0,>=3.2.1 in /home/celis/.local/lib/python3.11/site-packages (from oci>=2.113.0->oracle-ads[ADSExplainer,bds,boosted,data,forecast,geo,notebook,onnx,opctl,optuna,tensorflow,text,torch,viz]) (41.0.7)\n",
      "Requirement already satisfied: circuitbreaker<2.0.0,>=1.3.1 in /home/celis/.local/lib/python3.11/site-packages (from oci>=2.113.0->oracle-ads[ADSExplainer,bds,boosted,data,forecast,geo,notebook,onnx,opctl,optuna,tensorflow,text,torch,viz]) (1.4.0)\n",
      "Collecting onnx>=1.12.0\n",
      "  Using cached onnx-1.14.1-cp311-cp311-manylinux_2_17_x86_64.manylinux2014_x86_64.whl (14.6 MB)\n",
      "  Using cached onnx-1.14.0-cp311-cp311-manylinux_2_17_x86_64.manylinux2014_x86_64.whl (14.6 MB)\n",
      "  Using cached onnx-1.13.1-cp311-cp311-manylinux_2_17_x86_64.manylinux2014_x86_64.whl (13.5 MB)\n",
      "  Using cached onnx-1.13.0-cp311-cp311-manylinux_2_17_x86_64.manylinux2014_x86_64.whl (13.5 MB)\n",
      "  Using cached onnx-1.12.0.tar.gz (10.1 MB)\n",
      "  Preparing metadata (setup.py) ... \u001b[?25lerror\n",
      "  \u001b[1;31merror\u001b[0m: \u001b[1msubprocess-exited-with-error\u001b[0m\n",
      "  \n",
      "  \u001b[31m×\u001b[0m \u001b[32mpython setup.py egg_info\u001b[0m did not run successfully.\n",
      "  \u001b[31m│\u001b[0m exit code: \u001b[1;36m1\u001b[0m\n",
      "  \u001b[31m╰─>\u001b[0m \u001b[31m[7 lines of output]\u001b[0m\n",
      "  \u001b[31m   \u001b[0m fatal: not a git repository (or any of the parent directories): .git\n",
      "  \u001b[31m   \u001b[0m Traceback (most recent call last):\n",
      "  \u001b[31m   \u001b[0m   File \"<string>\", line 2, in <module>\n",
      "  \u001b[31m   \u001b[0m   File \"<pip-setuptools-caller>\", line 34, in <module>\n",
      "  \u001b[31m   \u001b[0m   File \"/tmp/pip-install-28xlzt6b/onnx_78d148639e7b40e195eac66161e32ee8/setup.py\", line 81, in <module>\n",
      "  \u001b[31m   \u001b[0m     assert CMAKE, \"Could not find cmake executable!\"\n",
      "  \u001b[31m   \u001b[0m AssertionError: Could not find cmake executable!\n",
      "  \u001b[31m   \u001b[0m \u001b[31m[end of output]\u001b[0m\n",
      "  \n",
      "  \u001b[1;35mnote\u001b[0m: This error originates from a subprocess, and is likely not a problem with pip.\n",
      "\u001b[?25h\u001b[1;31merror\u001b[0m: \u001b[1mmetadata-generation-failed\u001b[0m\n",
      "\n",
      "\u001b[31m×\u001b[0m Encountered error while generating package metadata.\n",
      "\u001b[31m╰─>\u001b[0m See above for output.\n",
      "\n",
      "\u001b[1;35mnote\u001b[0m: This is an issue with the package mentioned above, not pip.\n",
      "\u001b[1;36mhint\u001b[0m: See above for details.\n",
      "Note: you may need to restart the kernel to use updated packages.\n"
     ]
    }
   ],
   "source": [
    "pip install 'oracle-ads[boosted,forecast, bds, data, geo, notebook, onnx, opctl, optuna, tensorflow, text, torch, viz, ADSExplainer]'"
   ]
  },
  {
   "cell_type": "code",
   "execution_count": 26,
   "metadata": {},
   "outputs": [
    {
     "name": "stdout",
     "output_type": "stream",
     "text": [
      "Defaulting to user installation because normal site-packages is not writeable\n",
      "Requirement already satisfied: oracle-ads[data] in /home/celis/.local/lib/python3.11/site-packages (2.9.0)\n",
      "Requirement already satisfied: oci>=2.113.0 in /home/celis/.local/lib/python3.11/site-packages (from oracle-ads[data]) (2.116.0)\n",
      "Requirement already satisfied: tqdm>=4.59.0 in /home/celis/.local/lib/python3.11/site-packages (from oracle-ads[data]) (4.66.1)\n",
      "Requirement already satisfied: numpy>=1.19.2 in /home/celis/.local/lib/python3.11/site-packages (from oracle-ads[data]) (1.26.1)\n",
      "Requirement already satisfied: python_jsonschema_objects>=0.3.13 in /home/celis/.local/lib/python3.11/site-packages (from oracle-ads[data]) (0.5.0)\n",
      "Requirement already satisfied: psutil>=5.7.2 in /home/celis/.local/lib/python3.11/site-packages (from oracle-ads[data]) (5.9.6)\n",
      "Requirement already satisfied: asteval>=0.9.25 in /home/celis/.local/lib/python3.11/site-packages (from oracle-ads[data]) (0.9.31)\n",
      "Requirement already satisfied: pandas<2.1,>1.2.1 in /home/celis/.local/lib/python3.11/site-packages (from oracle-ads[data]) (2.0.3)\n",
      "Requirement already satisfied: PyYAML>=6 in /home/celis/.local/lib/python3.11/site-packages (from oracle-ads[data]) (6.0.1)\n",
      "Requirement already satisfied: ocifs>=1.1.3 in /home/celis/.local/lib/python3.11/site-packages (from oracle-ads[data]) (1.3.0)\n",
      "Requirement already satisfied: fsspec<2023.9.1,>=0.8.7 in /home/celis/.local/lib/python3.11/site-packages (from oracle-ads[data]) (2023.9.0)\n",
      "Requirement already satisfied: cloudpickle>=1.6.0 in /home/celis/.local/lib/python3.11/site-packages (from oracle-ads[data]) (3.0.0)\n",
      "Requirement already satisfied: requests in /home/celis/.local/lib/python3.11/site-packages (from oracle-ads[data]) (2.31.0)\n",
      "Requirement already satisfied: gitpython>=3.1.2 in /home/celis/.local/lib/python3.11/site-packages (from oracle-ads[data]) (3.1.40)\n",
      "Requirement already satisfied: scikit-learn>=1.0 in /home/celis/.local/lib/python3.11/site-packages (from oracle-ads[data]) (1.3.2)\n",
      "Requirement already satisfied: cerberus>=1.3.4 in /home/celis/.local/lib/python3.11/site-packages (from oracle-ads[data]) (1.3.5)\n",
      "Requirement already satisfied: tabulate>=0.8.9 in /home/celis/.local/lib/python3.11/site-packages (from oracle-ads[data]) (0.9.0)\n",
      "Requirement already satisfied: matplotlib>=3.1.3 in /home/celis/.local/lib/python3.11/site-packages (from oracle-ads[data]) (3.8.0)\n",
      "Requirement already satisfied: jinja2>=2.11.2 in /home/celis/.local/lib/python3.11/site-packages (from oracle-ads[data]) (3.1.2)\n",
      "Requirement already satisfied: pandavro>=1.6.0 in /home/celis/.local/lib/python3.11/site-packages (from oracle-ads[data]) (1.8.0)\n",
      "Requirement already satisfied: oracledb>=1.0 in /home/celis/.local/lib/python3.11/site-packages (from oracle-ads[data]) (1.4.2)\n",
      "Requirement already satisfied: sqlalchemy<=1.4.46,>=1.4.1 in /home/celis/.local/lib/python3.11/site-packages (from oracle-ads[data]) (1.4.46)\n",
      "Requirement already satisfied: datefinder>=0.7.1 in /home/celis/.local/lib/python3.11/site-packages (from oracle-ads[data]) (0.7.3)\n",
      "Requirement already satisfied: fastavro>=0.24.2 in /home/celis/.local/lib/python3.11/site-packages (from oracle-ads[data]) (1.9.0)\n",
      "Requirement already satisfied: htmllistparse>=0.6.0 in /home/celis/.local/lib/python3.11/site-packages (from oracle-ads[data]) (0.6.1)\n",
      "Requirement already satisfied: openpyxl>=3.0.7 in /home/celis/.local/lib/python3.11/site-packages (from oracle-ads[data]) (3.1.2)\n",
      "Requirement already satisfied: regex>=2017.02.08 in /home/celis/.local/lib/python3.11/site-packages (from datefinder>=0.7.1->oracle-ads[data]) (2023.10.3)\n",
      "Requirement already satisfied: python-dateutil>=2.4.2 in /home/celis/.local/lib/python3.11/site-packages (from datefinder>=0.7.1->oracle-ads[data]) (2.8.2)\n",
      "Requirement already satisfied: pytz in /usr/lib/python3/dist-packages (from datefinder>=0.7.1->oracle-ads[data]) (2022.1)\n",
      "Requirement already satisfied: gitdb<5,>=4.0.1 in /home/celis/.local/lib/python3.11/site-packages (from gitpython>=3.1.2->oracle-ads[data]) (4.0.11)\n",
      "Requirement already satisfied: fusepy in /home/celis/.local/lib/python3.11/site-packages (from htmllistparse>=0.6.0->oracle-ads[data]) (3.0.1)\n",
      "Requirement already satisfied: beautifulsoup4 in /home/celis/.local/lib/python3.11/site-packages (from htmllistparse>=0.6.0->oracle-ads[data]) (4.12.2)\n",
      "Requirement already satisfied: html5lib in /home/celis/.local/lib/python3.11/site-packages (from htmllistparse>=0.6.0->oracle-ads[data]) (1.1)\n",
      "Requirement already satisfied: MarkupSafe>=2.0 in /home/celis/.local/lib/python3.11/site-packages (from jinja2>=2.11.2->oracle-ads[data]) (2.1.3)\n",
      "Requirement already satisfied: pyparsing>=2.3.1 in /usr/lib/python3/dist-packages (from matplotlib>=3.1.3->oracle-ads[data]) (2.4.7)\n",
      "Requirement already satisfied: cycler>=0.10 in /home/celis/.local/lib/python3.11/site-packages (from matplotlib>=3.1.3->oracle-ads[data]) (0.12.1)\n",
      "Requirement already satisfied: kiwisolver>=1.0.1 in /home/celis/.local/lib/python3.11/site-packages (from matplotlib>=3.1.3->oracle-ads[data]) (1.4.5)\n",
      "Requirement already satisfied: fonttools>=4.22.0 in /home/celis/.local/lib/python3.11/site-packages (from matplotlib>=3.1.3->oracle-ads[data]) (4.43.1)\n",
      "Requirement already satisfied: pillow>=6.2.0 in /home/celis/.local/lib/python3.11/site-packages (from matplotlib>=3.1.3->oracle-ads[data]) (10.1.0)\n",
      "Requirement already satisfied: packaging>=20.0 in /home/celis/.local/lib/python3.11/site-packages (from matplotlib>=3.1.3->oracle-ads[data]) (23.2)\n",
      "Requirement already satisfied: contourpy>=1.0.1 in /home/celis/.local/lib/python3.11/site-packages (from matplotlib>=3.1.3->oracle-ads[data]) (1.1.1)\n",
      "Requirement already satisfied: certifi in /usr/lib/python3/dist-packages (from oci>=2.113.0->oracle-ads[data]) (2020.6.20)\n",
      "Requirement already satisfied: circuitbreaker<2.0.0,>=1.3.1 in /home/celis/.local/lib/python3.11/site-packages (from oci>=2.113.0->oracle-ads[data]) (1.4.0)\n",
      "Requirement already satisfied: cryptography<42.0.0,>=3.2.1 in /home/celis/.local/lib/python3.11/site-packages (from oci>=2.113.0->oracle-ads[data]) (41.0.7)\n",
      "Requirement already satisfied: pyOpenSSL<24.0.0,>=17.5.0 in /home/celis/.local/lib/python3.11/site-packages (from oci>=2.113.0->oracle-ads[data]) (23.3.0)\n",
      "Requirement already satisfied: et-xmlfile in /home/celis/.local/lib/python3.11/site-packages (from openpyxl>=3.0.7->oracle-ads[data]) (1.1.0)\n",
      "Requirement already satisfied: tzdata>=2022.1 in /home/celis/.local/lib/python3.11/site-packages (from pandas<2.1,>1.2.1->oracle-ads[data]) (2023.3)\n",
      "Requirement already satisfied: inflection>=0.2 in /home/celis/.local/lib/python3.11/site-packages (from python_jsonschema_objects>=0.3.13->oracle-ads[data]) (0.5.1)\n",
      "Requirement already satisfied: Markdown>=2.4 in /home/celis/.local/lib/python3.11/site-packages (from python_jsonschema_objects>=0.3.13->oracle-ads[data]) (3.5.1)\n",
      "Requirement already satisfied: jsonschema>=4.18 in /home/celis/.local/lib/python3.11/site-packages (from python_jsonschema_objects>=0.3.13->oracle-ads[data]) (4.20.0)\n",
      "Requirement already satisfied: six>=1.5.2 in /usr/lib/python3/dist-packages (from python_jsonschema_objects>=0.3.13->oracle-ads[data]) (1.16.0)\n",
      "Requirement already satisfied: joblib>=1.1.1 in /home/celis/.local/lib/python3.11/site-packages (from scikit-learn>=1.0->oracle-ads[data]) (1.3.2)\n",
      "Requirement already satisfied: threadpoolctl>=2.0.0 in /home/celis/.local/lib/python3.11/site-packages (from scikit-learn>=1.0->oracle-ads[data]) (3.2.0)\n",
      "Requirement already satisfied: scipy>=1.5.0 in /home/celis/.local/lib/python3.11/site-packages (from scikit-learn>=1.0->oracle-ads[data]) (1.11.3)\n",
      "Requirement already satisfied: greenlet!=0.4.17 in /home/celis/.local/lib/python3.11/site-packages (from sqlalchemy<=1.4.46,>=1.4.1->oracle-ads[data]) (3.0.1)\n",
      "Requirement already satisfied: urllib3<3,>=1.21.1 in /usr/lib/python3/dist-packages (from requests->oracle-ads[data]) (1.26.5)\n",
      "Requirement already satisfied: charset-normalizer<4,>=2 in /home/celis/.local/lib/python3.11/site-packages (from requests->oracle-ads[data]) (3.3.2)\n",
      "Requirement already satisfied: idna<4,>=2.5 in /usr/lib/python3/dist-packages (from requests->oracle-ads[data]) (3.3)\n",
      "Requirement already satisfied: cffi>=1.12 in /home/celis/.local/lib/python3.11/site-packages (from cryptography<42.0.0,>=3.2.1->oci>=2.113.0->oracle-ads[data]) (1.16.0)\n",
      "Requirement already satisfied: smmap<6,>=3.0.1 in /home/celis/.local/lib/python3.11/site-packages (from gitdb<5,>=4.0.1->gitpython>=3.1.2->oracle-ads[data]) (5.0.1)\n",
      "Requirement already satisfied: attrs>=22.2.0 in /home/celis/.local/lib/python3.11/site-packages (from jsonschema>=4.18->python_jsonschema_objects>=0.3.13->oracle-ads[data]) (23.1.0)\n",
      "Requirement already satisfied: jsonschema-specifications>=2023.03.6 in /home/celis/.local/lib/python3.11/site-packages (from jsonschema>=4.18->python_jsonschema_objects>=0.3.13->oracle-ads[data]) (2023.11.2)\n",
      "Requirement already satisfied: rpds-py>=0.7.1 in /home/celis/.local/lib/python3.11/site-packages (from jsonschema>=4.18->python_jsonschema_objects>=0.3.13->oracle-ads[data]) (0.13.2)\n",
      "Requirement already satisfied: referencing>=0.28.4 in /home/celis/.local/lib/python3.11/site-packages (from jsonschema>=4.18->python_jsonschema_objects>=0.3.13->oracle-ads[data]) (0.31.1)\n",
      "Requirement already satisfied: soupsieve>1.2 in /home/celis/.local/lib/python3.11/site-packages (from beautifulsoup4->htmllistparse>=0.6.0->oracle-ads[data]) (2.5)\n",
      "Requirement already satisfied: webencodings in /home/celis/.local/lib/python3.11/site-packages (from html5lib->htmllistparse>=0.6.0->oracle-ads[data]) (0.5.1)\n",
      "Requirement already satisfied: pycparser in /home/celis/.local/lib/python3.11/site-packages (from cffi>=1.12->cryptography<42.0.0,>=3.2.1->oci>=2.113.0->oracle-ads[data]) (2.21)\n",
      "Note: you may need to restart the kernel to use updated packages.\n"
     ]
    }
   ],
   "source": [
    "pip install oracle-ads[data]"
   ]
  },
  {
   "cell_type": "code",
   "execution_count": 27,
   "metadata": {},
   "outputs": [
    {
     "name": "stdout",
     "output_type": "stream",
     "text": [
      "Defaulting to user installation because normal site-packages is not writeable\n",
      "Requirement already satisfied: imbalanced-learn in /home/celis/.local/lib/python3.11/site-packages (0.11.0)\n",
      "Requirement already satisfied: scipy>=1.5.0 in /home/celis/.local/lib/python3.11/site-packages (from imbalanced-learn) (1.11.3)\n",
      "Requirement already satisfied: joblib>=1.1.1 in /home/celis/.local/lib/python3.11/site-packages (from imbalanced-learn) (1.3.2)\n",
      "Requirement already satisfied: threadpoolctl>=2.0.0 in /home/celis/.local/lib/python3.11/site-packages (from imbalanced-learn) (3.2.0)\n",
      "Requirement already satisfied: scikit-learn>=1.0.2 in /home/celis/.local/lib/python3.11/site-packages (from imbalanced-learn) (1.3.2)\n",
      "Requirement already satisfied: numpy>=1.17.3 in /home/celis/.local/lib/python3.11/site-packages (from imbalanced-learn) (1.26.1)\n",
      "Note: you may need to restart the kernel to use updated packages.\n"
     ]
    }
   ],
   "source": [
    "pip install imbalanced-learn"
   ]
  },
  {
   "cell_type": "code",
   "execution_count": 28,
   "metadata": {},
   "outputs": [
    {
     "name": "stdout",
     "output_type": "stream",
     "text": [
      "Defaulting to user installation because normal site-packages is not writeable\n",
      "Requirement already satisfied: oracle-ads[notebook] in /home/celis/.local/lib/python3.11/site-packages (2.9.0)\n",
      "Requirement already satisfied: cloudpickle>=1.6.0 in /home/celis/.local/lib/python3.11/site-packages (from oracle-ads[notebook]) (3.0.0)\n",
      "Requirement already satisfied: cerberus>=1.3.4 in /home/celis/.local/lib/python3.11/site-packages (from oracle-ads[notebook]) (1.3.5)\n",
      "Requirement already satisfied: psutil>=5.7.2 in /home/celis/.local/lib/python3.11/site-packages (from oracle-ads[notebook]) (5.9.6)\n",
      "Requirement already satisfied: PyYAML>=6 in /home/celis/.local/lib/python3.11/site-packages (from oracle-ads[notebook]) (6.0.1)\n",
      "Requirement already satisfied: fsspec<2023.9.1,>=0.8.7 in /home/celis/.local/lib/python3.11/site-packages (from oracle-ads[notebook]) (2023.9.0)\n",
      "Requirement already satisfied: pandas<2.1,>1.2.1 in /home/celis/.local/lib/python3.11/site-packages (from oracle-ads[notebook]) (2.0.3)\n",
      "Requirement already satisfied: jinja2>=2.11.2 in /home/celis/.local/lib/python3.11/site-packages (from oracle-ads[notebook]) (3.1.2)\n",
      "Requirement already satisfied: scikit-learn>=1.0 in /home/celis/.local/lib/python3.11/site-packages (from oracle-ads[notebook]) (1.3.2)\n",
      "Requirement already satisfied: tqdm>=4.59.0 in /home/celis/.local/lib/python3.11/site-packages (from oracle-ads[notebook]) (4.66.1)\n",
      "Requirement already satisfied: numpy>=1.19.2 in /home/celis/.local/lib/python3.11/site-packages (from oracle-ads[notebook]) (1.26.1)\n",
      "Requirement already satisfied: tabulate>=0.8.9 in /home/celis/.local/lib/python3.11/site-packages (from oracle-ads[notebook]) (0.9.0)\n",
      "Requirement already satisfied: oci>=2.113.0 in /home/celis/.local/lib/python3.11/site-packages (from oracle-ads[notebook]) (2.116.0)\n",
      "Requirement already satisfied: gitpython>=3.1.2 in /home/celis/.local/lib/python3.11/site-packages (from oracle-ads[notebook]) (3.1.40)\n",
      "Requirement already satisfied: ocifs>=1.1.3 in /home/celis/.local/lib/python3.11/site-packages (from oracle-ads[notebook]) (1.3.0)\n",
      "Requirement already satisfied: python_jsonschema_objects>=0.3.13 in /home/celis/.local/lib/python3.11/site-packages (from oracle-ads[notebook]) (0.5.0)\n",
      "Requirement already satisfied: requests in /home/celis/.local/lib/python3.11/site-packages (from oracle-ads[notebook]) (2.31.0)\n",
      "Requirement already satisfied: matplotlib>=3.1.3 in /home/celis/.local/lib/python3.11/site-packages (from oracle-ads[notebook]) (3.8.0)\n",
      "Requirement already satisfied: asteval>=0.9.25 in /home/celis/.local/lib/python3.11/site-packages (from oracle-ads[notebook]) (0.9.31)\n",
      "Requirement already satisfied: ipython<8.0,>=7.23.1 in /home/celis/.local/lib/python3.11/site-packages (from oracle-ads[notebook]) (7.34.0)\n",
      "Requirement already satisfied: ipywidgets~=7.6.3 in /home/celis/.local/lib/python3.11/site-packages (from oracle-ads[notebook]) (7.6.6)\n",
      "Requirement already satisfied: gitdb<5,>=4.0.1 in /home/celis/.local/lib/python3.11/site-packages (from gitpython>=3.1.2->oracle-ads[notebook]) (4.0.11)\n",
      "Requirement already satisfied: traitlets>=4.2 in /home/celis/.local/lib/python3.11/site-packages (from ipython<8.0,>=7.23.1->oracle-ads[notebook]) (5.11.2)\n",
      "Requirement already satisfied: setuptools>=18.5 in /usr/lib/python3/dist-packages (from ipython<8.0,>=7.23.1->oracle-ads[notebook]) (59.6.0)\n",
      "Requirement already satisfied: jedi>=0.16 in /home/celis/.local/lib/python3.11/site-packages (from ipython<8.0,>=7.23.1->oracle-ads[notebook]) (0.19.1)\n",
      "Requirement already satisfied: pickleshare in /home/celis/.local/lib/python3.11/site-packages (from ipython<8.0,>=7.23.1->oracle-ads[notebook]) (0.7.5)\n",
      "Requirement already satisfied: matplotlib-inline in /home/celis/.local/lib/python3.11/site-packages (from ipython<8.0,>=7.23.1->oracle-ads[notebook]) (0.1.6)\n",
      "Requirement already satisfied: decorator in /home/celis/.local/lib/python3.11/site-packages (from ipython<8.0,>=7.23.1->oracle-ads[notebook]) (5.1.1)\n",
      "Requirement already satisfied: pexpect>4.3 in /home/celis/.local/lib/python3.11/site-packages (from ipython<8.0,>=7.23.1->oracle-ads[notebook]) (4.8.0)\n",
      "Requirement already satisfied: backcall in /home/celis/.local/lib/python3.11/site-packages (from ipython<8.0,>=7.23.1->oracle-ads[notebook]) (0.2.0)\n",
      "Requirement already satisfied: pygments in /home/celis/.local/lib/python3.11/site-packages (from ipython<8.0,>=7.23.1->oracle-ads[notebook]) (2.16.1)\n",
      "Requirement already satisfied: prompt-toolkit!=3.0.0,!=3.0.1,<3.1.0,>=2.0.0 in /home/celis/.local/lib/python3.11/site-packages (from ipython<8.0,>=7.23.1->oracle-ads[notebook]) (3.0.39)\n",
      "Requirement already satisfied: widgetsnbextension~=3.5.0 in /home/celis/.local/lib/python3.11/site-packages (from ipywidgets~=7.6.3->oracle-ads[notebook]) (3.5.2)\n",
      "Requirement already satisfied: ipykernel>=4.5.1 in /home/celis/.local/lib/python3.11/site-packages (from ipywidgets~=7.6.3->oracle-ads[notebook]) (6.25.2)\n",
      "Requirement already satisfied: nbformat>=4.2.0 in /home/celis/.local/lib/python3.11/site-packages (from ipywidgets~=7.6.3->oracle-ads[notebook]) (5.9.2)\n",
      "Requirement already satisfied: jupyterlab-widgets<3,>=1.0.0 in /home/celis/.local/lib/python3.11/site-packages (from ipywidgets~=7.6.3->oracle-ads[notebook]) (1.1.7)\n",
      "Requirement already satisfied: ipython-genutils~=0.2.0 in /home/celis/.local/lib/python3.11/site-packages (from ipywidgets~=7.6.3->oracle-ads[notebook]) (0.2.0)\n",
      "Requirement already satisfied: MarkupSafe>=2.0 in /home/celis/.local/lib/python3.11/site-packages (from jinja2>=2.11.2->oracle-ads[notebook]) (2.1.3)\n",
      "Requirement already satisfied: cycler>=0.10 in /home/celis/.local/lib/python3.11/site-packages (from matplotlib>=3.1.3->oracle-ads[notebook]) (0.12.1)\n",
      "Requirement already satisfied: pillow>=6.2.0 in /home/celis/.local/lib/python3.11/site-packages (from matplotlib>=3.1.3->oracle-ads[notebook]) (10.1.0)\n",
      "Requirement already satisfied: fonttools>=4.22.0 in /home/celis/.local/lib/python3.11/site-packages (from matplotlib>=3.1.3->oracle-ads[notebook]) (4.43.1)\n",
      "Requirement already satisfied: packaging>=20.0 in /home/celis/.local/lib/python3.11/site-packages (from matplotlib>=3.1.3->oracle-ads[notebook]) (23.2)\n",
      "Requirement already satisfied: contourpy>=1.0.1 in /home/celis/.local/lib/python3.11/site-packages (from matplotlib>=3.1.3->oracle-ads[notebook]) (1.1.1)\n",
      "Requirement already satisfied: kiwisolver>=1.0.1 in /home/celis/.local/lib/python3.11/site-packages (from matplotlib>=3.1.3->oracle-ads[notebook]) (1.4.5)\n",
      "Requirement already satisfied: python-dateutil>=2.7 in /home/celis/.local/lib/python3.11/site-packages (from matplotlib>=3.1.3->oracle-ads[notebook]) (2.8.2)\n",
      "Requirement already satisfied: pyparsing>=2.3.1 in /usr/lib/python3/dist-packages (from matplotlib>=3.1.3->oracle-ads[notebook]) (2.4.7)\n",
      "Requirement already satisfied: certifi in /usr/lib/python3/dist-packages (from oci>=2.113.0->oracle-ads[notebook]) (2020.6.20)\n",
      "Requirement already satisfied: circuitbreaker<2.0.0,>=1.3.1 in /home/celis/.local/lib/python3.11/site-packages (from oci>=2.113.0->oracle-ads[notebook]) (1.4.0)\n",
      "Requirement already satisfied: pyOpenSSL<24.0.0,>=17.5.0 in /home/celis/.local/lib/python3.11/site-packages (from oci>=2.113.0->oracle-ads[notebook]) (23.3.0)\n",
      "Requirement already satisfied: cryptography<42.0.0,>=3.2.1 in /home/celis/.local/lib/python3.11/site-packages (from oci>=2.113.0->oracle-ads[notebook]) (41.0.7)\n",
      "Requirement already satisfied: pytz>=2016.10 in /usr/lib/python3/dist-packages (from oci>=2.113.0->oracle-ads[notebook]) (2022.1)\n",
      "Requirement already satisfied: tzdata>=2022.1 in /home/celis/.local/lib/python3.11/site-packages (from pandas<2.1,>1.2.1->oracle-ads[notebook]) (2023.3)\n",
      "Requirement already satisfied: Markdown>=2.4 in /home/celis/.local/lib/python3.11/site-packages (from python_jsonschema_objects>=0.3.13->oracle-ads[notebook]) (3.5.1)\n",
      "Requirement already satisfied: six>=1.5.2 in /usr/lib/python3/dist-packages (from python_jsonschema_objects>=0.3.13->oracle-ads[notebook]) (1.16.0)\n",
      "Requirement already satisfied: inflection>=0.2 in /home/celis/.local/lib/python3.11/site-packages (from python_jsonschema_objects>=0.3.13->oracle-ads[notebook]) (0.5.1)\n",
      "Requirement already satisfied: jsonschema>=4.18 in /home/celis/.local/lib/python3.11/site-packages (from python_jsonschema_objects>=0.3.13->oracle-ads[notebook]) (4.20.0)\n",
      "Requirement already satisfied: threadpoolctl>=2.0.0 in /home/celis/.local/lib/python3.11/site-packages (from scikit-learn>=1.0->oracle-ads[notebook]) (3.2.0)\n",
      "Requirement already satisfied: joblib>=1.1.1 in /home/celis/.local/lib/python3.11/site-packages (from scikit-learn>=1.0->oracle-ads[notebook]) (1.3.2)\n",
      "Requirement already satisfied: scipy>=1.5.0 in /home/celis/.local/lib/python3.11/site-packages (from scikit-learn>=1.0->oracle-ads[notebook]) (1.11.3)\n",
      "Requirement already satisfied: charset-normalizer<4,>=2 in /home/celis/.local/lib/python3.11/site-packages (from requests->oracle-ads[notebook]) (3.3.2)\n",
      "Requirement already satisfied: urllib3<3,>=1.21.1 in /usr/lib/python3/dist-packages (from requests->oracle-ads[notebook]) (1.26.5)\n",
      "Requirement already satisfied: idna<4,>=2.5 in /usr/lib/python3/dist-packages (from requests->oracle-ads[notebook]) (3.3)\n",
      "Requirement already satisfied: cffi>=1.12 in /home/celis/.local/lib/python3.11/site-packages (from cryptography<42.0.0,>=3.2.1->oci>=2.113.0->oracle-ads[notebook]) (1.16.0)\n",
      "Requirement already satisfied: smmap<6,>=3.0.1 in /home/celis/.local/lib/python3.11/site-packages (from gitdb<5,>=4.0.1->gitpython>=3.1.2->oracle-ads[notebook]) (5.0.1)\n",
      "Requirement already satisfied: jupyter-core!=5.0.*,>=4.12 in /home/celis/.local/lib/python3.11/site-packages (from ipykernel>=4.5.1->ipywidgets~=7.6.3->oracle-ads[notebook]) (5.4.0)\n",
      "Requirement already satisfied: jupyter-client>=6.1.12 in /home/celis/.local/lib/python3.11/site-packages (from ipykernel>=4.5.1->ipywidgets~=7.6.3->oracle-ads[notebook]) (8.4.0)\n",
      "Requirement already satisfied: nest-asyncio in /home/celis/.local/lib/python3.11/site-packages (from ipykernel>=4.5.1->ipywidgets~=7.6.3->oracle-ads[notebook]) (1.5.8)\n",
      "Requirement already satisfied: comm>=0.1.1 in /home/celis/.local/lib/python3.11/site-packages (from ipykernel>=4.5.1->ipywidgets~=7.6.3->oracle-ads[notebook]) (0.1.4)\n",
      "Requirement already satisfied: tornado>=6.1 in /home/celis/.local/lib/python3.11/site-packages (from ipykernel>=4.5.1->ipywidgets~=7.6.3->oracle-ads[notebook]) (6.3.3)\n",
      "Requirement already satisfied: pyzmq>=20 in /home/celis/.local/lib/python3.11/site-packages (from ipykernel>=4.5.1->ipywidgets~=7.6.3->oracle-ads[notebook]) (25.1.1)\n",
      "Requirement already satisfied: debugpy>=1.6.5 in /home/celis/.local/lib/python3.11/site-packages (from ipykernel>=4.5.1->ipywidgets~=7.6.3->oracle-ads[notebook]) (1.8.0)\n",
      "Requirement already satisfied: parso<0.9.0,>=0.8.3 in /home/celis/.local/lib/python3.11/site-packages (from jedi>=0.16->ipython<8.0,>=7.23.1->oracle-ads[notebook]) (0.8.3)\n",
      "Requirement already satisfied: jsonschema-specifications>=2023.03.6 in /home/celis/.local/lib/python3.11/site-packages (from jsonschema>=4.18->python_jsonschema_objects>=0.3.13->oracle-ads[notebook]) (2023.11.2)\n",
      "Requirement already satisfied: rpds-py>=0.7.1 in /home/celis/.local/lib/python3.11/site-packages (from jsonschema>=4.18->python_jsonschema_objects>=0.3.13->oracle-ads[notebook]) (0.13.2)\n",
      "Requirement already satisfied: attrs>=22.2.0 in /home/celis/.local/lib/python3.11/site-packages (from jsonschema>=4.18->python_jsonschema_objects>=0.3.13->oracle-ads[notebook]) (23.1.0)\n",
      "Requirement already satisfied: referencing>=0.28.4 in /home/celis/.local/lib/python3.11/site-packages (from jsonschema>=4.18->python_jsonschema_objects>=0.3.13->oracle-ads[notebook]) (0.31.1)\n",
      "Requirement already satisfied: fastjsonschema in /home/celis/.local/lib/python3.11/site-packages (from nbformat>=4.2.0->ipywidgets~=7.6.3->oracle-ads[notebook]) (2.19.0)\n",
      "Requirement already satisfied: ptyprocess>=0.5 in /home/celis/.local/lib/python3.11/site-packages (from pexpect>4.3->ipython<8.0,>=7.23.1->oracle-ads[notebook]) (0.7.0)\n",
      "Requirement already satisfied: wcwidth in /home/celis/.local/lib/python3.11/site-packages (from prompt-toolkit!=3.0.0,!=3.0.1,<3.1.0,>=2.0.0->ipython<8.0,>=7.23.1->oracle-ads[notebook]) (0.2.8)\n",
      "Requirement already satisfied: notebook>=4.4.1 in /home/celis/.local/lib/python3.11/site-packages (from widgetsnbextension~=3.5.0->ipywidgets~=7.6.3->oracle-ads[notebook]) (7.0.6)\n",
      "Requirement already satisfied: pycparser in /home/celis/.local/lib/python3.11/site-packages (from cffi>=1.12->cryptography<42.0.0,>=3.2.1->oci>=2.113.0->oracle-ads[notebook]) (2.21)\n",
      "Requirement already satisfied: platformdirs>=2.5 in /usr/lib/python3/dist-packages (from jupyter-core!=5.0.*,>=4.12->ipykernel>=4.5.1->ipywidgets~=7.6.3->oracle-ads[notebook]) (2.5.1)\n",
      "Requirement already satisfied: jupyter-server<3,>=2.4.0 in /home/celis/.local/lib/python3.11/site-packages (from notebook>=4.4.1->widgetsnbextension~=3.5.0->ipywidgets~=7.6.3->oracle-ads[notebook]) (2.11.1)\n",
      "Requirement already satisfied: jupyterlab<5,>=4.0.2 in /home/celis/.local/lib/python3.11/site-packages (from notebook>=4.4.1->widgetsnbextension~=3.5.0->ipywidgets~=7.6.3->oracle-ads[notebook]) (4.0.9)\n",
      "Requirement already satisfied: notebook-shim<0.3,>=0.2 in /home/celis/.local/lib/python3.11/site-packages (from notebook>=4.4.1->widgetsnbextension~=3.5.0->ipywidgets~=7.6.3->oracle-ads[notebook]) (0.2.3)\n",
      "Requirement already satisfied: jupyterlab-server<3,>=2.22.1 in /home/celis/.local/lib/python3.11/site-packages (from notebook>=4.4.1->widgetsnbextension~=3.5.0->ipywidgets~=7.6.3->oracle-ads[notebook]) (2.25.2)\n",
      "Requirement already satisfied: jupyter-events>=0.9.0 in /home/celis/.local/lib/python3.11/site-packages (from jupyter-server<3,>=2.4.0->notebook>=4.4.1->widgetsnbextension~=3.5.0->ipywidgets~=7.6.3->oracle-ads[notebook]) (0.9.0)\n",
      "Requirement already satisfied: terminado>=0.8.3 in /home/celis/.local/lib/python3.11/site-packages (from jupyter-server<3,>=2.4.0->notebook>=4.4.1->widgetsnbextension~=3.5.0->ipywidgets~=7.6.3->oracle-ads[notebook]) (0.18.0)\n",
      "Requirement already satisfied: prometheus-client in /home/celis/.local/lib/python3.11/site-packages (from jupyter-server<3,>=2.4.0->notebook>=4.4.1->widgetsnbextension~=3.5.0->ipywidgets~=7.6.3->oracle-ads[notebook]) (0.19.0)\n",
      "Requirement already satisfied: anyio>=3.1.0 in /home/celis/.local/lib/python3.11/site-packages (from jupyter-server<3,>=2.4.0->notebook>=4.4.1->widgetsnbextension~=3.5.0->ipywidgets~=7.6.3->oracle-ads[notebook]) (4.1.0)\n",
      "Requirement already satisfied: nbconvert>=6.4.4 in /home/celis/.local/lib/python3.11/site-packages (from jupyter-server<3,>=2.4.0->notebook>=4.4.1->widgetsnbextension~=3.5.0->ipywidgets~=7.6.3->oracle-ads[notebook]) (7.11.0)\n",
      "Requirement already satisfied: argon2-cffi in /home/celis/.local/lib/python3.11/site-packages (from jupyter-server<3,>=2.4.0->notebook>=4.4.1->widgetsnbextension~=3.5.0->ipywidgets~=7.6.3->oracle-ads[notebook]) (23.1.0)\n",
      "Requirement already satisfied: jupyter-server-terminals in /home/celis/.local/lib/python3.11/site-packages (from jupyter-server<3,>=2.4.0->notebook>=4.4.1->widgetsnbextension~=3.5.0->ipywidgets~=7.6.3->oracle-ads[notebook]) (0.4.4)\n",
      "Requirement already satisfied: websocket-client in /home/celis/.local/lib/python3.11/site-packages (from jupyter-server<3,>=2.4.0->notebook>=4.4.1->widgetsnbextension~=3.5.0->ipywidgets~=7.6.3->oracle-ads[notebook]) (1.6.4)\n",
      "Requirement already satisfied: send2trash>=1.8.2 in /home/celis/.local/lib/python3.11/site-packages (from jupyter-server<3,>=2.4.0->notebook>=4.4.1->widgetsnbextension~=3.5.0->ipywidgets~=7.6.3->oracle-ads[notebook]) (1.8.2)\n",
      "Requirement already satisfied: overrides in /home/celis/.local/lib/python3.11/site-packages (from jupyter-server<3,>=2.4.0->notebook>=4.4.1->widgetsnbextension~=3.5.0->ipywidgets~=7.6.3->oracle-ads[notebook]) (7.4.0)\n",
      "Requirement already satisfied: jupyter-lsp>=2.0.0 in /home/celis/.local/lib/python3.11/site-packages (from jupyterlab<5,>=4.0.2->notebook>=4.4.1->widgetsnbextension~=3.5.0->ipywidgets~=7.6.3->oracle-ads[notebook]) (2.2.1)\n",
      "Requirement already satisfied: async-lru>=1.0.0 in /home/celis/.local/lib/python3.11/site-packages (from jupyterlab<5,>=4.0.2->notebook>=4.4.1->widgetsnbextension~=3.5.0->ipywidgets~=7.6.3->oracle-ads[notebook]) (2.0.4)\n",
      "Requirement already satisfied: json5>=0.9.0 in /home/celis/.local/lib/python3.11/site-packages (from jupyterlab-server<3,>=2.22.1->notebook>=4.4.1->widgetsnbextension~=3.5.0->ipywidgets~=7.6.3->oracle-ads[notebook]) (0.9.14)\n",
      "Requirement already satisfied: babel>=2.10 in /home/celis/.local/lib/python3.11/site-packages (from jupyterlab-server<3,>=2.22.1->notebook>=4.4.1->widgetsnbextension~=3.5.0->ipywidgets~=7.6.3->oracle-ads[notebook]) (2.13.1)\n",
      "Requirement already satisfied: sniffio>=1.1 in /home/celis/.local/lib/python3.11/site-packages (from anyio>=3.1.0->jupyter-server<3,>=2.4.0->notebook>=4.4.1->widgetsnbextension~=3.5.0->ipywidgets~=7.6.3->oracle-ads[notebook]) (1.3.0)\n",
      "Requirement already satisfied: rfc3339-validator in /home/celis/.local/lib/python3.11/site-packages (from jupyter-events>=0.9.0->jupyter-server<3,>=2.4.0->notebook>=4.4.1->widgetsnbextension~=3.5.0->ipywidgets~=7.6.3->oracle-ads[notebook]) (0.1.4)\n",
      "Requirement already satisfied: python-json-logger>=2.0.4 in /home/celis/.local/lib/python3.11/site-packages (from jupyter-events>=0.9.0->jupyter-server<3,>=2.4.0->notebook>=4.4.1->widgetsnbextension~=3.5.0->ipywidgets~=7.6.3->oracle-ads[notebook]) (2.0.7)\n",
      "Requirement already satisfied: rfc3986-validator>=0.1.1 in /home/celis/.local/lib/python3.11/site-packages (from jupyter-events>=0.9.0->jupyter-server<3,>=2.4.0->notebook>=4.4.1->widgetsnbextension~=3.5.0->ipywidgets~=7.6.3->oracle-ads[notebook]) (0.1.1)\n",
      "Requirement already satisfied: bleach!=5.0.0 in /home/celis/.local/lib/python3.11/site-packages (from nbconvert>=6.4.4->jupyter-server<3,>=2.4.0->notebook>=4.4.1->widgetsnbextension~=3.5.0->ipywidgets~=7.6.3->oracle-ads[notebook]) (6.1.0)\n",
      "Requirement already satisfied: mistune<4,>=2.0.3 in /home/celis/.local/lib/python3.11/site-packages (from nbconvert>=6.4.4->jupyter-server<3,>=2.4.0->notebook>=4.4.1->widgetsnbextension~=3.5.0->ipywidgets~=7.6.3->oracle-ads[notebook]) (3.0.2)\n",
      "Requirement already satisfied: pandocfilters>=1.4.1 in /home/celis/.local/lib/python3.11/site-packages (from nbconvert>=6.4.4->jupyter-server<3,>=2.4.0->notebook>=4.4.1->widgetsnbextension~=3.5.0->ipywidgets~=7.6.3->oracle-ads[notebook]) (1.5.0)\n",
      "Requirement already satisfied: nbclient>=0.5.0 in /home/celis/.local/lib/python3.11/site-packages (from nbconvert>=6.4.4->jupyter-server<3,>=2.4.0->notebook>=4.4.1->widgetsnbextension~=3.5.0->ipywidgets~=7.6.3->oracle-ads[notebook]) (0.9.0)\n",
      "Requirement already satisfied: beautifulsoup4 in /home/celis/.local/lib/python3.11/site-packages (from nbconvert>=6.4.4->jupyter-server<3,>=2.4.0->notebook>=4.4.1->widgetsnbextension~=3.5.0->ipywidgets~=7.6.3->oracle-ads[notebook]) (4.12.2)\n",
      "Requirement already satisfied: tinycss2 in /home/celis/.local/lib/python3.11/site-packages (from nbconvert>=6.4.4->jupyter-server<3,>=2.4.0->notebook>=4.4.1->widgetsnbextension~=3.5.0->ipywidgets~=7.6.3->oracle-ads[notebook]) (1.2.1)\n",
      "Requirement already satisfied: defusedxml in /home/celis/.local/lib/python3.11/site-packages (from nbconvert>=6.4.4->jupyter-server<3,>=2.4.0->notebook>=4.4.1->widgetsnbextension~=3.5.0->ipywidgets~=7.6.3->oracle-ads[notebook]) (0.7.1)\n",
      "Requirement already satisfied: jupyterlab-pygments in /home/celis/.local/lib/python3.11/site-packages (from nbconvert>=6.4.4->jupyter-server<3,>=2.4.0->notebook>=4.4.1->widgetsnbextension~=3.5.0->ipywidgets~=7.6.3->oracle-ads[notebook]) (0.3.0)\n",
      "Requirement already satisfied: argon2-cffi-bindings in /home/celis/.local/lib/python3.11/site-packages (from argon2-cffi->jupyter-server<3,>=2.4.0->notebook>=4.4.1->widgetsnbextension~=3.5.0->ipywidgets~=7.6.3->oracle-ads[notebook]) (21.2.0)\n",
      "Requirement already satisfied: webencodings in /home/celis/.local/lib/python3.11/site-packages (from bleach!=5.0.0->nbconvert>=6.4.4->jupyter-server<3,>=2.4.0->notebook>=4.4.1->widgetsnbextension~=3.5.0->ipywidgets~=7.6.3->oracle-ads[notebook]) (0.5.1)\n",
      "Requirement already satisfied: jsonpointer>1.13 in /home/celis/.local/lib/python3.11/site-packages (from jsonschema>=4.18->python_jsonschema_objects>=0.3.13->oracle-ads[notebook]) (2.4)\n",
      "Requirement already satisfied: uri-template in /home/celis/.local/lib/python3.11/site-packages (from jsonschema>=4.18->python_jsonschema_objects>=0.3.13->oracle-ads[notebook]) (1.3.0)\n",
      "Requirement already satisfied: webcolors>=1.11 in /home/celis/.local/lib/python3.11/site-packages (from jsonschema>=4.18->python_jsonschema_objects>=0.3.13->oracle-ads[notebook]) (1.13)\n",
      "Requirement already satisfied: isoduration in /home/celis/.local/lib/python3.11/site-packages (from jsonschema>=4.18->python_jsonschema_objects>=0.3.13->oracle-ads[notebook]) (20.11.0)\n",
      "Requirement already satisfied: fqdn in /home/celis/.local/lib/python3.11/site-packages (from jsonschema>=4.18->python_jsonschema_objects>=0.3.13->oracle-ads[notebook]) (1.5.1)\n",
      "Requirement already satisfied: soupsieve>1.2 in /home/celis/.local/lib/python3.11/site-packages (from beautifulsoup4->nbconvert>=6.4.4->jupyter-server<3,>=2.4.0->notebook>=4.4.1->widgetsnbextension~=3.5.0->ipywidgets~=7.6.3->oracle-ads[notebook]) (2.5)\n",
      "Requirement already satisfied: arrow>=0.15.0 in /home/celis/.local/lib/python3.11/site-packages (from isoduration->jsonschema>=4.18->python_jsonschema_objects>=0.3.13->oracle-ads[notebook]) (1.3.0)\n",
      "Requirement already satisfied: types-python-dateutil>=2.8.10 in /home/celis/.local/lib/python3.11/site-packages (from arrow>=0.15.0->isoduration->jsonschema>=4.18->python_jsonschema_objects>=0.3.13->oracle-ads[notebook]) (2.8.19.14)\n",
      "Note: you may need to restart the kernel to use updated packages.\n"
     ]
    }
   ],
   "source": [
    "pip install oracle-ads[notebook]"
   ]
  },
  {
   "cell_type": "code",
   "execution_count": 29,
   "metadata": {},
   "outputs": [
    {
     "name": "stderr",
     "output_type": "stream",
     "text": [
      "ERROR - Exception\n",
      "Traceback (most recent call last):\n",
      "  File \"/home/celis/.local/lib/python3.11/site-packages/IPython/core/interactiveshell.py\", line 3553, in run_code\n",
      "    exec(code_obj, self.user_global_ns, self.user_ns)\n",
      "  File \"/tmp/ipykernel_7000/3874518975.py\", line 18, in <cell line: 0>\n",
      "    from ads.explanations.explainer import ADSExplainer\n",
      "  File \"/home/celis/.local/lib/python3.11/site-packages/ads/explanations/explainer.py\", line 13, in <module>\n",
      "    class ADSExplainer(object):\n",
      "  File \"/home/celis/.local/lib/python3.11/site-packages/ads/explanations/explainer.py\", line 54, in ADSExplainer\n",
      "    def global_explanation(self, provider=MLXGlobalExplainer()):\n",
      "                                          ^^^^^^^^^^^^^^^^^^^^\n",
      "  File \"/home/celis/.local/lib/python3.11/site-packages/ads/common/decorator/deprecate.py\", line 62, in wrapper\n",
      "    raise NotSupportedError(msg)\n",
      "ads.common.decorator.deprecate.NotSupportedError: Working with AutoML has moved from within ADS to working directly with the AutoMLx library. AutoMLx are preinstalled in conda pack automlx_p38_cpu_v2 and later, and can now be updated independently of ADS. AutoMLx documentation may be found at https://docs.oracle.com/en-us/iaas/tools/automlx/latest/html/multiversion/v23.1.1/index.html. Notebook examples are in Oracle's samples repository: https://github.com/oracle-samples/oci-data-science-ai-samples/tree/master/notebook_examples and a migration tutorial can be found at https://accelerated-data-science.readthedocs.io/en/latest/user_guide/model_training/automl/quick_start.html .\n",
      "NotSupportedError: Working with AutoML has moved from within ADS to working directly with the AutoMLx library. AutoMLx are preinstalled in conda pack automlx_p38_cpu_v2 and later, and can now be updated independently of ADS. AutoMLx documentation may be found at https://docs.oracle.com/en-us/iaas/tools/automlx/latest/html/multiversion/v23.1.1/index.html. Notebook examples are in Oracle's samples repository: https://github.com/oracle-samples/oci-data-science-ai-samples/tree/master/notebook_examples and a migration tutorial can be found at https://accelerated-data-science.readthedocs.io/en/latest/user_guide/model_training/automl/quick_start.html ."
     ]
    }
   ],
   "source": [
    "import requests\n",
    "response = requests.get(\"https://oracle.com\")\n",
    "assert response.status_code==200, \"Internet connection failed\"\n",
    "\n",
    "\n",
    "import warnings\n",
    "warnings.filterwarnings('ignore')\n",
    "\n",
    "import logging\n",
    "logging.basicConfig(format='%(levelname)s:%(message)s', level=logging.ERROR)\n",
    "\n",
    "import ads\n",
    "from ads.dataset.factory import DatasetFactory\n",
    "from ads.automl.provider import OracleAutoMLProvider\n",
    "from ads.automl.driver import AutoML\n",
    "from ads.evaluations.evaluator import ADSEvaluator\n",
    "from ads.common.data import ADSData\n",
    "from ads.explanations.explainer import ADSExplainer\n",
    "from ads.explanations.mlx_global_explainer import MLXGlobalExplainer\n",
    "from ads.explanations.mlx_local_explainer import MLXLocalExplainer\n",
    "from ads.catalog.model import ModelCatalog\n",
    "from ads.common.model_artifact import ModelArtifact\n",
    "\n",
    "import os\n",
    "print(os.environ[\"NB_SESSION_COMPARTMENT_OCID\"])\n",
    "print(os.environ[\"PROJECT_OCID\"])\n",
    "print(os.environ[\"USER_OCID\"])\n",
    "print(os.environ[\"TENANCY_OCID\"])\n",
    "print(os.environ[\"NB_REGION\"])"
   ]
  },
  {
   "cell_type": "code",
   "execution_count": 30,
   "metadata": {},
   "outputs": [
    {
     "name": "stderr",
     "output_type": "stream",
     "text": [
      "ERROR - Exception\n",
      "Traceback (most recent call last):\n",
      "  File \"/home/celis/.local/lib/python3.11/site-packages/IPython/core/interactiveshell.py\", line 3553, in run_code\n",
      "    exec(code_obj, self.user_global_ns, self.user_ns)\n",
      "  File \"/tmp/ipykernel_7000/2397190709.py\", line 10, in <cell line: 0>\n",
      "    from ads.explanations.explainer import ADSExplainer\n",
      "  File \"/home/celis/.local/lib/python3.11/site-packages/ads/explanations/explainer.py\", line 13, in <module>\n",
      "    class ADSExplainer(object):\n",
      "  File \"/home/celis/.local/lib/python3.11/site-packages/ads/explanations/explainer.py\", line 54, in ADSExplainer\n",
      "    def global_explanation(self, provider=MLXGlobalExplainer()):\n",
      "                                          ^^^^^^^^^^^^^^^^^^^^\n",
      "  File \"/home/celis/.local/lib/python3.11/site-packages/ads/common/decorator/deprecate.py\", line 62, in wrapper\n",
      "    raise NotSupportedError(msg)\n",
      "ads.common.decorator.deprecate.NotSupportedError: Working with AutoML has moved from within ADS to working directly with the AutoMLx library. AutoMLx are preinstalled in conda pack automlx_p38_cpu_v2 and later, and can now be updated independently of ADS. AutoMLx documentation may be found at https://docs.oracle.com/en-us/iaas/tools/automlx/latest/html/multiversion/v23.1.1/index.html. Notebook examples are in Oracle's samples repository: https://github.com/oracle-samples/oci-data-science-ai-samples/tree/master/notebook_examples and a migration tutorial can be found at https://accelerated-data-science.readthedocs.io/en/latest/user_guide/model_training/automl/quick_start.html .\n",
      "NotSupportedError: Working with AutoML has moved from within ADS to working directly with the AutoMLx library. AutoMLx are preinstalled in conda pack automlx_p38_cpu_v2 and later, and can now be updated independently of ADS. AutoMLx documentation may be found at https://docs.oracle.com/en-us/iaas/tools/automlx/latest/html/multiversion/v23.1.1/index.html. Notebook examples are in Oracle's samples repository: https://github.com/oracle-samples/oci-data-science-ai-samples/tree/master/notebook_examples and a migration tutorial can be found at https://accelerated-data-science.readthedocs.io/en/latest/user_guide/model_training/automl/quick_start.html ."
     ]
    }
   ],
   "source": [
    "import requests\n",
    "import warnings\n",
    "import logging\n",
    "import ads\n",
    "from ads.dataset.factory import DatasetFactory\n",
    "from ads.automl.provider import OracleAutoMLProvider\n",
    "from ads.automl.driver import AutoML\n",
    "from ads.evaluations.evaluator import ADSEvaluator\n",
    "from ads.common.data import ADSData\n",
    "from ads.explanations.explainer import ADSExplainer\n",
    "from ads.explanations.mlx_global_explainer import MLXGlobalExplainer\n",
    "from ads.explanations.mlx_local_explainer import MLXLocalExplainer\n",
    "from ads.catalog.model import ModelCatalog\n",
    "from ads.common.model_artifact import ModelArtifact\n",
    "import os\n",
    "\n",
    "\n",
    "\n",
    "\n"
   ]
  },
  {
   "cell_type": "code",
   "execution_count": 31,
   "metadata": {},
   "outputs": [],
   "source": [
    "import ads\n",
    "import pandas as pd"
   ]
  },
  {
   "cell_type": "code",
   "execution_count": 32,
   "metadata": {},
   "outputs": [
    {
     "data": {
      "text/plain": [
       "'2.0.3'"
      ]
     },
     "execution_count": 32,
     "metadata": {},
     "output_type": "execute_result"
    }
   ],
   "source": [
    "pd.__version__"
   ]
  },
  {
   "cell_type": "code",
   "execution_count": 33,
   "metadata": {},
   "outputs": [
    {
     "data": {
      "text/plain": [
       "'2.9.0'"
      ]
     },
     "execution_count": 33,
     "metadata": {},
     "output_type": "execute_result"
    }
   ],
   "source": [
    "ads.__version__"
   ]
  },
  {
   "cell_type": "markdown",
   "metadata": {},
   "source": [
    "link de los datos = https://www.kaggle.com/datasets/dileep070/heart-disease-prediction-using-logistic-regression/"
   ]
  },
  {
   "cell_type": "code",
   "execution_count": 34,
   "metadata": {},
   "outputs": [
    {
     "data": {
      "text/html": [
       "<div>\n",
       "<style scoped>\n",
       "    .dataframe tbody tr th:only-of-type {\n",
       "        vertical-align: middle;\n",
       "    }\n",
       "\n",
       "    .dataframe tbody tr th {\n",
       "        vertical-align: top;\n",
       "    }\n",
       "\n",
       "    .dataframe thead th {\n",
       "        text-align: right;\n",
       "    }\n",
       "</style>\n",
       "<table border=\"1\" class=\"dataframe\">\n",
       "  <thead>\n",
       "    <tr style=\"text-align: right;\">\n",
       "      <th></th>\n",
       "      <th>male</th>\n",
       "      <th>age</th>\n",
       "      <th>education</th>\n",
       "      <th>currentSmoker</th>\n",
       "      <th>cigsPerDay</th>\n",
       "      <th>BPMeds</th>\n",
       "      <th>prevalentStroke</th>\n",
       "      <th>prevalentHyp</th>\n",
       "      <th>diabetes</th>\n",
       "      <th>totChol</th>\n",
       "      <th>sysBP</th>\n",
       "      <th>diaBP</th>\n",
       "      <th>BMI</th>\n",
       "      <th>heartRate</th>\n",
       "      <th>glucose</th>\n",
       "      <th>TenYearCHD</th>\n",
       "    </tr>\n",
       "  </thead>\n",
       "  <tbody>\n",
       "    <tr>\n",
       "      <th>3923</th>\n",
       "      <td>1</td>\n",
       "      <td>59</td>\n",
       "      <td>1.0</td>\n",
       "      <td>0</td>\n",
       "      <td>0.0</td>\n",
       "      <td>0.0</td>\n",
       "      <td>0</td>\n",
       "      <td>1</td>\n",
       "      <td>0</td>\n",
       "      <td>248.0</td>\n",
       "      <td>151.5</td>\n",
       "      <td>71.0</td>\n",
       "      <td>27.14</td>\n",
       "      <td>75.0</td>\n",
       "      <td>110.0</td>\n",
       "      <td>0</td>\n",
       "    </tr>\n",
       "    <tr>\n",
       "      <th>1352</th>\n",
       "      <td>1</td>\n",
       "      <td>37</td>\n",
       "      <td>2.0</td>\n",
       "      <td>1</td>\n",
       "      <td>30.0</td>\n",
       "      <td>0.0</td>\n",
       "      <td>0</td>\n",
       "      <td>0</td>\n",
       "      <td>0</td>\n",
       "      <td>246.0</td>\n",
       "      <td>124.0</td>\n",
       "      <td>83.0</td>\n",
       "      <td>30.93</td>\n",
       "      <td>60.0</td>\n",
       "      <td>85.0</td>\n",
       "      <td>0</td>\n",
       "    </tr>\n",
       "    <tr>\n",
       "      <th>4016</th>\n",
       "      <td>1</td>\n",
       "      <td>62</td>\n",
       "      <td>2.0</td>\n",
       "      <td>1</td>\n",
       "      <td>20.0</td>\n",
       "      <td>0.0</td>\n",
       "      <td>0</td>\n",
       "      <td>0</td>\n",
       "      <td>0</td>\n",
       "      <td>264.0</td>\n",
       "      <td>129.0</td>\n",
       "      <td>85.0</td>\n",
       "      <td>26.15</td>\n",
       "      <td>73.0</td>\n",
       "      <td>63.0</td>\n",
       "      <td>0</td>\n",
       "    </tr>\n",
       "    <tr>\n",
       "      <th>2240</th>\n",
       "      <td>1</td>\n",
       "      <td>46</td>\n",
       "      <td>2.0</td>\n",
       "      <td>0</td>\n",
       "      <td>0.0</td>\n",
       "      <td>0.0</td>\n",
       "      <td>0</td>\n",
       "      <td>0</td>\n",
       "      <td>0</td>\n",
       "      <td>270.0</td>\n",
       "      <td>138.0</td>\n",
       "      <td>97.0</td>\n",
       "      <td>33.79</td>\n",
       "      <td>90.0</td>\n",
       "      <td>65.0</td>\n",
       "      <td>0</td>\n",
       "    </tr>\n",
       "    <tr>\n",
       "      <th>3221</th>\n",
       "      <td>0</td>\n",
       "      <td>36</td>\n",
       "      <td>1.0</td>\n",
       "      <td>1</td>\n",
       "      <td>5.0</td>\n",
       "      <td>0.0</td>\n",
       "      <td>0</td>\n",
       "      <td>0</td>\n",
       "      <td>0</td>\n",
       "      <td>195.0</td>\n",
       "      <td>109.0</td>\n",
       "      <td>69.0</td>\n",
       "      <td>23.24</td>\n",
       "      <td>70.0</td>\n",
       "      <td>70.0</td>\n",
       "      <td>0</td>\n",
       "    </tr>\n",
       "  </tbody>\n",
       "</table>\n",
       "</div>"
      ],
      "text/plain": [
       "      male  age  education  currentSmoker  cigsPerDay  BPMeds  \\\n",
       "3923     1   59        1.0              0         0.0     0.0   \n",
       "1352     1   37        2.0              1        30.0     0.0   \n",
       "4016     1   62        2.0              1        20.0     0.0   \n",
       "2240     1   46        2.0              0         0.0     0.0   \n",
       "3221     0   36        1.0              1         5.0     0.0   \n",
       "\n",
       "      prevalentStroke  prevalentHyp  diabetes  totChol  sysBP  diaBP    BMI  \\\n",
       "3923                0             1         0    248.0  151.5   71.0  27.14   \n",
       "1352                0             0         0    246.0  124.0   83.0  30.93   \n",
       "4016                0             0         0    264.0  129.0   85.0  26.15   \n",
       "2240                0             0         0    270.0  138.0   97.0  33.79   \n",
       "3221                0             0         0    195.0  109.0   69.0  23.24   \n",
       "\n",
       "      heartRate  glucose  TenYearCHD  \n",
       "3923       75.0    110.0           0  \n",
       "1352       60.0     85.0           0  \n",
       "4016       73.0     63.0           0  \n",
       "2240       90.0     65.0           0  \n",
       "3221       70.0     70.0           0  "
      ]
     },
     "execution_count": 34,
     "metadata": {},
     "output_type": "execute_result"
    }
   ],
   "source": [
    "datos = pd.read_csv(\"data/framingham.csv\")\n",
    "datos.sample(5)"
   ]
  },
  {
   "cell_type": "code",
   "execution_count": 35,
   "metadata": {},
   "outputs": [
    {
     "data": {
      "text/plain": [
       "(4238, 16)"
      ]
     },
     "execution_count": 35,
     "metadata": {},
     "output_type": "execute_result"
    }
   ],
   "source": [
    "datos.shape"
   ]
  },
  {
   "cell_type": "code",
   "execution_count": 36,
   "metadata": {},
   "outputs": [
    {
     "data": {
      "text/plain": [
       "Index(['male', 'age', 'education', 'currentSmoker', 'cigsPerDay', 'BPMeds',\n",
       "       'prevalentStroke', 'prevalentHyp', 'diabetes', 'totChol', 'sysBP',\n",
       "       'diaBP', 'BMI', 'heartRate', 'glucose', 'TenYearCHD'],\n",
       "      dtype='object')"
      ]
     },
     "execution_count": 36,
     "metadata": {},
     "output_type": "execute_result"
    }
   ],
   "source": [
    "datos.columns"
   ]
  },
  {
   "cell_type": "markdown",
   "metadata": {},
   "source": [
    "###  2.2 Cargando el CSV"
   ]
  },
  {
   "cell_type": "code",
   "execution_count": 37,
   "metadata": {},
   "outputs": [
    {
     "data": {
      "application/vnd.jupyter.widget-view+json": {
       "model_id": "2956193b79834b0280bc8c041ad5fdb9",
       "version_major": 2,
       "version_minor": 0
      },
      "text/plain": [
       "loop1:   0%|          | 0/4 [00:00<?, ?it/s]"
      ]
     },
     "metadata": {},
     "output_type": "display_data"
    },
    {
     "data": {
      "text/html": [
       "<div>\n",
       "<style scoped>\n",
       "    .dataframe tbody tr th:only-of-type {\n",
       "        vertical-align: middle;\n",
       "    }\n",
       "\n",
       "    .dataframe tbody tr th {\n",
       "        vertical-align: top;\n",
       "    }\n",
       "\n",
       "    .dataframe thead th {\n",
       "        text-align: right;\n",
       "    }\n",
       "</style>\n",
       "<table border=\"1\" class=\"dataframe\">\n",
       "  <thead>\n",
       "    <tr style=\"text-align: right;\">\n",
       "      <th></th>\n",
       "      <th>male</th>\n",
       "      <th>age</th>\n",
       "      <th>education</th>\n",
       "      <th>currentSmoker</th>\n",
       "      <th>cigsPerDay</th>\n",
       "      <th>BPMeds</th>\n",
       "      <th>prevalentStroke</th>\n",
       "      <th>prevalentHyp</th>\n",
       "      <th>diabetes</th>\n",
       "      <th>totChol</th>\n",
       "      <th>sysBP</th>\n",
       "      <th>diaBP</th>\n",
       "      <th>BMI</th>\n",
       "      <th>heartRate</th>\n",
       "      <th>glucose</th>\n",
       "      <th>TenYearCHD</th>\n",
       "    </tr>\n",
       "  </thead>\n",
       "  <tbody>\n",
       "    <tr>\n",
       "      <th>0</th>\n",
       "      <td>1</td>\n",
       "      <td>39</td>\n",
       "      <td>4.0</td>\n",
       "      <td>0</td>\n",
       "      <td>0.0</td>\n",
       "      <td>0.0</td>\n",
       "      <td>0</td>\n",
       "      <td>0</td>\n",
       "      <td>0</td>\n",
       "      <td>195.0</td>\n",
       "      <td>106.0</td>\n",
       "      <td>70.0</td>\n",
       "      <td>26.97</td>\n",
       "      <td>80.0</td>\n",
       "      <td>77.0</td>\n",
       "      <td>0</td>\n",
       "    </tr>\n",
       "    <tr>\n",
       "      <th>1</th>\n",
       "      <td>0</td>\n",
       "      <td>46</td>\n",
       "      <td>2.0</td>\n",
       "      <td>0</td>\n",
       "      <td>0.0</td>\n",
       "      <td>0.0</td>\n",
       "      <td>0</td>\n",
       "      <td>0</td>\n",
       "      <td>0</td>\n",
       "      <td>250.0</td>\n",
       "      <td>121.0</td>\n",
       "      <td>81.0</td>\n",
       "      <td>28.73</td>\n",
       "      <td>95.0</td>\n",
       "      <td>76.0</td>\n",
       "      <td>0</td>\n",
       "    </tr>\n",
       "    <tr>\n",
       "      <th>2</th>\n",
       "      <td>1</td>\n",
       "      <td>48</td>\n",
       "      <td>1.0</td>\n",
       "      <td>1</td>\n",
       "      <td>20.0</td>\n",
       "      <td>0.0</td>\n",
       "      <td>0</td>\n",
       "      <td>0</td>\n",
       "      <td>0</td>\n",
       "      <td>245.0</td>\n",
       "      <td>127.5</td>\n",
       "      <td>80.0</td>\n",
       "      <td>25.34</td>\n",
       "      <td>75.0</td>\n",
       "      <td>70.0</td>\n",
       "      <td>0</td>\n",
       "    </tr>\n",
       "    <tr>\n",
       "      <th>3</th>\n",
       "      <td>0</td>\n",
       "      <td>61</td>\n",
       "      <td>3.0</td>\n",
       "      <td>1</td>\n",
       "      <td>30.0</td>\n",
       "      <td>0.0</td>\n",
       "      <td>0</td>\n",
       "      <td>1</td>\n",
       "      <td>0</td>\n",
       "      <td>225.0</td>\n",
       "      <td>150.0</td>\n",
       "      <td>95.0</td>\n",
       "      <td>28.58</td>\n",
       "      <td>65.0</td>\n",
       "      <td>103.0</td>\n",
       "      <td>1</td>\n",
       "    </tr>\n",
       "    <tr>\n",
       "      <th>4</th>\n",
       "      <td>0</td>\n",
       "      <td>46</td>\n",
       "      <td>3.0</td>\n",
       "      <td>1</td>\n",
       "      <td>23.0</td>\n",
       "      <td>0.0</td>\n",
       "      <td>0</td>\n",
       "      <td>0</td>\n",
       "      <td>0</td>\n",
       "      <td>285.0</td>\n",
       "      <td>130.0</td>\n",
       "      <td>84.0</td>\n",
       "      <td>23.10</td>\n",
       "      <td>85.0</td>\n",
       "      <td>85.0</td>\n",
       "      <td>0</td>\n",
       "    </tr>\n",
       "  </tbody>\n",
       "</table>\n",
       "</div>"
      ],
      "text/plain": [
       "   male  age  education  currentSmoker  cigsPerDay  BPMeds  prevalentStroke  \\\n",
       "0     1   39        4.0              0         0.0     0.0                0   \n",
       "1     0   46        2.0              0         0.0     0.0                0   \n",
       "2     1   48        1.0              1        20.0     0.0                0   \n",
       "3     0   61        3.0              1        30.0     0.0                0   \n",
       "4     0   46        3.0              1        23.0     0.0                0   \n",
       "\n",
       "   prevalentHyp  diabetes  totChol  sysBP  diaBP    BMI  heartRate  glucose  \\\n",
       "0             0         0    195.0  106.0   70.0  26.97       80.0     77.0   \n",
       "1             0         0    250.0  121.0   81.0  28.73       95.0     76.0   \n",
       "2             0         0    245.0  127.5   80.0  25.34       75.0     70.0   \n",
       "3             1         0    225.0  150.0   95.0  28.58       65.0    103.0   \n",
       "4             0         0    285.0  130.0   84.0  23.10       85.0     85.0   \n",
       "\n",
       "   TenYearCHD  \n",
       "0           0  \n",
       "1           0  \n",
       "2           0  \n",
       "3           1  \n",
       "4           0  "
      ]
     },
     "execution_count": 37,
     "metadata": {},
     "output_type": "execute_result"
    }
   ],
   "source": [
    "from ads.dataset.factory import DatasetFactory\n",
    "\n",
    "ds = DatasetFactory.open('data/framingham.csv', target='TenYearCHD')\n",
    "ds.head()"
   ]
  },
  {
   "cell_type": "code",
   "execution_count": null,
   "metadata": {},
   "outputs": [
    {
     "name": "stderr",
     "output_type": "stream",
     "text": [
      "ERROR - Exception\n",
      "Traceback (most recent call last):\n",
      "  File \"/home/celis/.local/lib/python3.11/site-packages/IPython/core/interactiveshell.py\", line 3526, in run_code\n",
      "    exec(code_obj, self.user_global_ns, self.user_ns)\n",
      "  File \"/tmp/ipykernel_387/3745045631.py\", line 1, in <module>\n",
      "    type(ds)\n",
      "         ^^\n",
      "NameError: name 'ds' is not defined\n",
      "NameError: name 'ds' is not defined"
     ]
    }
   ],
   "source": [
    "type(ds)"
   ]
  },
  {
   "cell_type": "code",
   "execution_count": null,
   "metadata": {},
   "outputs": [
    {
     "data": {
      "text/plain": [
       "pandas.core.frame.DataFrame"
      ]
     },
     "execution_count": 82,
     "metadata": {},
     "output_type": "execute_result"
    }
   ],
   "source": [
    "type(datos)"
   ]
  },
  {
   "cell_type": "code",
   "execution_count": null,
   "metadata": {},
   "outputs": [
    {
     "name": "stderr",
     "output_type": "stream",
     "text": [
      "ERROR - Exception\n",
      "Traceback (most recent call last):\n",
      "  File \"/home/celis/.local/lib/python3.11/site-packages/IPython/core/interactiveshell.py\", line 3526, in run_code\n",
      "    exec(code_obj, self.user_global_ns, self.user_ns)\n",
      "  File \"/tmp/ipykernel_387/1656581057.py\", line 1, in <module>\n",
      "    ds.columns\n",
      "    ^^\n",
      "NameError: name 'ds' is not defined\n",
      "NameError: name 'ds' is not defined"
     ]
    }
   ],
   "source": [
    "ds.columns"
   ]
  },
  {
   "cell_type": "code",
   "execution_count": null,
   "metadata": {},
   "outputs": [],
   "source": [
    "dict_ing_esp = {\n",
    "    \"male\":\"sexo\",\n",
    "    \"age\":\"edad\",\n",
    "    \"education\":\"escolaridad\",\n",
    "    \"currentSmoker\":\"fumador\",\n",
    "    \"cigsPerDay\":\"cigarrillos_por_dia\",\n",
    "    \"BPMeds\":\"uso_medicamentos_presion\",\n",
    "    \"prevalentStroke\":\"acv\",\n",
    "    \"prevalentHyp\":\"hipertension\",\n",
    "    \"diabetes\":\"diabetes\",\n",
    "    \"totChol\":\"colesterol_total\",\n",
    "    \"sysBP\":\"presion_arterial_sistolica\",\n",
    "    \"diaBP\":\"presion_arterial_diastolica\",\n",
    "    \"BMI\":\"imc\",\n",
    "    \"heartRate\":\"fracuencia_cardiaca\",\n",
    "    \"glucose\":\"glicemia\",\n",
    "    \"TenYearCHD\":\"riesgo_eac_decada\"\n",
    "}"
   ]
  },
  {
   "cell_type": "code",
   "execution_count": null,
   "metadata": {},
   "outputs": [
    {
     "name": "stderr",
     "output_type": "stream",
     "text": [
      "ERROR - Exception\n",
      "Traceback (most recent call last):\n",
      "  File \"/home/celis/.local/lib/python3.11/site-packages/IPython/core/interactiveshell.py\", line 3526, in run_code\n",
      "    exec(code_obj, self.user_global_ns, self.user_ns)\n",
      "  File \"/tmp/ipykernel_387/3957733278.py\", line 1, in <module>\n",
      "    ds = ds.rename_columns(columns=dict_ing_esp)\n",
      "         ^^\n",
      "NameError: name 'ds' is not defined\n",
      "NameError: name 'ds' is not defined"
     ]
    }
   ],
   "source": [
    "ds = ds.rename_columns(columns=dict_ing_esp)"
   ]
  },
  {
   "cell_type": "code",
   "execution_count": null,
   "metadata": {},
   "outputs": [
    {
     "name": "stderr",
     "output_type": "stream",
     "text": [
      "ERROR - Exception\n",
      "Traceback (most recent call last):\n",
      "  File \"/home/celis/.local/lib/python3.11/site-packages/IPython/core/interactiveshell.py\", line 3526, in run_code\n",
      "    exec(code_obj, self.user_global_ns, self.user_ns)\n",
      "  File \"/tmp/ipykernel_387/1656581057.py\", line 1, in <module>\n",
      "    ds.columns\n",
      "    ^^\n",
      "NameError: name 'ds' is not defined\n",
      "NameError: name 'ds' is not defined"
     ]
    }
   ],
   "source": [
    "ds.columns"
   ]
  },
  {
   "cell_type": "code",
   "execution_count": null,
   "metadata": {},
   "outputs": [
    {
     "name": "stderr",
     "output_type": "stream",
     "text": [
      "ERROR - Exception\n",
      "Traceback (most recent call last):\n",
      "  File \"/home/celis/.local/lib/python3.11/site-packages/IPython/core/interactiveshell.py\", line 3526, in run_code\n",
      "    exec(code_obj, self.user_global_ns, self.user_ns)\n",
      "  File \"/tmp/ipykernel_387/1533807045.py\", line 1, in <module>\n",
      "    ds.head()\n",
      "    ^^\n",
      "NameError: name 'ds' is not defined\n",
      "NameError: name 'ds' is not defined"
     ]
    }
   ],
   "source": [
    "ds.head()"
   ]
  },
  {
   "cell_type": "code",
   "execution_count": null,
   "metadata": {},
   "outputs": [
    {
     "name": "stderr",
     "output_type": "stream",
     "text": [
      "ERROR - Exception\n",
      "Traceback (most recent call last):\n",
      "  File \"/home/celis/.local/lib/python3.11/site-packages/IPython/core/interactiveshell.py\", line 3526, in run_code\n",
      "    exec(code_obj, self.user_global_ns, self.user_ns)\n",
      "  File \"/tmp/ipykernel_387/1171898772.py\", line 1, in <module>\n",
      "    ds = ds.drop_columns(\"escolaridad\")\n",
      "         ^^\n",
      "NameError: name 'ds' is not defined\n",
      "NameError: name 'ds' is not defined"
     ]
    }
   ],
   "source": [
    "ds = ds.drop_columns(\"escolaridad\")"
   ]
  },
  {
   "cell_type": "code",
   "execution_count": null,
   "metadata": {},
   "outputs": [
    {
     "name": "stderr",
     "output_type": "stream",
     "text": [
      "ERROR - Exception                                               \n",
      "Traceback (most recent call last):\n",
      "  File \"/home/celis/.local/lib/python3.11/site-packages/IPython/core/interactiveshell.py\", line 3526, in run_code\n",
      "    exec(code_obj, self.user_global_ns, self.user_ns)\n",
      "  File \"/tmp/ipykernel_387/1656581057.py\", line 1, in <module>\n",
      "    ds.columns\n",
      "    ^^\n",
      "NameError: name 'ds' is not defined\n",
      "NameError: name 'ds' is not defined"
     ]
    }
   ],
   "source": [
    "ds.columns"
   ]
  },
  {
   "cell_type": "markdown",
   "metadata": {},
   "source": [
    "### 2.3 Creando un ADS DataFreme"
   ]
  },
  {
   "cell_type": "code",
   "execution_count": null,
   "metadata": {},
   "outputs": [
    {
     "name": "stderr",
     "output_type": "stream",
     "text": [
      "ERROR - Exception\n",
      "Traceback (most recent call last):\n",
      "  File \"/home/celis/.local/lib/python3.11/site-packages/IPython/core/interactiveshell.py\", line 3526, in run_code\n",
      "    exec(code_obj, self.user_global_ns, self.user_ns)\n",
      "  File \"/tmp/ipykernel_387/3755559537.py\", line 1, in <module>\n",
      "    ds.summary()\n",
      "    ^^\n",
      "NameError: name 'ds' is not defined\n",
      "NameError: name 'ds' is not defined"
     ]
    }
   ],
   "source": [
    "ds.summary()"
   ]
  },
  {
   "cell_type": "code",
   "execution_count": null,
   "metadata": {},
   "outputs": [
    {
     "name": "stderr",
     "output_type": "stream",
     "text": [
      "ERROR - Exception\n",
      "Traceback (most recent call last):\n",
      "  File \"/home/celis/.local/lib/python3.11/site-packages/IPython/core/interactiveshell.py\", line 3526, in run_code\n",
      "    exec(code_obj, self.user_global_ns, self.user_ns)\n",
      "  File \"/tmp/ipykernel_387/649199912.py\", line 1, in <module>\n",
      "    ds.cigarrillos_por_dia.unique()\n",
      "    ^^\n",
      "NameError: name 'ds' is not defined\n",
      "NameError: name 'ds' is not defined"
     ]
    }
   ],
   "source": [
    "ds.cigarrillos_por_dia.unique()"
   ]
  },
  {
   "cell_type": "code",
   "execution_count": null,
   "metadata": {},
   "outputs": [
    {
     "name": "stderr",
     "output_type": "stream",
     "text": [
      "ERROR - Exception\n",
      "Traceback (most recent call last):\n",
      "  File \"/home/celis/.local/lib/python3.11/site-packages/IPython/core/interactiveshell.py\", line 3526, in run_code\n",
      "    exec(code_obj, self.user_global_ns, self.user_ns)\n",
      "  File \"/tmp/ipykernel_387/4173944523.py\", line 1, in <module>\n",
      "    ds.isnull().sum()\n",
      "    ^^\n",
      "NameError: name 'ds' is not defined\n",
      "NameError: name 'ds' is not defined"
     ]
    }
   ],
   "source": [
    "ds.isnull().sum()"
   ]
  },
  {
   "cell_type": "code",
   "execution_count": null,
   "metadata": {},
   "outputs": [
    {
     "name": "stderr",
     "output_type": "stream",
     "text": [
      "ERROR - Exception\n",
      "Traceback (most recent call last):\n",
      "  File \"/home/celis/.local/lib/python3.11/site-packages/IPython/core/interactiveshell.py\", line 3526, in run_code\n",
      "    exec(code_obj, self.user_global_ns, self.user_ns)\n",
      "  File \"/tmp/ipykernel_387/2675472459.py\", line 1, in <module>\n",
      "    seleccion_correctos = ds.cigarrilos_por_dia.notnull()\n",
      "                          ^^\n",
      "NameError: name 'ds' is not defined\n",
      "NameError: name 'ds' is not defined"
     ]
    }
   ],
   "source": [
    "seleccion_correctos = ds.cigarrilos_por_dia.notnull()"
   ]
  },
  {
   "cell_type": "code",
   "execution_count": null,
   "metadata": {},
   "outputs": [
    {
     "name": "stderr",
     "output_type": "stream",
     "text": [
      "ERROR - Exception\n",
      "Traceback (most recent call last):\n",
      "  File \"/home/celis/.local/lib/python3.11/site-packages/IPython/core/interactiveshell.py\", line 3526, in run_code\n",
      "    exec(code_obj, self.user_global_ns, self.user_ns)\n",
      "  File \"/tmp/ipykernel_387/516690611.py\", line 1, in <module>\n",
      "    ds = ds[seleccion_correctos]\n",
      "         ^^\n",
      "NameError: name 'ds' is not defined\n",
      "NameError: name 'ds' is not defined"
     ]
    }
   ],
   "source": [
    "ds = ds[seleccion_correctos]"
   ]
  },
  {
   "cell_type": "code",
   "execution_count": null,
   "metadata": {},
   "outputs": [
    {
     "name": "stderr",
     "output_type": "stream",
     "text": [
      "ERROR - Exception\n",
      "Traceback (most recent call last):\n",
      "  File \"/home/celis/.local/lib/python3.11/site-packages/IPython/core/interactiveshell.py\", line 3526, in run_code\n",
      "    exec(code_obj, self.user_global_ns, self.user_ns)\n",
      "  File \"/tmp/ipykernel_387/4173944523.py\", line 1, in <module>\n",
      "    ds.isnull().sum()\n",
      "    ^^\n",
      "NameError: name 'ds' is not defined\n",
      "NameError: name 'ds' is not defined"
     ]
    }
   ],
   "source": [
    "ds.isnull().sum()"
   ]
  },
  {
   "cell_type": "code",
   "execution_count": null,
   "metadata": {},
   "outputs": [
    {
     "name": "stderr",
     "output_type": "stream",
     "text": [
      "ERROR - Exception\n",
      "Traceback (most recent call last):\n",
      "  File \"/home/celis/.local/lib/python3.11/site-packages/IPython/core/interactiveshell.py\", line 3526, in run_code\n",
      "    exec(code_obj, self.user_global_ns, self.user_ns)\n",
      "  File \"/tmp/ipykernel_387/2374905155.py\", line 1, in <module>\n",
      "    ds = ds[ds.uso_medicamento_presion.notnull()]\n",
      "         ^^\n",
      "NameError: name 'ds' is not defined\n",
      "NameError: name 'ds' is not defined"
     ]
    }
   ],
   "source": [
    "ds = ds[ds.uso_medicamento_presion.notnull()]\n",
    "ds = ds[ds.colesterol_total.notnull()]\n",
    "ds = ds[ds.imc.notnull()]\n",
    "ds = ds[ds.frecuencia_cardiaca.notnull()]"
   ]
  },
  {
   "cell_type": "code",
   "execution_count": null,
   "metadata": {},
   "outputs": [
    {
     "name": "stderr",
     "output_type": "stream",
     "text": [
      "ERROR - Exception\n",
      "Traceback (most recent call last):\n",
      "  File \"/home/celis/.local/lib/python3.11/site-packages/IPython/core/interactiveshell.py\", line 3526, in run_code\n",
      "    exec(code_obj, self.user_global_ns, self.user_ns)\n",
      "  File \"/tmp/ipykernel_387/4173944523.py\", line 1, in <module>\n",
      "    ds.isnull().sum()\n",
      "    ^^\n",
      "NameError: name 'ds' is not defined\n",
      "NameError: name 'ds' is not defined"
     ]
    }
   ],
   "source": [
    "ds.isnull().sum()"
   ]
  },
  {
   "cell_type": "markdown",
   "metadata": {},
   "source": [
    "### 2.4 Tratamiento de datos faltantes"
   ]
  },
  {
   "cell_type": "code",
   "execution_count": null,
   "metadata": {},
   "outputs": [
    {
     "name": "stderr",
     "output_type": "stream",
     "text": [
      "ERROR - Exception\n",
      "Traceback (most recent call last):\n",
      "  File \"/home/celis/.local/lib/python3.11/site-packages/IPython/core/interactiveshell.py\", line 3526, in run_code\n",
      "    exec(code_obj, self.user_global_ns, self.user_ns)\n",
      "  File \"/tmp/ipykernel_387/542771762.py\", line 1, in <module>\n",
      "    personas_con_diabetes = ds[ds.diabetes == 1]\n",
      "                            ^^\n",
      "NameError: name 'ds' is not defined\n",
      "NameError: name 'ds' is not defined"
     ]
    }
   ],
   "source": [
    "personas_con_diabetes = ds[ds.diabetes == 1]"
   ]
  },
  {
   "cell_type": "code",
   "execution_count": null,
   "metadata": {},
   "outputs": [
    {
     "name": "stderr",
     "output_type": "stream",
     "text": [
      "ERROR - Exception\n",
      "Traceback (most recent call last):\n",
      "  File \"/home/celis/.local/lib/python3.11/site-packages/IPython/core/interactiveshell.py\", line 3526, in run_code\n",
      "    exec(code_obj, self.user_global_ns, self.user_ns)\n",
      "  File \"/tmp/ipykernel_387/3487947662.py\", line 1, in <module>\n",
      "    personas_con_diabetes = ds[ds.diabetes == 0]\n",
      "                            ^^\n",
      "NameError: name 'ds' is not defined\n",
      "NameError: name 'ds' is not defined"
     ]
    }
   ],
   "source": [
    "personas_con_diabetes = ds[ds.diabetes == 0]"
   ]
  },
  {
   "cell_type": "code",
   "execution_count": null,
   "metadata": {},
   "outputs": [
    {
     "name": "stderr",
     "output_type": "stream",
     "text": [
      "ERROR - Exception\n",
      "Traceback (most recent call last):\n",
      "  File \"/home/celis/.local/lib/python3.11/site-packages/IPython/core/interactiveshell.py\", line 3526, in run_code\n",
      "    exec(code_obj, self.user_global_ns, self.user_ns)\n",
      "  File \"/tmp/ipykernel_387/637862614.py\", line 1, in <module>\n",
      "    personas_con_diabetes.glicemia.head()\n",
      "    ^^^^^^^^^^^^^^^^^^^^^\n",
      "NameError: name 'personas_con_diabetes' is not defined\n",
      "NameError: name 'personas_con_diabetes' is not defined"
     ]
    }
   ],
   "source": [
    "personas_con_diabetes.glicemia.head()"
   ]
  },
  {
   "cell_type": "code",
   "execution_count": null,
   "metadata": {},
   "outputs": [
    {
     "name": "stderr",
     "output_type": "stream",
     "text": [
      "ERROR - Exception\n",
      "Traceback (most recent call last):\n",
      "  File \"/home/celis/.local/lib/python3.11/site-packages/IPython/core/interactiveshell.py\", line 3526, in run_code\n",
      "    exec(code_obj, self.user_global_ns, self.user_ns)\n",
      "  File \"/tmp/ipykernel_387/1348248839.py\", line 1, in <module>\n",
      "    personas_sin_diabetes.glicemia.mean()\n",
      "    ^^^^^^^^^^^^^^^^^^^^^\n",
      "NameError: name 'personas_sin_diabetes' is not defined\n",
      "NameError: name 'personas_sin_diabetes' is not defined"
     ]
    }
   ],
   "source": [
    "personas_sin_diabetes.glicemia.mean()"
   ]
  },
  {
   "cell_type": "code",
   "execution_count": null,
   "metadata": {},
   "outputs": [
    {
     "name": "stderr",
     "output_type": "stream",
     "text": [
      "ERROR - Exception\n",
      "Traceback (most recent call last):\n",
      "  File \"/home/celis/.local/lib/python3.11/site-packages/IPython/core/interactiveshell.py\", line 3526, in run_code\n",
      "    exec(code_obj, self.user_global_ns, self.user_ns)\n",
      "  File \"/tmp/ipykernel_387/1161362366.py\", line 1, in <module>\n",
      "    ds.glicemia.describe()\n",
      "    ^^\n",
      "NameError: name 'ds' is not defined\n",
      "NameError: name 'ds' is not defined"
     ]
    }
   ],
   "source": [
    "ds.glicemia.describe()"
   ]
  },
  {
   "cell_type": "code",
   "execution_count": null,
   "metadata": {},
   "outputs": [
    {
     "name": "stderr",
     "output_type": "stream",
     "text": [
      "ERROR - Exception\n",
      "Traceback (most recent call last):\n",
      "  File \"/home/celis/.local/lib/python3.11/site-packages/IPython/core/interactiveshell.py\", line 3526, in run_code\n",
      "    exec(code_obj, self.user_global_ns, self.user_ns)\n",
      "  File \"/tmp/ipykernel_387/80078867.py\", line 1, in <module>\n",
      "    ds.diabetes.value_counts(normalize= True)\n",
      "    ^^\n",
      "NameError: name 'ds' is not defined\n",
      "NameError: name 'ds' is not defined"
     ]
    }
   ],
   "source": [
    "ds.diabetes.value_counts(normalize= True)"
   ]
  },
  {
   "cell_type": "code",
   "execution_count": null,
   "metadata": {},
   "outputs": [
    {
     "name": "stderr",
     "output_type": "stream",
     "text": [
      "ERROR - Exception\n",
      "Traceback (most recent call last):\n",
      "  File \"/home/celis/.local/lib/python3.11/site-packages/IPython/core/interactiveshell.py\", line 3526, in run_code\n",
      "    exec(code_obj, self.user_global_ns, self.user_ns)\n",
      "  File \"/tmp/ipykernel_387/2730076443.py\", line 3, in <module>\n",
      "    ax = sns.distplot(personas_con_diabetes.glicemia, norm_hist = False)\n",
      "                      ^^^^^^^^^^^^^^^^^^^^^\n",
      "NameError: name 'personas_con_diabetes' is not defined\n",
      "NameError: name 'personas_con_diabetes' is not defined"
     ]
    }
   ],
   "source": [
    "import seaborn as sns\n",
    "\n",
    "ax = sns.distplot(personas_con_diabetes.glicemia, norm_hist = False)\n",
    "ax.set_xlim(0, 400)"
   ]
  },
  {
   "cell_type": "code",
   "execution_count": null,
   "metadata": {},
   "outputs": [
    {
     "name": "stderr",
     "output_type": "stream",
     "text": [
      "ERROR - Exception\n",
      "Traceback (most recent call last):\n",
      "  File \"/home/celis/.local/lib/python3.11/site-packages/IPython/core/interactiveshell.py\", line 3526, in run_code\n",
      "    exec(code_obj, self.user_global_ns, self.user_ns)\n",
      "  File \"/tmp/ipykernel_387/46021260.py\", line 1, in <module>\n",
      "    ax = sns.distplot(personas_sin_diabetes.glicemia, norm_hist = False)\n",
      "                      ^^^^^^^^^^^^^^^^^^^^^\n",
      "NameError: name 'personas_sin_diabetes' is not defined\n",
      "NameError: name 'personas_sin_diabetes' is not defined"
     ]
    }
   ],
   "source": [
    "ax = sns.distplot(personas_sin_diabetes.glicemia, norm_hist = False)\n",
    "ax.set_xlim(25, 400)"
   ]
  },
  {
   "cell_type": "code",
   "execution_count": null,
   "metadata": {},
   "outputs": [
    {
     "name": "stderr",
     "output_type": "stream",
     "text": [
      "ERROR - Exception\n",
      "Traceback (most recent call last):\n",
      "  File \"/home/celis/.local/lib/python3.11/site-packages/IPython/core/interactiveshell.py\", line 3526, in run_code\n",
      "    exec(code_obj, self.user_global_ns, self.user_ns)\n",
      "  File \"/tmp/ipykernel_387/1359531828.py\", line 1, in <module>\n",
      "    nulos = ds.glicemia.isnull()\n",
      "            ^^\n",
      "NameError: name 'ds' is not defined\n",
      "NameError: name 'ds' is not defined"
     ]
    }
   ],
   "source": [
    "nulos = ds.glicemia.isnull()"
   ]
  },
  {
   "cell_type": "code",
   "execution_count": null,
   "metadata": {},
   "outputs": [
    {
     "name": "stderr",
     "output_type": "stream",
     "text": [
      "ERROR - Exception\n",
      "Traceback (most recent call last):\n",
      "  File \"/home/celis/.local/lib/python3.11/site-packages/IPython/core/interactiveshell.py\", line 3526, in run_code\n",
      "    exec(code_obj, self.user_global_ns, self.user_ns)\n",
      "  File \"/tmp/ipykernel_387/3457897255.py\", line 1, in <module>\n",
      "    ds[nulos].diabetes.value_counts()\n",
      "    ^^\n",
      "NameError: name 'ds' is not defined\n",
      "NameError: name 'ds' is not defined"
     ]
    }
   ],
   "source": [
    "ds[nulos].diabetes.value_counts()"
   ]
  },
  {
   "cell_type": "code",
   "execution_count": null,
   "metadata": {},
   "outputs": [
    {
     "name": "stderr",
     "output_type": "stream",
     "text": [
      "ERROR - Exception\n",
      "Traceback (most recent call last):\n",
      "  File \"/home/celis/.local/lib/python3.11/site-packages/IPython/core/interactiveshell.py\", line 3526, in run_code\n",
      "    exec(code_obj, self.user_global_ns, self.user_ns)\n",
      "  File \"/tmp/ipykernel_387/3581963833.py\", line 1, in <module>\n",
      "    ds.glicemia.mean()\n",
      "    ^^\n",
      "NameError: name 'ds' is not defined\n",
      "NameError: name 'ds' is not defined"
     ]
    }
   ],
   "source": [
    "ds.glicemia.mean()"
   ]
  },
  {
   "cell_type": "code",
   "execution_count": null,
   "metadata": {},
   "outputs": [
    {
     "name": "stderr",
     "output_type": "stream",
     "text": [
      "ERROR - Exception\n",
      "Traceback (most recent call last):\n",
      "  File \"/home/celis/.local/lib/python3.11/site-packages/IPython/core/interactiveshell.py\", line 3526, in run_code\n",
      "    exec(code_obj, self.user_global_ns, self.user_ns)\n",
      "  File \"/tmp/ipykernel_387/350858424.py\", line 1, in <module>\n",
      "    ds.fillna({\"glicemia\":81.8}, inplace=True)\n",
      "    ^^\n",
      "NameError: name 'ds' is not defined\n",
      "NameError: name 'ds' is not defined"
     ]
    }
   ],
   "source": [
    "ds.fillna({\"glicemia\":81.8}, inplace=True)"
   ]
  },
  {
   "cell_type": "code",
   "execution_count": null,
   "metadata": {},
   "outputs": [
    {
     "name": "stderr",
     "output_type": "stream",
     "text": [
      "ERROR - Exception\n",
      "Traceback (most recent call last):\n",
      "  File \"/home/celis/.local/lib/python3.11/site-packages/IPython/core/interactiveshell.py\", line 3526, in run_code\n",
      "    exec(code_obj, self.user_global_ns, self.user_ns)\n",
      "  File \"/tmp/ipykernel_387/4173944523.py\", line 1, in <module>\n",
      "    ds.isnull().sum()\n",
      "    ^^\n",
      "NameError: name 'ds' is not defined\n",
      "NameError: name 'ds' is not defined"
     ]
    }
   ],
   "source": [
    "ds.isnull().sum()"
   ]
  },
  {
   "cell_type": "code",
   "execution_count": null,
   "metadata": {},
   "outputs": [
    {
     "name": "stderr",
     "output_type": "stream",
     "text": [
      "ERROR - Exception\n",
      "Traceback (most recent call last):\n",
      "  File \"/home/celis/.local/lib/python3.11/site-packages/IPython/core/interactiveshell.py\", line 3526, in run_code\n",
      "    exec(code_obj, self.user_global_ns, self.user_ns)\n",
      "  File \"/tmp/ipykernel_387/3515956873.py\", line 1, in <module>\n",
      "    ds.shape\n",
      "    ^^\n",
      "NameError: name 'ds' is not defined\n",
      "NameError: name 'ds' is not defined"
     ]
    }
   ],
   "source": [
    "ds.shape"
   ]
  },
  {
   "cell_type": "code",
   "execution_count": null,
   "metadata": {},
   "outputs": [
    {
     "name": "stderr",
     "output_type": "stream",
     "text": [
      "ERROR - Exception\n",
      "Traceback (most recent call last):\n",
      "  File \"/home/celis/.local/lib/python3.11/site-packages/IPython/core/interactiveshell.py\", line 3526, in run_code\n",
      "    exec(code_obj, self.user_global_ns, self.user_ns)\n",
      "  File \"/tmp/ipykernel_387/3193324727.py\", line 1, in <module>\n",
      "    ds = ds.astype(types={\"cigarrillos_por_dia\":\"int6\"})\n",
      "         ^^\n",
      "NameError: name 'ds' is not defined\n",
      "NameError: name 'ds' is not defined"
     ]
    }
   ],
   "source": [
    "ds = ds.astype(types={\"cigarrillos_por_dia\":\"int6\"})"
   ]
  },
  {
   "cell_type": "code",
   "execution_count": null,
   "metadata": {},
   "outputs": [
    {
     "name": "stderr",
     "output_type": "stream",
     "text": [
      "ERROR - Exception\n",
      "Traceback (most recent call last):\n",
      "  File \"/home/celis/.local/lib/python3.11/site-packages/IPython/core/interactiveshell.py\", line 3526, in run_code\n",
      "    exec(code_obj, self.user_global_ns, self.user_ns)\n",
      "  File \"/tmp/ipykernel_387/1649330165.py\", line 1, in <module>\n",
      "    ds = ds.astype(types={\"uso_medicamento_presion\":\"int6\"})\n",
      "         ^^\n",
      "NameError: name 'ds' is not defined\n",
      "NameError: name 'ds' is not defined"
     ]
    }
   ],
   "source": [
    "ds = ds.astype(types={\"uso_medicamento_presion\":\"int6\"})"
   ]
  },
  {
   "cell_type": "code",
   "execution_count": null,
   "metadata": {},
   "outputs": [
    {
     "name": "stderr",
     "output_type": "stream",
     "text": [
      "ERROR - Exception\n",
      "Traceback (most recent call last):\n",
      "  File \"/home/celis/.local/lib/python3.11/site-packages/IPython/core/interactiveshell.py\", line 3526, in run_code\n",
      "    exec(code_obj, self.user_global_ns, self.user_ns)\n",
      "  File \"/tmp/ipykernel_387/3755559537.py\", line 1, in <module>\n",
      "    ds.summary()\n",
      "    ^^\n",
      "NameError: name 'ds' is not defined\n",
      "NameError: name 'ds' is not defined"
     ]
    }
   ],
   "source": [
    "ds.summary()"
   ]
  },
  {
   "cell_type": "markdown",
   "metadata": {},
   "source": [
    "### 3.2 Ejecutando transformaciones"
   ]
  },
  {
   "cell_type": "code",
   "execution_count": null,
   "metadata": {},
   "outputs": [
    {
     "name": "stderr",
     "output_type": "stream",
     "text": [
      "ERROR - Exception\n",
      "Traceback (most recent call last):\n",
      "  File \"/home/celis/.local/lib/python3.11/site-packages/IPython/core/interactiveshell.py\", line 3526, in run_code\n",
      "    exec(code_obj, self.user_global_ns, self.user_ns)\n",
      "  File \"/tmp/ipykernel_387/2418657374.py\", line 1, in <module>\n",
      "    ds.cigarrillos_por_dia.describe()\n",
      "    ^^\n",
      "NameError: name 'ds' is not defined\n",
      "NameError: name 'ds' is not defined"
     ]
    }
   ],
   "source": [
    "ds.cigarrillos_por_dia.describe()"
   ]
  },
  {
   "cell_type": "code",
   "execution_count": null,
   "metadata": {},
   "outputs": [
    {
     "name": "stderr",
     "output_type": "stream",
     "text": [
      "ERROR - Exception\n",
      "Traceback (most recent call last):\n",
      "  File \"/home/celis/.local/lib/python3.11/site-packages/IPython/core/interactiveshell.py\", line 3526, in run_code\n",
      "    exec(code_obj, self.user_global_ns, self.user_ns)\n",
      "  File \"/tmp/ipykernel_387/2968172435.py\", line 1, in <module>\n",
      "    ax = sns.distplot(ds.cigarrilos_por_dia, norm_hist=False)\n",
      "                      ^^\n",
      "NameError: name 'ds' is not defined\n",
      "NameError: name 'ds' is not defined"
     ]
    }
   ],
   "source": [
    "ax = sns.distplot(ds.cigarrilos_por_dia, norm_hist=False)\n",
    "ax.set_xlim(0, 70)"
   ]
  },
  {
   "cell_type": "code",
   "execution_count": null,
   "metadata": {},
   "outputs": [
    {
     "name": "stderr",
     "output_type": "stream",
     "text": [
      "ERROR - Exception\n",
      "Traceback (most recent call last):\n",
      "  File \"/home/celis/.local/lib/python3.11/site-packages/IPython/core/interactiveshell.py\", line 3526, in run_code\n",
      "    exec(code_obj, self.user_global_ns, self.user_ns)\n",
      "  File \"/tmp/ipykernel_387/4081449395.py\", line 1, in <module>\n",
      "    ds.fumador.value_counts()\n",
      "    ^^\n",
      "NameError: name 'ds' is not defined\n",
      "NameError: name 'ds' is not defined"
     ]
    }
   ],
   "source": [
    "ds.fumador.value_counts()"
   ]
  },
  {
   "cell_type": "code",
   "execution_count": null,
   "metadata": {},
   "outputs": [
    {
     "name": "stderr",
     "output_type": "stream",
     "text": [
      "ERROR - Exception\n",
      "Traceback (most recent call last):\n",
      "  File \"/home/celis/.local/lib/python3.11/site-packages/IPython/core/interactiveshell.py\", line 3526, in run_code\n",
      "    exec(code_obj, self.user_global_ns, self.user_ns)\n",
      "  File \"/tmp/ipykernel_387/3832494345.py\", line 1, in <module>\n",
      "    sns.boxplot(ds.cigarrillos_por_dia)\n",
      "                ^^\n",
      "NameError: name 'ds' is not defined\n",
      "NameError: name 'ds' is not defined"
     ]
    }
   ],
   "source": [
    "sns.boxplot(ds.cigarrillos_por_dia)"
   ]
  },
  {
   "cell_type": "code",
   "execution_count": null,
   "metadata": {},
   "outputs": [
    {
     "name": "stderr",
     "output_type": "stream",
     "text": [
      "ERROR - Exception\n",
      "Traceback (most recent call last):\n",
      "  File \"/home/celis/.local/lib/python3.11/site-packages/IPython/core/interactiveshell.py\", line 3526, in run_code\n",
      "    exec(code_obj, self.user_global_ns, self.user_ns)\n",
      "  File \"/tmp/ipykernel_387/2691511579.py\", line 1, in <module>\n",
      "    ds.cigarrillos_por_dia.mean()\n",
      "    ^^\n",
      "NameError: name 'ds' is not defined\n",
      "NameError: name 'ds' is not defined"
     ]
    }
   ],
   "source": [
    "ds.cigarrillos_por_dia.mean()"
   ]
  },
  {
   "cell_type": "markdown",
   "metadata": {},
   "source": [
    "Definiendo las categorías de acuerdo con la cantidad de cigarrillos consumidos por día:\n",
    "\n",
    "\t0 - no fumador;\n",
    "    \n",
    "\t1 - fumador leve (1 a 10 cigarrillos por día);\n",
    "    \n",
    "\t2 - fumador moderado (11 a 20 cigarrillos por día);\n",
    "    \n",
    "\t3 - fumador severo (más de 20 cigarrillos por día)."
   ]
  },
  {
   "cell_type": "code",
   "execution_count": null,
   "metadata": {},
   "outputs": [],
   "source": [
    "categorias = [0, 1, 2, 3]\n",
    "limites = [-1, 1, 11, 21, 71]"
   ]
  },
  {
   "cell_type": "code",
   "execution_count": null,
   "metadata": {},
   "outputs": [
    {
     "name": "stderr",
     "output_type": "stream",
     "text": [
      "ERROR - Exception\n",
      "Traceback (most recent call last):\n",
      "  File \"/home/celis/.local/lib/python3.11/site-packages/IPython/core/interactiveshell.py\", line 3526, in run_code\n",
      "    exec(code_obj, self.user_global_ns, self.user_ns)\n",
      "  File \"/tmp/ipykernel_387/3940097044.py\", line 1, in <module>\n",
      "    categoria_de_fumador = pd.cut(ds.cigarrillos_por_dia, limites, labels=categorias)\n",
      "                                  ^^\n",
      "NameError: name 'ds' is not defined\n",
      "NameError: name 'ds' is not defined"
     ]
    }
   ],
   "source": [
    "categoria_de_fumador = pd.cut(ds.cigarrillos_por_dia, limites, labels=categorias)"
   ]
  },
  {
   "cell_type": "code",
   "execution_count": null,
   "metadata": {},
   "outputs": [
    {
     "name": "stderr",
     "output_type": "stream",
     "text": [
      "ERROR - Exception\n",
      "Traceback (most recent call last):\n",
      "  File \"/home/celis/.local/lib/python3.11/site-packages/IPython/core/interactiveshell.py\", line 3526, in run_code\n",
      "    exec(code_obj, self.user_global_ns, self.user_ns)\n",
      "  File \"/tmp/ipykernel_387/1637485306.py\", line 1, in <module>\n",
      "    ds = ds.assign_columns(\"categoria_de_fumador\", categoria_de_fumador)\n",
      "         ^^\n",
      "NameError: name 'ds' is not defined\n",
      "NameError: name 'ds' is not defined"
     ]
    }
   ],
   "source": [
    "ds = ds.assign_columns(\"categoria_de_fumador\", categoria_de_fumador)"
   ]
  },
  {
   "cell_type": "markdown",
   "metadata": {},
   "source": [
    "### 3.3 Visualizando datos con ADS"
   ]
  },
  {
   "cell_type": "code",
   "execution_count": null,
   "metadata": {},
   "outputs": [
    {
     "name": "stderr",
     "output_type": "stream",
     "text": [
      "ERROR - Exception\n",
      "Traceback (most recent call last):\n",
      "  File \"/home/celis/.local/lib/python3.11/site-packages/IPython/core/interactiveshell.py\", line 3526, in run_code\n",
      "    exec(code_obj, self.user_global_ns, self.user_ns)\n",
      "  File \"/tmp/ipykernel_387/2876128834.py\", line 1, in <module>\n",
      "    ds.show_in_notebook()\n",
      "    ^^\n",
      "NameError: name 'ds' is not defined\n",
      "NameError: name 'ds' is not defined"
     ]
    }
   ],
   "source": [
    "ds.show_in_notebook()"
   ]
  },
  {
   "cell_type": "markdown",
   "metadata": {},
   "source": [
    "### 3.4 Geberando más visualizaciones"
   ]
  },
  {
   "cell_type": "code",
   "execution_count": null,
   "metadata": {},
   "outputs": [
    {
     "name": "stderr",
     "output_type": "stream",
     "text": [
      "ERROR - Exception\n",
      "Traceback (most recent call last):\n",
      "  File \"/home/celis/.local/lib/python3.11/site-packages/IPython/core/interactiveshell.py\", line 3526, in run_code\n",
      "    exec(code_obj, self.user_global_ns, self.user_ns)\n",
      "  File \"/tmp/ipykernel_387/3587869917.py\", line 1, in <module>\n",
      "    ds.plot(\"glicemia\")\n",
      "    ^^\n",
      "NameError: name 'ds' is not defined\n",
      "NameError: name 'ds' is not defined"
     ]
    }
   ],
   "source": [
    "ds.plot(\"glicemia\")"
   ]
  },
  {
   "cell_type": "code",
   "execution_count": null,
   "metadata": {},
   "outputs": [
    {
     "name": "stderr",
     "output_type": "stream",
     "text": [
      "ERROR - Exception\n",
      "Traceback (most recent call last):\n",
      "  File \"/home/celis/.local/lib/python3.11/site-packages/IPython/core/interactiveshell.py\", line 3526, in run_code\n",
      "    exec(code_obj, self.user_global_ns, self.user_ns)\n",
      "  File \"/tmp/ipykernel_387/1069932219.py\", line 1, in <module>\n",
      "    ds.plot('diabetes')\n",
      "    ^^\n",
      "NameError: name 'ds' is not defined\n",
      "NameError: name 'ds' is not defined"
     ]
    }
   ],
   "source": [
    "ds.plot('diabetes')"
   ]
  },
  {
   "cell_type": "code",
   "execution_count": null,
   "metadata": {},
   "outputs": [
    {
     "name": "stderr",
     "output_type": "stream",
     "text": [
      "ERROR - Exception\n",
      "Traceback (most recent call last):\n",
      "  File \"/home/celis/.local/lib/python3.11/site-packages/IPython/core/interactiveshell.py\", line 3526, in run_code\n",
      "    exec(code_obj, self.user_global_ns, self.user_ns)\n",
      "  File \"/tmp/ipykernel_387/4036196326.py\", line 1, in <module>\n",
      "    ds.plot('glicemia','diabetes')\n",
      "    ^^\n",
      "NameError: name 'ds' is not defined\n",
      "NameError: name 'ds' is not defined"
     ]
    }
   ],
   "source": [
    "ds.plot('glicemia','diabetes')"
   ]
  },
  {
   "cell_type": "code",
   "execution_count": null,
   "metadata": {},
   "outputs": [
    {
     "name": "stderr",
     "output_type": "stream",
     "text": [
      "ERROR - Exception\n",
      "Traceback (most recent call last):\n",
      "  File \"/home/celis/.local/lib/python3.11/site-packages/IPython/core/interactiveshell.py\", line 3526, in run_code\n",
      "    exec(code_obj, self.user_global_ns, self.user_ns)\n",
      "  File \"/tmp/ipykernel_387/2032971413.py\", line 1, in <module>\n",
      "    ds.plot('categoria_de_fumador','acv')\n",
      "    ^^\n",
      "NameError: name 'ds' is not defined\n",
      "NameError: name 'ds' is not defined"
     ]
    }
   ],
   "source": [
    "ds.plot('categoria_de_fumador','acv')"
   ]
  },
  {
   "cell_type": "code",
   "execution_count": null,
   "metadata": {},
   "outputs": [
    {
     "name": "stderr",
     "output_type": "stream",
     "text": [
      "ERROR - Exception\n",
      "Traceback (most recent call last):\n",
      "  File \"/home/celis/.local/lib/python3.11/site-packages/IPython/core/interactiveshell.py\", line 3526, in run_code\n",
      "    exec(code_obj, self.user_global_ns, self.user_ns)\n",
      "  File \"/tmp/ipykernel_387/4241061444.py\", line 1, in <module>\n",
      "    sns.pairplot(ds)\n",
      "                 ^^\n",
      "NameError: name 'ds' is not defined\n",
      "NameError: name 'ds' is not defined"
     ]
    }
   ],
   "source": [
    "sns.pairplot(ds)"
   ]
  },
  {
   "cell_type": "code",
   "execution_count": null,
   "metadata": {},
   "outputs": [
    {
     "name": "stderr",
     "output_type": "stream",
     "text": [
      "ERROR - Exception\n",
      "Traceback (most recent call last):\n",
      "  File \"/home/celis/.local/lib/python3.11/site-packages/IPython/core/interactiveshell.py\", line 3526, in run_code\n",
      "    exec(code_obj, self.user_global_ns, self.user_ns)\n",
      "  File \"/tmp/ipykernel_387/423992185.py\", line 1, in <module>\n",
      "    pandas_ds = ds.to_pandas()\n",
      "                ^^\n",
      "NameError: name 'ds' is not defined\n",
      "NameError: name 'ds' is not defined"
     ]
    }
   ],
   "source": [
    "pandas_ds = ds.to_pandas()"
   ]
  },
  {
   "cell_type": "code",
   "execution_count": null,
   "metadata": {},
   "outputs": [
    {
     "name": "stderr",
     "output_type": "stream",
     "text": [
      "ERROR - Exception\n",
      "Traceback (most recent call last):\n",
      "  File \"/home/celis/.local/lib/python3.11/site-packages/IPython/core/interactiveshell.py\", line 3526, in run_code\n",
      "    exec(code_obj, self.user_global_ns, self.user_ns)\n",
      "  File \"/tmp/ipykernel_387/2141689088.py\", line 1, in <module>\n",
      "    sns.pairplot(pandas_ds)\n",
      "                 ^^^^^^^^^\n",
      "NameError: name 'pandas_ds' is not defined\n",
      "NameError: name 'pandas_ds' is not defined"
     ]
    }
   ],
   "source": [
    "sns.pairplot(pandas_ds)"
   ]
  },
  {
   "cell_type": "markdown",
   "metadata": {},
   "source": [
    "### Aula 4"
   ]
  },
  {
   "cell_type": "code",
   "execution_count": null,
   "metadata": {},
   "outputs": [
    {
     "name": "stderr",
     "output_type": "stream",
     "text": [
      "ERROR - Exception\n",
      "Traceback (most recent call last):\n",
      "  File \"/home/celis/.local/lib/python3.11/site-packages/IPython/core/interactiveshell.py\", line 3526, in run_code\n",
      "    exec(code_obj, self.user_global_ns, self.user_ns)\n",
      "  File \"/tmp/ipykernel_387/2971842641.py\", line 1, in <module>\n",
      "    ds.corr()\n",
      "    ^^\n",
      "NameError: name 'ds' is not defined\n",
      "NameError: name 'ds' is not defined"
     ]
    }
   ],
   "source": [
    "ds.corr()"
   ]
  },
  {
   "cell_type": "code",
   "execution_count": null,
   "metadata": {},
   "outputs": [],
   "source": [
    "import matplotlib.pyplot as plt"
   ]
  },
  {
   "cell_type": "code",
   "execution_count": null,
   "metadata": {},
   "outputs": [
    {
     "name": "stderr",
     "output_type": "stream",
     "text": [
      "ERROR - Exception\n",
      "Traceback (most recent call last):\n",
      "  File \"/home/celis/.local/lib/python3.11/site-packages/IPython/core/interactiveshell.py\", line 3526, in run_code\n",
      "    exec(code_obj, self.user_global_ns, self.user_ns)\n",
      "  File \"/tmp/ipykernel_387/4046073870.py\", line 3, in <module>\n",
      "    sns.heatmap(ds.corr(), annot=True, cmap=paleta)\n",
      "                ^^\n",
      "NameError: name 'ds' is not defined\n",
      "NameError: name 'ds' is not defined"
     ]
    },
    {
     "data": {
      "text/plain": [
       "<Figure size 800x600 with 0 Axes>"
      ]
     },
     "metadata": {},
     "output_type": "display_data"
    }
   ],
   "source": [
    "plt.figure(figsize=[8, 6])\n",
    "paleta = sns.color_palette(\"light:salmon\", as_cmap=True)\n",
    "sns.heatmap(ds.corr(), annot=True, cmap=paleta)"
   ]
  },
  {
   "cell_type": "markdown",
   "metadata": {},
   "source": [
    "### 4.2 ADS y sugerencias automaticas"
   ]
  },
  {
   "cell_type": "code",
   "execution_count": null,
   "metadata": {},
   "outputs": [
    {
     "name": "stderr",
     "output_type": "stream",
     "text": [
      "ERROR - Exception\n",
      "Traceback (most recent call last):\n",
      "  File \"/home/celis/.local/lib/python3.11/site-packages/IPython/core/interactiveshell.py\", line 3526, in run_code\n",
      "    exec(code_obj, self.user_global_ns, self.user_ns)\n",
      "  File \"/tmp/ipykernel_387/2989023658.py\", line 1, in <module>\n",
      "    ds.suggest_recommendations()\n",
      "    ^^\n",
      "NameError: name 'ds' is not defined\n",
      "NameError: name 'ds' is not defined"
     ]
    }
   ],
   "source": [
    "ds.suggest_recommendations()"
   ]
  },
  {
   "cell_type": "markdown",
   "metadata": {},
   "source": [
    "### 4.3 Aplicando sugerencias"
   ]
  },
  {
   "cell_type": "code",
   "execution_count": null,
   "metadata": {},
   "outputs": [
    {
     "name": "stderr",
     "output_type": "stream",
     "text": [
      "                                                                      \r"
     ]
    },
    {
     "data": {
      "text/html": [
       "<div>\n",
       "<style scoped>\n",
       "    .dataframe tbody tr th:only-of-type {\n",
       "        vertical-align: middle;\n",
       "    }\n",
       "\n",
       "    .dataframe tbody tr th {\n",
       "        vertical-align: top;\n",
       "    }\n",
       "\n",
       "    .dataframe thead th {\n",
       "        text-align: right;\n",
       "    }\n",
       "</style>\n",
       "<table border=\"1\" class=\"dataframe\">\n",
       "  <thead>\n",
       "    <tr style=\"text-align: right;\">\n",
       "      <th></th>\n",
       "      <th>male</th>\n",
       "      <th>age</th>\n",
       "      <th>education</th>\n",
       "      <th>currentSmoker</th>\n",
       "      <th>cigsPerDay</th>\n",
       "      <th>BPMeds</th>\n",
       "      <th>prevalentStroke</th>\n",
       "      <th>prevalentHyp</th>\n",
       "      <th>diabetes</th>\n",
       "      <th>totChol</th>\n",
       "      <th>sysBP</th>\n",
       "      <th>diaBP</th>\n",
       "      <th>BMI</th>\n",
       "      <th>heartRate</th>\n",
       "      <th>glucose</th>\n",
       "      <th>TenYearCHD</th>\n",
       "    </tr>\n",
       "  </thead>\n",
       "  <tbody>\n",
       "    <tr>\n",
       "      <th>0</th>\n",
       "      <td>1</td>\n",
       "      <td>39</td>\n",
       "      <td>4.0</td>\n",
       "      <td>0</td>\n",
       "      <td>0.0</td>\n",
       "      <td>0.0</td>\n",
       "      <td>0</td>\n",
       "      <td>0</td>\n",
       "      <td>0</td>\n",
       "      <td>195.0</td>\n",
       "      <td>106.0</td>\n",
       "      <td>70.0</td>\n",
       "      <td>26.97</td>\n",
       "      <td>80.0</td>\n",
       "      <td>77.0</td>\n",
       "      <td>0</td>\n",
       "    </tr>\n",
       "    <tr>\n",
       "      <th>1</th>\n",
       "      <td>0</td>\n",
       "      <td>46</td>\n",
       "      <td>2.0</td>\n",
       "      <td>0</td>\n",
       "      <td>0.0</td>\n",
       "      <td>0.0</td>\n",
       "      <td>0</td>\n",
       "      <td>0</td>\n",
       "      <td>0</td>\n",
       "      <td>250.0</td>\n",
       "      <td>121.0</td>\n",
       "      <td>81.0</td>\n",
       "      <td>28.73</td>\n",
       "      <td>95.0</td>\n",
       "      <td>76.0</td>\n",
       "      <td>0</td>\n",
       "    </tr>\n",
       "    <tr>\n",
       "      <th>2</th>\n",
       "      <td>1</td>\n",
       "      <td>48</td>\n",
       "      <td>1.0</td>\n",
       "      <td>1</td>\n",
       "      <td>20.0</td>\n",
       "      <td>0.0</td>\n",
       "      <td>0</td>\n",
       "      <td>0</td>\n",
       "      <td>0</td>\n",
       "      <td>245.0</td>\n",
       "      <td>127.5</td>\n",
       "      <td>80.0</td>\n",
       "      <td>25.34</td>\n",
       "      <td>75.0</td>\n",
       "      <td>70.0</td>\n",
       "      <td>0</td>\n",
       "    </tr>\n",
       "    <tr>\n",
       "      <th>3</th>\n",
       "      <td>0</td>\n",
       "      <td>61</td>\n",
       "      <td>3.0</td>\n",
       "      <td>1</td>\n",
       "      <td>30.0</td>\n",
       "      <td>0.0</td>\n",
       "      <td>0</td>\n",
       "      <td>1</td>\n",
       "      <td>0</td>\n",
       "      <td>225.0</td>\n",
       "      <td>150.0</td>\n",
       "      <td>95.0</td>\n",
       "      <td>28.58</td>\n",
       "      <td>65.0</td>\n",
       "      <td>103.0</td>\n",
       "      <td>1</td>\n",
       "    </tr>\n",
       "    <tr>\n",
       "      <th>4</th>\n",
       "      <td>0</td>\n",
       "      <td>46</td>\n",
       "      <td>3.0</td>\n",
       "      <td>1</td>\n",
       "      <td>23.0</td>\n",
       "      <td>0.0</td>\n",
       "      <td>0</td>\n",
       "      <td>0</td>\n",
       "      <td>0</td>\n",
       "      <td>285.0</td>\n",
       "      <td>130.0</td>\n",
       "      <td>84.0</td>\n",
       "      <td>23.10</td>\n",
       "      <td>85.0</td>\n",
       "      <td>85.0</td>\n",
       "      <td>0</td>\n",
       "    </tr>\n",
       "  </tbody>\n",
       "</table>\n",
       "</div>"
      ],
      "text/plain": [
       "   male  age  education  currentSmoker  cigsPerDay  BPMeds  prevalentStroke  \\\n",
       "0     1   39        4.0              0         0.0     0.0                0   \n",
       "1     0   46        2.0              0         0.0     0.0                0   \n",
       "2     1   48        1.0              1        20.0     0.0                0   \n",
       "3     0   61        3.0              1        30.0     0.0                0   \n",
       "4     0   46        3.0              1        23.0     0.0                0   \n",
       "\n",
       "   prevalentHyp  diabetes  totChol  sysBP  diaBP    BMI  heartRate  glucose  \\\n",
       "0             0         0    195.0  106.0   70.0  26.97       80.0     77.0   \n",
       "1             0         0    250.0  121.0   81.0  28.73       95.0     76.0   \n",
       "2             0         0    245.0  127.5   80.0  25.34       75.0     70.0   \n",
       "3             1         0    225.0  150.0   95.0  28.58       65.0    103.0   \n",
       "4             0         0    285.0  130.0   84.0  23.10       85.0     85.0   \n",
       "\n",
       "   TenYearCHD  \n",
       "0           0  \n",
       "1           0  \n",
       "2           0  \n",
       "3           1  \n",
       "4           0  "
      ]
     },
     "execution_count": 139,
     "metadata": {},
     "output_type": "execute_result"
    }
   ],
   "source": [
    "base_original = DatasetFactory.open(\"data/framingham.csv\", target=\"TenYearCHD\")\n",
    "base_original.head()"
   ]
  },
  {
   "cell_type": "code",
   "execution_count": null,
   "metadata": {},
   "outputs": [
    {
     "data": {
      "text/plain": [
       "Index(['sexo', 'edad', 'escolaridad', 'fumador', 'cigarrillos_por_dia',\n",
       "       'uso_medicamentos_presion', 'acv', 'hipertension', 'diabetes',\n",
       "       'colesterol_total', 'presion_arterial_sistolica',\n",
       "       'presion_arterial_diastolica', 'imc', 'fracuencia_cardiaca', 'glicemia',\n",
       "       'riesgo_eac_decada'],\n",
       "      dtype='object')"
      ]
     },
     "execution_count": 141,
     "metadata": {},
     "output_type": "execute_result"
    }
   ],
   "source": [
    "base_original = base_original.rename_columns(dict_ing_esp)\n",
    "base_original.columns"
   ]
  },
  {
   "cell_type": "code",
   "execution_count": null,
   "metadata": {},
   "outputs": [
    {
     "data": {
      "text/html": [
       "<div>\n",
       "<style scoped>\n",
       "    .dataframe tbody tr th:only-of-type {\n",
       "        vertical-align: middle;\n",
       "    }\n",
       "\n",
       "    .dataframe tbody tr th {\n",
       "        vertical-align: top;\n",
       "    }\n",
       "\n",
       "    .dataframe thead th {\n",
       "        text-align: right;\n",
       "    }\n",
       "</style>\n",
       "<table border=\"1\" class=\"dataframe\">\n",
       "  <thead>\n",
       "    <tr style=\"text-align: right;\">\n",
       "      <th></th>\n",
       "      <th></th>\n",
       "      <th></th>\n",
       "      <th></th>\n",
       "      <th>Code</th>\n",
       "    </tr>\n",
       "    <tr>\n",
       "      <th>Message</th>\n",
       "      <th>Variables</th>\n",
       "      <th>Suggested</th>\n",
       "      <th>Action</th>\n",
       "      <th></th>\n",
       "    </tr>\n",
       "  </thead>\n",
       "  <tbody>\n",
       "    <tr>\n",
       "      <th rowspan=\"4\" valign=\"top\">Contains missing values(105)</th>\n",
       "      <th rowspan=\"4\" valign=\"top\">escolaridad</th>\n",
       "      <th rowspan=\"4\" valign=\"top\">Fill missing values with frequent</th>\n",
       "      <th>Drop</th>\n",
       "      <td>.drop_columns([\"escolaridad\"])</td>\n",
       "    </tr>\n",
       "    <tr>\n",
       "      <th>Fill missing values with frequent</th>\n",
       "      <td>.fillna({\"escolaridad\": 1.0})</td>\n",
       "    </tr>\n",
       "    <tr>\n",
       "      <th>Fill missing values with constant</th>\n",
       "      <td>.fillna({\"escolaridad\": \"constant\"})</td>\n",
       "    </tr>\n",
       "    <tr>\n",
       "      <th>Do nothing</th>\n",
       "      <td></td>\n",
       "    </tr>\n",
       "    <tr>\n",
       "      <th rowspan=\"4\" valign=\"top\">Contains missing values(29)</th>\n",
       "      <th rowspan=\"4\" valign=\"top\">cigarrillos_por_dia</th>\n",
       "      <th rowspan=\"4\" valign=\"top\">Fill missing values with frequent</th>\n",
       "      <th>Drop</th>\n",
       "      <td>.drop_columns([\"cigarrillos_por_dia\"])</td>\n",
       "    </tr>\n",
       "    <tr>\n",
       "      <th>Fill missing values with frequent</th>\n",
       "      <td>.fillna({\"cigarrillos_por_dia\": 0.0})</td>\n",
       "    </tr>\n",
       "    <tr>\n",
       "      <th>Fill missing values with constant</th>\n",
       "      <td>.fillna({\"cigarrillos_por_dia\": \"constant\"})</td>\n",
       "    </tr>\n",
       "    <tr>\n",
       "      <th>Do nothing</th>\n",
       "      <td></td>\n",
       "    </tr>\n",
       "    <tr>\n",
       "      <th rowspan=\"4\" valign=\"top\">Contains missing values(53)</th>\n",
       "      <th rowspan=\"4\" valign=\"top\">uso_medicamentos_presion</th>\n",
       "      <th rowspan=\"4\" valign=\"top\">Fill missing values with frequent</th>\n",
       "      <th>Drop</th>\n",
       "      <td>.drop_columns([\"uso_medicamentos_presion\"])</td>\n",
       "    </tr>\n",
       "    <tr>\n",
       "      <th>Fill missing values with frequent</th>\n",
       "      <td>.fillna({\"uso_medicamentos_presion\": 0.0})</td>\n",
       "    </tr>\n",
       "    <tr>\n",
       "      <th>Fill missing values with constant</th>\n",
       "      <td>.fillna({\"uso_medicamentos_presion\": \"constant\"})</td>\n",
       "    </tr>\n",
       "    <tr>\n",
       "      <th>Do nothing</th>\n",
       "      <td></td>\n",
       "    </tr>\n",
       "    <tr>\n",
       "      <th rowspan=\"4\" valign=\"top\">Contains missing values(50)</th>\n",
       "      <th rowspan=\"4\" valign=\"top\">colesterol_total</th>\n",
       "      <th rowspan=\"4\" valign=\"top\">Fill missing values with frequent</th>\n",
       "      <th>Drop</th>\n",
       "      <td>.drop_columns([\"colesterol_total\"])</td>\n",
       "    </tr>\n",
       "    <tr>\n",
       "      <th>Fill missing values with frequent</th>\n",
       "      <td>.fillna({\"colesterol_total\": 240.0})</td>\n",
       "    </tr>\n",
       "    <tr>\n",
       "      <th>Fill missing values with constant</th>\n",
       "      <td>.fillna({\"colesterol_total\": \"constant\"})</td>\n",
       "    </tr>\n",
       "    <tr>\n",
       "      <th>Do nothing</th>\n",
       "      <td></td>\n",
       "    </tr>\n",
       "    <tr>\n",
       "      <th rowspan=\"6\" valign=\"top\">Contains missing values(19)</th>\n",
       "      <th rowspan=\"6\" valign=\"top\">imc</th>\n",
       "      <th rowspan=\"6\" valign=\"top\">Fill missing values with mean</th>\n",
       "      <th>Drop</th>\n",
       "      <td>.drop_columns([\"imc\"])</td>\n",
       "    </tr>\n",
       "    <tr>\n",
       "      <th>Fill missing values with mean</th>\n",
       "      <td>.fillna({\"imc\": 25.802})</td>\n",
       "    </tr>\n",
       "    <tr>\n",
       "      <th>Fill missing values with median</th>\n",
       "      <td>.fillna({\"imc\": 25.4})</td>\n",
       "    </tr>\n",
       "    <tr>\n",
       "      <th>Fill missing values with frequent</th>\n",
       "      <td>.fillna({\"imc\": 22.19})</td>\n",
       "    </tr>\n",
       "    <tr>\n",
       "      <th>Fill missing values with constant</th>\n",
       "      <td>.fillna({\"imc\": \"constant\"})</td>\n",
       "    </tr>\n",
       "    <tr>\n",
       "      <th>Do nothing</th>\n",
       "      <td></td>\n",
       "    </tr>\n",
       "    <tr>\n",
       "      <th rowspan=\"4\" valign=\"top\">Contains missing values(1)</th>\n",
       "      <th rowspan=\"4\" valign=\"top\">fracuencia_cardiaca</th>\n",
       "      <th rowspan=\"4\" valign=\"top\">Fill missing values with frequent</th>\n",
       "      <th>Drop</th>\n",
       "      <td>.drop_columns([\"fracuencia_cardiaca\"])</td>\n",
       "    </tr>\n",
       "    <tr>\n",
       "      <th>Fill missing values with frequent</th>\n",
       "      <td>.fillna({\"fracuencia_cardiaca\": 75.0})</td>\n",
       "    </tr>\n",
       "    <tr>\n",
       "      <th>Fill missing values with constant</th>\n",
       "      <td>.fillna({\"fracuencia_cardiaca\": \"constant\"})</td>\n",
       "    </tr>\n",
       "    <tr>\n",
       "      <th>Do nothing</th>\n",
       "      <td></td>\n",
       "    </tr>\n",
       "    <tr>\n",
       "      <th rowspan=\"4\" valign=\"top\">Contains missing values(388)</th>\n",
       "      <th rowspan=\"4\" valign=\"top\">glicemia</th>\n",
       "      <th rowspan=\"4\" valign=\"top\">Fill missing values with frequent</th>\n",
       "      <th>Drop</th>\n",
       "      <td>.drop_columns([\"glicemia\"])</td>\n",
       "    </tr>\n",
       "    <tr>\n",
       "      <th>Fill missing values with frequent</th>\n",
       "      <td>.fillna({\"glicemia\": 75.0})</td>\n",
       "    </tr>\n",
       "    <tr>\n",
       "      <th>Fill missing values with constant</th>\n",
       "      <td>.fillna({\"glicemia\": \"constant\"})</td>\n",
       "    </tr>\n",
       "    <tr>\n",
       "      <th>Do nothing</th>\n",
       "      <td></td>\n",
       "    </tr>\n",
       "    <tr>\n",
       "      <th rowspan=\"3\" valign=\"top\">Strongly correlated with presion_arterial_diastolica(78.40%.)</th>\n",
       "      <th rowspan=\"3\" valign=\"top\">presion_arterial_sistolica</th>\n",
       "      <th rowspan=\"3\" valign=\"top\">Drop presion_arterial_diastolica</th>\n",
       "      <th>Drop presion_arterial_sistolica</th>\n",
       "      <td>.drop_columns([\"presion_arterial_sistolica\"])</td>\n",
       "    </tr>\n",
       "    <tr>\n",
       "      <th>Drop presion_arterial_diastolica</th>\n",
       "      <td>.drop_columns([\"presion_arterial_diastolica\"])</td>\n",
       "    </tr>\n",
       "    <tr>\n",
       "      <th>Do nothing</th>\n",
       "      <td></td>\n",
       "    </tr>\n",
       "    <tr>\n",
       "      <th rowspan=\"3\" valign=\"top\">Imbalanced Target(17.92%)</th>\n",
       "      <th rowspan=\"3\" valign=\"top\">riesgo_eac_decada</th>\n",
       "      <th rowspan=\"3\" valign=\"top\">Up-sample</th>\n",
       "      <th>Do nothing</th>\n",
       "      <td></td>\n",
       "    </tr>\n",
       "    <tr>\n",
       "      <th>Down-sample</th>\n",
       "      <td>.down_sample()</td>\n",
       "    </tr>\n",
       "    <tr>\n",
       "      <th>Up-sample</th>\n",
       "      <td>.up_sample(sampler='default') \\n `pip install imbalanced-learn` to use default up-sampler.</td>\n",
       "    </tr>\n",
       "  </tbody>\n",
       "</table>\n",
       "</div>"
      ],
      "text/plain": [
       "                                                                                                                                                                                                                                                    Code\n",
       "Message                                                       Variables                  Suggested                         Action                                                                                                                       \n",
       "Contains missing values(105)                                  escolaridad                Fill missing values with frequent Drop                                                                                           .drop_columns([\"escolaridad\"])\n",
       "                                                                                                                           Fill missing values with frequent                                                               .fillna({\"escolaridad\": 1.0})\n",
       "                                                                                                                           Fill missing values with constant                                                        .fillna({\"escolaridad\": \"constant\"})\n",
       "                                                                                                                           Do nothing                                                                                                                   \n",
       "Contains missing values(29)                                   cigarrillos_por_dia        Fill missing values with frequent Drop                                                                                   .drop_columns([\"cigarrillos_por_dia\"])\n",
       "                                                                                                                           Fill missing values with frequent                                                       .fillna({\"cigarrillos_por_dia\": 0.0})\n",
       "                                                                                                                           Fill missing values with constant                                                .fillna({\"cigarrillos_por_dia\": \"constant\"})\n",
       "                                                                                                                           Do nothing                                                                                                                   \n",
       "Contains missing values(53)                                   uso_medicamentos_presion   Fill missing values with frequent Drop                                                                              .drop_columns([\"uso_medicamentos_presion\"])\n",
       "                                                                                                                           Fill missing values with frequent                                                  .fillna({\"uso_medicamentos_presion\": 0.0})\n",
       "                                                                                                                           Fill missing values with constant                                           .fillna({\"uso_medicamentos_presion\": \"constant\"})\n",
       "                                                                                                                           Do nothing                                                                                                                   \n",
       "Contains missing values(50)                                   colesterol_total           Fill missing values with frequent Drop                                                                                      .drop_columns([\"colesterol_total\"])\n",
       "                                                                                                                           Fill missing values with frequent                                                        .fillna({\"colesterol_total\": 240.0})\n",
       "                                                                                                                           Fill missing values with constant                                                   .fillna({\"colesterol_total\": \"constant\"})\n",
       "                                                                                                                           Do nothing                                                                                                                   \n",
       "Contains missing values(19)                                   imc                        Fill missing values with mean     Drop                                                                                                   .drop_columns([\"imc\"])\n",
       "                                                                                                                           Fill missing values with mean                                                                        .fillna({\"imc\": 25.802})\n",
       "                                                                                                                           Fill missing values with median                                                                        .fillna({\"imc\": 25.4})\n",
       "                                                                                                                           Fill missing values with frequent                                                                     .fillna({\"imc\": 22.19})\n",
       "                                                                                                                           Fill missing values with constant                                                                .fillna({\"imc\": \"constant\"})\n",
       "                                                                                                                           Do nothing                                                                                                                   \n",
       "Contains missing values(1)                                    fracuencia_cardiaca        Fill missing values with frequent Drop                                                                                   .drop_columns([\"fracuencia_cardiaca\"])\n",
       "                                                                                                                           Fill missing values with frequent                                                      .fillna({\"fracuencia_cardiaca\": 75.0})\n",
       "                                                                                                                           Fill missing values with constant                                                .fillna({\"fracuencia_cardiaca\": \"constant\"})\n",
       "                                                                                                                           Do nothing                                                                                                                   \n",
       "Contains missing values(388)                                  glicemia                   Fill missing values with frequent Drop                                                                                              .drop_columns([\"glicemia\"])\n",
       "                                                                                                                           Fill missing values with frequent                                                                 .fillna({\"glicemia\": 75.0})\n",
       "                                                                                                                           Fill missing values with constant                                                           .fillna({\"glicemia\": \"constant\"})\n",
       "                                                                                                                           Do nothing                                                                                                                   \n",
       "Strongly correlated with presion_arterial_diastolica(78.40%.) presion_arterial_sistolica Drop presion_arterial_diastolica  Drop presion_arterial_sistolica                                                 .drop_columns([\"presion_arterial_sistolica\"])\n",
       "                                                                                                                           Drop presion_arterial_diastolica                                               .drop_columns([\"presion_arterial_diastolica\"])\n",
       "                                                                                                                           Do nothing                                                                                                                   \n",
       "Imbalanced Target(17.92%)                                     riesgo_eac_decada          Up-sample                         Do nothing                                                                                                                   \n",
       "                                                                                                                           Down-sample                                                                                                    .down_sample()\n",
       "                                                                                                                           Up-sample                          .up_sample(sampler='default') \\n `pip install imbalanced-learn` to use default up-sampler."
      ]
     },
     "execution_count": 142,
     "metadata": {},
     "output_type": "execute_result"
    }
   ],
   "source": [
    "base_original.suggest_recommendations()"
   ]
  },
  {
   "cell_type": "code",
   "execution_count": null,
   "metadata": {},
   "outputs": [
    {
     "name": "stderr",
     "output_type": "stream",
     "text": [
      "\n",
      "\u001b[A\n",
      "\u001b[A\n",
      "\u001b[A\n",
      "\u001b[A\n",
      "\u001b[A\n",
      "\u001b[A\n",
      "\u001b[A\n",
      "\u001b[A\n",
      "\u001b[A\n",
      "\u001b[A\n",
      "\u001b[A\n",
      "\u001b[A\n",
      "\u001b[A\n",
      "\u001b[A\n",
      "\u001b[A\n",
      "\u001b[A\n",
      "\u001b[A"
     ]
    }
   ],
   "source": [
    "base_original = base_original.auto_transform()\n"
   ]
  },
  {
   "cell_type": "code",
   "execution_count": null,
   "metadata": {},
   "outputs": [],
   "source": [
    "# base_original.show_in_notebook()"
   ]
  },
  {
   "cell_type": "markdown",
   "metadata": {},
   "source": [
    "### 4.4 Comparando las bases"
   ]
  },
  {
   "cell_type": "code",
   "execution_count": null,
   "metadata": {},
   "outputs": [
    {
     "ename": "NameError",
     "evalue": "name 'ds' is not defined",
     "output_type": "error",
     "traceback": [
      "\u001b[0;31m---------------------------------------------------------------------------\u001b[0m",
      "\u001b[0;31mNameError\u001b[0m                                 Traceback (most recent call last)",
      "\u001b[0;32m/tmp/ipykernel_7000/2876128834.py\u001b[0m in \u001b[0;36m<cell line: 0>\u001b[0;34m()\u001b[0m\n\u001b[0;32m----> 1\u001b[0;31m \u001b[0mds\u001b[0m\u001b[0;34m.\u001b[0m\u001b[0mshow_in_notebook\u001b[0m\u001b[0;34m(\u001b[0m\u001b[0;34m)\u001b[0m\u001b[0;34m\u001b[0m\u001b[0;34m\u001b[0m\u001b[0m\n\u001b[0m",
      "\u001b[0;31mNameError\u001b[0m: name 'ds' is not defined"
     ]
    }
   ],
   "source": [
    "ds.show_in_notebook()"
   ]
  },
  {
   "cell_type": "markdown",
   "metadata": {},
   "source": [
    "# Aula 5\n",
    "\n",
    "### 5.1 Balanceo de los datos"
   ]
  },
  {
   "cell_type": "code",
   "execution_count": null,
   "metadata": {},
   "outputs": [
    {
     "ename": "NameError",
     "evalue": "name 'ds' is not defined",
     "output_type": "error",
     "traceback": [
      "\u001b[0;31m---------------------------------------------------------------------------\u001b[0m",
      "\u001b[0;31mNameError\u001b[0m                                 Traceback (most recent call last)",
      "\u001b[0;32m/tmp/ipykernel_7000/1842858066.py\u001b[0m in \u001b[0;36m<cell line: 0>\u001b[0;34m()\u001b[0m\n\u001b[0;32m----> 1\u001b[0;31m \u001b[0mds\u001b[0m\u001b[0;34m.\u001b[0m\u001b[0mtarget\u001b[0m\u001b[0;34m.\u001b[0m\u001b[0mshow_in_notebook\u001b[0m\u001b[0;34m(\u001b[0m\u001b[0;34m)\u001b[0m\u001b[0;34m\u001b[0m\u001b[0;34m\u001b[0m\u001b[0m\n\u001b[0m",
      "\u001b[0;31mNameError\u001b[0m: name 'ds' is not defined"
     ]
    }
   ],
   "source": [
    "ds.target.show_in_notebook()"
   ]
  },
  {
   "cell_type": "code",
   "execution_count": null,
   "metadata": {},
   "outputs": [
    {
     "ename": "NameError",
     "evalue": "name 'ds' is not defined",
     "output_type": "error",
     "traceback": [
      "\u001b[0;31m---------------------------------------------------------------------------\u001b[0m",
      "\u001b[0;31mNameError\u001b[0m                                 Traceback (most recent call last)",
      "\u001b[0;32m/tmp/ipykernel_7000/2705394252.py\u001b[0m in \u001b[0;36m<cell line: 0>\u001b[0;34m()\u001b[0m\n\u001b[0;32m----> 1\u001b[0;31m \u001b[0mds\u001b[0m\u001b[0;34m.\u001b[0m\u001b[0mriesgo_eac_decada\u001b[0m\u001b[0;34m.\u001b[0m\u001b[0mvalue_counts\u001b[0m\u001b[0;34m(\u001b[0m\u001b[0mnormalize\u001b[0m\u001b[0;34m=\u001b[0m\u001b[0;32mTrue\u001b[0m\u001b[0;34m)\u001b[0m\u001b[0;34m\u001b[0m\u001b[0;34m\u001b[0m\u001b[0m\n\u001b[0m",
      "\u001b[0;31mNameError\u001b[0m: name 'ds' is not defined"
     ]
    }
   ],
   "source": [
    "ds.riesgo_eac_decada.value_counts(normalize=True)"
   ]
  },
  {
   "cell_type": "markdown",
   "metadata": {},
   "source": [
    "### 5.2 Aplicando el balanceo"
   ]
  },
  {
   "cell_type": "code",
   "execution_count": null,
   "metadata": {},
   "outputs": [
    {
     "ename": "NameError",
     "evalue": "name 'ds' is not defined",
     "output_type": "error",
     "traceback": [
      "\u001b[0;31m---------------------------------------------------------------------------\u001b[0m",
      "\u001b[0;31mNameError\u001b[0m                                 Traceback (most recent call last)",
      "\u001b[0;32m/tmp/ipykernel_7000/2984969615.py\u001b[0m in \u001b[0;36m<cell line: 0>\u001b[0;34m()\u001b[0m\n\u001b[0;32m----> 1\u001b[0;31m \u001b[0mds\u001b[0m\u001b[0;34m.\u001b[0m\u001b[0mriesgo_eac_decada\u001b[0m\u001b[0;34m.\u001b[0m\u001b[0mvalue_counts\u001b[0m\u001b[0;34m(\u001b[0m\u001b[0;34m)\u001b[0m\u001b[0;34m\u001b[0m\u001b[0;34m\u001b[0m\u001b[0m\n\u001b[0m",
      "\u001b[0;31mNameError\u001b[0m: name 'ds' is not defined"
     ]
    }
   ],
   "source": [
    "ds.riesgo_eac_decada.value_counts()"
   ]
  },
  {
   "cell_type": "code",
   "execution_count": null,
   "metadata": {},
   "outputs": [
    {
     "name": "stdout",
     "output_type": "stream",
     "text": [
      "Defaulting to user installation because normal site-packages is not writeable\n",
      "Requirement already satisfied: imbalanced-learn in /home/celis/.local/lib/python3.11/site-packages (0.11.0)\n",
      "Requirement already satisfied: scikit-learn>=1.0.2 in /home/celis/.local/lib/python3.11/site-packages (from imbalanced-learn) (1.3.2)\n",
      "Requirement already satisfied: numpy>=1.17.3 in /home/celis/.local/lib/python3.11/site-packages (from imbalanced-learn) (1.26.1)\n",
      "Requirement already satisfied: threadpoolctl>=2.0.0 in /home/celis/.local/lib/python3.11/site-packages (from imbalanced-learn) (3.2.0)\n",
      "Requirement already satisfied: joblib>=1.1.1 in /home/celis/.local/lib/python3.11/site-packages (from imbalanced-learn) (1.3.2)\n",
      "Requirement already satisfied: scipy>=1.5.0 in /home/celis/.local/lib/python3.11/site-packages (from imbalanced-learn) (1.11.3)\n",
      "Note: you may need to restart the kernel to use updated packages.\n"
     ]
    }
   ],
   "source": [
    "pip install imbalanced-learn"
   ]
  },
  {
   "cell_type": "code",
   "execution_count": null,
   "metadata": {},
   "outputs": [],
   "source": [
    "import imblearn"
   ]
  },
  {
   "cell_type": "code",
   "execution_count": null,
   "metadata": {},
   "outputs": [
    {
     "ename": "NameError",
     "evalue": "name 'ds' is not defined",
     "output_type": "error",
     "traceback": [
      "\u001b[0;31m---------------------------------------------------------------------------\u001b[0m",
      "\u001b[0;31mNameError\u001b[0m                                 Traceback (most recent call last)",
      "\u001b[0;32m/tmp/ipykernel_7000/2376869747.py\u001b[0m in \u001b[0;36m<cell line: 0>\u001b[0;34m()\u001b[0m\n\u001b[0;32m----> 1\u001b[0;31m \u001b[0mds\u001b[0m\u001b[0;34m.\u001b[0m\u001b[0mup_sample\u001b[0m\u001b[0;34m(\u001b[0m\u001b[0msampler\u001b[0m\u001b[0;34m=\u001b[0m\u001b[0;34m\"default\"\u001b[0m\u001b[0;34m)\u001b[0m\u001b[0;34m\u001b[0m\u001b[0;34m\u001b[0m\u001b[0m\n\u001b[0m",
      "\u001b[0;31mNameError\u001b[0m: name 'ds' is not defined"
     ]
    }
   ],
   "source": [
    "ds_balanceado = ds.up_sample(sampler=\"default\")"
   ]
  },
  {
   "cell_type": "code",
   "execution_count": null,
   "metadata": {},
   "outputs": [
    {
     "ename": "NameError",
     "evalue": "name 'ds_balanceado' is not defined",
     "output_type": "error",
     "traceback": [
      "\u001b[0;31m---------------------------------------------------------------------------\u001b[0m",
      "\u001b[0;31mNameError\u001b[0m                                 Traceback (most recent call last)",
      "\u001b[0;32m/tmp/ipykernel_7000/825900015.py\u001b[0m in \u001b[0;36m<cell line: 0>\u001b[0;34m()\u001b[0m\n\u001b[0;32m----> 1\u001b[0;31m \u001b[0mds_balanceado\u001b[0m\u001b[0;34m.\u001b[0m\u001b[0mshow_in_notebook\u001b[0m\u001b[0;34m(\u001b[0m\u001b[0;34m)\u001b[0m\u001b[0;34m\u001b[0m\u001b[0;34m\u001b[0m\u001b[0m\n\u001b[0m",
      "\u001b[0;31mNameError\u001b[0m: name 'ds_balanceado' is not defined"
     ]
    }
   ],
   "source": [
    "ds_balanceado.show_in_notebook()"
   ]
  },
  {
   "cell_type": "markdown",
   "metadata": {},
   "source": [
    "### 5.3 Documentación de datos"
   ]
  },
  {
   "cell_type": "code",
   "execution_count": null,
   "metadata": {},
   "outputs": [],
   "source": [
    "descripcion = \"\"\"\n",
    "- Información general: Esta base de datos se refiere a un estudio realizado recolectando datos sobre el estado de salud de los pacientes para tratar de clasificar el riesgo de enfermedad coronaria en los próximos 10 años. Para consultar la base original, puede acceder al siguiente [link](https://www.kaggle.com/dileep070/heart-disease-prediction-using-logistic-regression).\n",
    "\n",
    "Los datos fueron modificados con el objetivo de corregir los problemas de la base y dejarla lista para poder realizar modelos empleando Machine Learning.\n",
    "\n",
    "-Tipo de las Columnas:\n",
    "- 'sexo': booleano,\n",
    "- 'edad': numérico,\n",
    "- 'cigarrillos_por_dia': categórico,                                                                   - 'uso_medicamento_presion': booleano\n",
    "      - 'acv': booleano,\n",
    "         - 'hipertension': booleano,\n",
    "         - 'diabetes': booleano,\n",
    "          - 'colesterol_total': numérico,\n",
    "         - 'presion_arterial_sistolica': numérico,\n",
    "          - 'presion_arterial_diastolica': numérico,\n",
    "           - 'imc': numérico,\n",
    "           - 'frecuencia_cardiaca': numérico,\n",
    "           - 'glicemia': numérico,\n",
    "           - 'riesgo_EAC_decada': booleano.\n",
    "\n",
    "- Detalle de las Columnas:\n",
    "           - 'sexo': Considera masculino como 1 y femenino como 0;\n",
    "           - 'edad': Edad en años completos;\n",
    "- 'cigarrillos_por_dia': Define diferentes grupos de personas de acuerdo con la cantidad de cigarrillos consumidos por día:\n",
    "                0 - no fumador;\n",
    "                1 - fumador leve (1 a 10 cigarrillos por día);\n",
    "                2 - fumador moderado (11 a 20 cigarrillos por día);\n",
    "                3 - fumador severo (más de 20 cigarrillos por día).\n",
    "- 'uso_medicamento_presion': Si la persona toma o no medicamentos para la presión;\n",
    "          - 'acv': Si ya tuvo Accidente Cerebro-Vascular;\n",
    "           - 'hipertension': Si la persona sufre de hipertensión;\n",
    "           - 'diabetes': Si la persona es diabética;\n",
    "          - 'colesterol_total': Cantidad de colesterol total;\n",
    "           - 'presion_arterial_sistolica': Presión arterial sistólica medida;\n",
    "           - 'presion_arterial_diastolica': Presión arterial diastólica medida;\n",
    "           - 'imc': Índice de masa corporal;\n",
    "           - 'frecuencia_cardiaca': frecuencia cardíaca en pulsaciones por minuto;\n",
    "            - 'glicemia': Cantidad de glicemia en la sangre,\n",
    "- 'riesgo_EAC_decada': Clasificación de riesgo para enfermedad coronaria en los próximos 10 años:\n",
    "               0 - No está en el grupo de riesgo;\n",
    "               1 - Está en el grupo de riesgo.\n",
    "\"\"\""
   ]
  },
  {
   "cell_type": "code",
   "execution_count": null,
   "metadata": {},
   "outputs": [
    {
     "ename": "NameError",
     "evalue": "name 'ds_balanceado' is not defined",
     "output_type": "error",
     "traceback": [
      "\u001b[0;31m---------------------------------------------------------------------------\u001b[0m",
      "\u001b[0;31mNameError\u001b[0m                                 Traceback (most recent call last)",
      "\u001b[0;32m/tmp/ipykernel_7000/2819594295.py\u001b[0m in \u001b[0;36m<cell line: 0>\u001b[0;34m()\u001b[0m\n\u001b[0;32m----> 1\u001b[0;31m \u001b[0mds_balanceado\u001b[0m\u001b[0;34m.\u001b[0m\u001b[0mdescription\u001b[0m\u001b[0;34m\u001b[0m\u001b[0;34m\u001b[0m\u001b[0m\n\u001b[0m",
      "\u001b[0;31mNameError\u001b[0m: name 'ds_balanceado' is not defined"
     ]
    }
   ],
   "source": [
    "ds_balanceado.description"
   ]
  },
  {
   "cell_type": "code",
   "execution_count": null,
   "metadata": {},
   "outputs": [
    {
     "ename": "NameError",
     "evalue": "name 'ds_balanceado' is not defined",
     "output_type": "error",
     "traceback": [
      "\u001b[0;31m---------------------------------------------------------------------------\u001b[0m",
      "\u001b[0;31mNameError\u001b[0m                                 Traceback (most recent call last)",
      "\u001b[0;32m/tmp/ipykernel_7000/2180083237.py\u001b[0m in \u001b[0;36m<cell line: 0>\u001b[0;34m()\u001b[0m\n\u001b[0;32m----> 1\u001b[0;31m \u001b[0mds_balanceado\u001b[0m\u001b[0;34m.\u001b[0m\u001b[0mset_description\u001b[0m\u001b[0;34m(\u001b[0m\u001b[0mdescipcion\u001b[0m\u001b[0;34m)\u001b[0m\u001b[0;34m\u001b[0m\u001b[0;34m\u001b[0m\u001b[0m\n\u001b[0m",
      "\u001b[0;31mNameError\u001b[0m: name 'ds_balanceado' is not defined"
     ]
    }
   ],
   "source": [
    "ds_balanceado.set_description(descipcion)"
   ]
  },
  {
   "cell_type": "code",
   "execution_count": null,
   "metadata": {},
   "outputs": [
    {
     "ename": "NameError",
     "evalue": "name 'ds_balanceado' is not defined",
     "output_type": "error",
     "traceback": [
      "\u001b[0;31m---------------------------------------------------------------------------\u001b[0m",
      "\u001b[0;31mNameError\u001b[0m                                 Traceback (most recent call last)",
      "\u001b[0;32m/tmp/ipykernel_7000/2819594295.py\u001b[0m in \u001b[0;36m<cell line: 0>\u001b[0;34m()\u001b[0m\n\u001b[0;32m----> 1\u001b[0;31m \u001b[0mds_balanceado\u001b[0m\u001b[0;34m.\u001b[0m\u001b[0mdescription\u001b[0m\u001b[0;34m\u001b[0m\u001b[0;34m\u001b[0m\u001b[0m\n\u001b[0m",
      "\u001b[0;31mNameError\u001b[0m: name 'ds_balanceado' is not defined"
     ]
    }
   ],
   "source": [
    "ds_balanceado.description"
   ]
  },
  {
   "cell_type": "code",
   "execution_count": null,
   "metadata": {},
   "outputs": [
    {
     "ename": "NameError",
     "evalue": "name 'ds_balanceado' is not defined",
     "output_type": "error",
     "traceback": [
      "\u001b[0;31m---------------------------------------------------------------------------\u001b[0m",
      "\u001b[0;31mNameError\u001b[0m                                 Traceback (most recent call last)",
      "\u001b[0;32m/tmp/ipykernel_7000/825900015.py\u001b[0m in \u001b[0;36m<cell line: 0>\u001b[0;34m()\u001b[0m\n\u001b[0;32m----> 1\u001b[0;31m \u001b[0mds_balanceado\u001b[0m\u001b[0;34m.\u001b[0m\u001b[0mshow_in_notebook\u001b[0m\u001b[0;34m(\u001b[0m\u001b[0;34m)\u001b[0m\u001b[0;34m\u001b[0m\u001b[0;34m\u001b[0m\u001b[0m\n\u001b[0m",
      "\u001b[0;31mNameError\u001b[0m: name 'ds_balanceado' is not defined"
     ]
    }
   ],
   "source": [
    "ds_balanceado.show_in_notebook()"
   ]
  },
  {
   "cell_type": "markdown",
   "metadata": {},
   "source": [
    "### 5.4 Generando un CSV"
   ]
  },
  {
   "cell_type": "code",
   "execution_count": null,
   "metadata": {},
   "outputs": [
    {
     "ename": "NameError",
     "evalue": "name 'ds_balanceado' is not defined",
     "output_type": "error",
     "traceback": [
      "\u001b[0;31m---------------------------------------------------------------------------\u001b[0m",
      "\u001b[0;31mNameError\u001b[0m                                 Traceback (most recent call last)",
      "\u001b[0;32m/tmp/ipykernel_7000/1726108126.py\u001b[0m in \u001b[0;36m<cell line: 0>\u001b[0;34m()\u001b[0m\n\u001b[0;32m----> 1\u001b[0;31m \u001b[0mds_balanceado\u001b[0m\u001b[0;34m.\u001b[0m\u001b[0mto_cvs\u001b[0m\u001b[0;34m(\u001b[0m\u001b[0;34m\"data/datos_salud_final.csv\"\u001b[0m\u001b[0;34m,\u001b[0m \u001b[0mindex\u001b[0m\u001b[0;34m=\u001b[0m\u001b[0;32mFalse\u001b[0m\u001b[0;34m)\u001b[0m\u001b[0;34m\u001b[0m\u001b[0;34m\u001b[0m\u001b[0m\n\u001b[0m",
      "\u001b[0;31mNameError\u001b[0m: name 'ds_balanceado' is not defined"
     ]
    }
   ],
   "source": [
    "ds_balanceado.to_cvs(\"data/datos_salud_final.csv\", index=False)"
   ]
  }
 ],
 "metadata": {
  "kernelspec": {
   "display_name": "Python 3",
   "language": "python",
   "name": "python3"
  },
  "language_info": {
   "codemirror_mode": {
    "name": "ipython",
    "version": 3
   },
   "file_extension": ".py",
   "mimetype": "text/x-python",
   "name": "python",
   "nbconvert_exporter": "python",
   "pygments_lexer": "ipython3",
   "version": "3.11.0rc1"
  }
 },
 "nbformat": 4,
 "nbformat_minor": 2
}
