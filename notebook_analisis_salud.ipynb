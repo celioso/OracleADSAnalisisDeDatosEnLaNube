{
 "cells": [
  {
   "cell_type": "markdown",
   "metadata": {},
   "source": [
    "# 1.5 Version de las Bibliotecas"
   ]
  },
  {
   "cell_type": "code",
   "execution_count": 1,
   "metadata": {},
   "outputs": [
    {
     "name": "stdout",
     "output_type": "stream",
     "text": [
      "Defaulting to user installation because normal site-packages is not writeable\n",
      "Requirement already satisfied: ads in /home/celis/.local/lib/python3.11/site-packages (0.12.3)\n",
      "Requirement already satisfied: mock in /home/celis/.local/lib/python3.11/site-packages (from ads) (5.1.0)\n",
      "Requirement already satisfied: httpretty==0.8.10 in /home/celis/.local/lib/python3.11/site-packages (from ads) (0.8.10)\n",
      "Requirement already satisfied: werkzeug in /home/celis/.local/lib/python3.11/site-packages (from ads) (3.0.1)\n",
      "Requirement already satisfied: six in /usr/lib/python3/dist-packages (from ads) (1.16.0)\n",
      "Requirement already satisfied: requests in /usr/lib/python3/dist-packages (from ads) (2.25.1)\n",
      "Requirement already satisfied: MarkupSafe>=2.1.1 in /home/celis/.local/lib/python3.11/site-packages (from werkzeug->ads) (2.1.3)\n",
      "Note: you may need to restart the kernel to use updated packages.\n"
     ]
    }
   ],
   "source": [
    "pip install ads"
   ]
  },
  {
   "cell_type": "code",
   "execution_count": 24,
   "metadata": {},
   "outputs": [
    {
     "name": "stdout",
     "output_type": "stream",
     "text": [
      "Defaulting to user installation because normal site-packages is not writeable\n",
      "Collecting oracle-ads\n",
      "  Downloading oracle_ads-2.9.0-py3-none-any.whl (21.4 MB)\n",
      "\u001b[2K     \u001b[90m━━━━━━━━━━━━━━━━━━━━━━━━━━━━━━━━━━━━━━━━\u001b[0m \u001b[32m21.4/21.4 MB\u001b[0m \u001b[31m5.1 MB/s\u001b[0m eta \u001b[36m0:00:00\u001b[0m00:01\u001b[0m00:01\u001b[0m\n",
      "\u001b[?25hCollecting cerberus>=1.3.4\n",
      "  Downloading Cerberus-1.3.5-py3-none-any.whl (30 kB)\n",
      "Collecting tqdm>=4.59.0\n",
      "  Downloading tqdm-4.66.1-py3-none-any.whl (78 kB)\n",
      "\u001b[2K     \u001b[90m━━━━━━━━━━━━━━━━━━━━━━━━━━━━━━━━━━━━━━━━\u001b[0m \u001b[32m78.3/78.3 KB\u001b[0m \u001b[31m9.3 MB/s\u001b[0m eta \u001b[36m0:00:00\u001b[0m\n",
      "\u001b[?25hRequirement already satisfied: psutil>=5.7.2 in /home/celis/.local/lib/python3.11/site-packages (from oracle-ads) (5.9.6)\n",
      "Collecting pandas<2.1,>1.2.1\n",
      "  Downloading pandas-2.0.3-cp311-cp311-manylinux_2_17_x86_64.manylinux2014_x86_64.whl (12.2 MB)\n",
      "\u001b[2K     \u001b[90m━━━━━━━━━━━━━━━━━━━━━━━━━━━━━━━━━━━━━━━━\u001b[0m \u001b[32m12.2/12.2 MB\u001b[0m \u001b[31m12.1 MB/s\u001b[0m eta \u001b[36m0:00:00\u001b[0m00:01\u001b[0m00:01\u001b[0m\n",
      "\u001b[?25hRequirement already satisfied: scikit-learn>=1.0 in /home/celis/.local/lib/python3.11/site-packages (from oracle-ads) (1.3.2)\n",
      "Collecting jinja2>=2.11.2\n",
      "  Using cached Jinja2-3.1.2-py3-none-any.whl (133 kB)\n",
      "Collecting python_jsonschema_objects>=0.3.13\n",
      "  Downloading python_jsonschema_objects-0.5.0-py2.py3-none-any.whl (28 kB)\n",
      "Collecting oci>=2.113.0\n",
      "  Downloading oci-2.116.0-py3-none-any.whl (24.6 MB)\n",
      "\u001b[2K     \u001b[90m━━━━━━━━━━━━━━━━━━━━━━━━━━━━━━━━━━━━━━━━\u001b[0m \u001b[32m24.6/24.6 MB\u001b[0m \u001b[31m10.9 MB/s\u001b[0m eta \u001b[36m0:00:00\u001b[0m00:01\u001b[0m00:01\u001b[0m\n",
      "\u001b[?25hCollecting gitpython>=3.1.2\n",
      "  Downloading GitPython-3.1.40-py3-none-any.whl (190 kB)\n",
      "\u001b[2K     \u001b[90m━━━━━━━━━━━━━━━━━━━━━━━━━━━━━━━━━━━━━━\u001b[0m \u001b[32m190.6/190.6 KB\u001b[0m \u001b[31m10.8 MB/s\u001b[0m eta \u001b[36m0:00:00\u001b[0m\n",
      "\u001b[?25hRequirement already satisfied: numpy>=1.19.2 in /home/celis/.local/lib/python3.11/site-packages (from oracle-ads) (1.26.1)\n",
      "Collecting tabulate>=0.8.9\n",
      "  Downloading tabulate-0.9.0-py3-none-any.whl (35 kB)\n",
      "Collecting fsspec<2023.9.1,>=0.8.7\n",
      "  Downloading fsspec-2023.9.0-py3-none-any.whl (173 kB)\n",
      "\u001b[2K     \u001b[90m━━━━━━━━━━━━━━━━━━━━━━━━━━━━━━━━━━━━━━\u001b[0m \u001b[32m173.2/173.2 KB\u001b[0m \u001b[31m11.1 MB/s\u001b[0m eta \u001b[36m0:00:00\u001b[0m\n",
      "\u001b[?25hCollecting cloudpickle>=1.6.0\n",
      "  Downloading cloudpickle-3.0.0-py3-none-any.whl (20 kB)\n",
      "Requirement already satisfied: matplotlib>=3.1.3 in /home/celis/.local/lib/python3.11/site-packages (from oracle-ads) (3.8.0)\n",
      "Collecting PyYAML>=6\n",
      "  Downloading PyYAML-6.0.1-cp311-cp311-manylinux_2_17_x86_64.manylinux2014_x86_64.whl (757 kB)\n",
      "\u001b[2K     \u001b[90m━━━━━━━━━━━━━━━━━━━━━━━━━━━━━━━━━━━━━━\u001b[0m \u001b[32m757.7/757.7 KB\u001b[0m \u001b[31m11.1 MB/s\u001b[0m eta \u001b[36m0:00:00\u001b[0ma \u001b[36m0:00:01\u001b[0m\n",
      "\u001b[?25hCollecting ocifs>=1.1.3\n",
      "  Downloading ocifs-1.3.0-py3-none-any.whl (67 kB)\n",
      "\u001b[2K     \u001b[90m━━━━━━━━━━━━━━━━━━━━━━━━━━━━━━━━━━━━━━━━\u001b[0m \u001b[32m67.3/67.3 KB\u001b[0m \u001b[31m7.8 MB/s\u001b[0m eta \u001b[36m0:00:00\u001b[0m\n",
      "\u001b[?25hRequirement already satisfied: requests in /usr/lib/python3/dist-packages (from oracle-ads) (2.25.1)\n",
      "Collecting asteval>=0.9.25\n",
      "  Downloading asteval-0.9.31-py3-none-any.whl (20 kB)\n",
      "Collecting gitdb<5,>=4.0.1\n",
      "  Downloading gitdb-4.0.11-py3-none-any.whl (62 kB)\n",
      "\u001b[2K     \u001b[90m━━━━━━━━━━━━━━━━━━━━━━━━━━━━━━━━━━━━━━━━\u001b[0m \u001b[32m62.7/62.7 KB\u001b[0m \u001b[31m7.1 MB/s\u001b[0m eta \u001b[36m0:00:00\u001b[0m\n",
      "\u001b[?25hRequirement already satisfied: MarkupSafe>=2.0 in /home/celis/.local/lib/python3.11/site-packages (from jinja2>=2.11.2->oracle-ads) (2.1.3)\n",
      "Requirement already satisfied: fonttools>=4.22.0 in /home/celis/.local/lib/python3.11/site-packages (from matplotlib>=3.1.3->oracle-ads) (4.43.1)\n",
      "Requirement already satisfied: contourpy>=1.0.1 in /home/celis/.local/lib/python3.11/site-packages (from matplotlib>=3.1.3->oracle-ads) (1.1.1)\n",
      "Requirement already satisfied: cycler>=0.10 in /home/celis/.local/lib/python3.11/site-packages (from matplotlib>=3.1.3->oracle-ads) (0.12.1)\n",
      "Requirement already satisfied: pyparsing>=2.3.1 in /usr/lib/python3/dist-packages (from matplotlib>=3.1.3->oracle-ads) (2.4.7)\n",
      "Requirement already satisfied: kiwisolver>=1.0.1 in /home/celis/.local/lib/python3.11/site-packages (from matplotlib>=3.1.3->oracle-ads) (1.4.5)\n",
      "Requirement already satisfied: python-dateutil>=2.7 in /home/celis/.local/lib/python3.11/site-packages (from matplotlib>=3.1.3->oracle-ads) (2.8.2)\n",
      "Requirement already satisfied: pillow>=6.2.0 in /home/celis/.local/lib/python3.11/site-packages (from matplotlib>=3.1.3->oracle-ads) (10.1.0)\n",
      "Requirement already satisfied: packaging>=20.0 in /home/celis/.local/lib/python3.11/site-packages (from matplotlib>=3.1.3->oracle-ads) (23.2)\n",
      "Requirement already satisfied: certifi in /usr/lib/python3/dist-packages (from oci>=2.113.0->oracle-ads) (2020.6.20)\n",
      "Requirement already satisfied: cryptography<42.0.0,>=3.2.1 in /usr/lib/python3/dist-packages (from oci>=2.113.0->oracle-ads) (3.4.8)\n",
      "Collecting pyOpenSSL<24.0.0,>=17.5.0\n",
      "  Downloading pyOpenSSL-23.3.0-py3-none-any.whl (58 kB)\n",
      "\u001b[2K     \u001b[90m━━━━━━━━━━━━━━━━━━━━━━━━━━━━━━━━━━━━━━━━\u001b[0m \u001b[32m58.8/58.8 KB\u001b[0m \u001b[31m6.2 MB/s\u001b[0m eta \u001b[36m0:00:00\u001b[0m\n",
      "\u001b[?25hCollecting circuitbreaker<2.0.0,>=1.3.1\n",
      "  Downloading circuitbreaker-1.4.0.tar.gz (9.7 kB)\n",
      "  Preparing metadata (setup.py) ... \u001b[?25ldone\n",
      "\u001b[?25hRequirement already satisfied: pytz>=2016.10 in /usr/lib/python3/dist-packages (from oci>=2.113.0->oracle-ads) (2022.1)\n",
      "Requirement already satisfied: tzdata>=2022.1 in /home/celis/.local/lib/python3.11/site-packages (from pandas<2.1,>1.2.1->oracle-ads) (2023.3)\n",
      "Collecting Markdown>=2.4\n",
      "  Downloading Markdown-3.5.1-py3-none-any.whl (102 kB)\n",
      "\u001b[2K     \u001b[90m━━━━━━━━━━━━━━━━━━━━━━━━━━━━━━━━━━━━━━━\u001b[0m \u001b[32m102.2/102.2 KB\u001b[0m \u001b[31m9.4 MB/s\u001b[0m eta \u001b[36m0:00:00\u001b[0m\n",
      "\u001b[?25hCollecting jsonschema>=4.18\n",
      "  Downloading jsonschema-4.20.0-py3-none-any.whl (84 kB)\n",
      "\u001b[2K     \u001b[90m━━━━━━━━━━━━━━━━━━━━━━━━━━━━━━━━━━━━━━━━\u001b[0m \u001b[32m84.7/84.7 KB\u001b[0m \u001b[31m9.3 MB/s\u001b[0m eta \u001b[36m0:00:00\u001b[0m\n",
      "\u001b[?25hCollecting inflection>=0.2\n",
      "  Downloading inflection-0.5.1-py2.py3-none-any.whl (9.5 kB)\n",
      "Requirement already satisfied: six>=1.5.2 in /usr/lib/python3/dist-packages (from python_jsonschema_objects>=0.3.13->oracle-ads) (1.16.0)\n",
      "Requirement already satisfied: joblib>=1.1.1 in /home/celis/.local/lib/python3.11/site-packages (from scikit-learn>=1.0->oracle-ads) (1.3.2)\n",
      "Requirement already satisfied: threadpoolctl>=2.0.0 in /home/celis/.local/lib/python3.11/site-packages (from scikit-learn>=1.0->oracle-ads) (3.2.0)\n",
      "Requirement already satisfied: scipy>=1.5.0 in /home/celis/.local/lib/python3.11/site-packages (from scikit-learn>=1.0->oracle-ads) (1.11.3)\n",
      "Collecting smmap<6,>=3.0.1\n",
      "  Downloading smmap-5.0.1-py3-none-any.whl (24 kB)\n",
      "Collecting rpds-py>=0.7.1\n",
      "  Downloading rpds_py-0.13.2-cp311-cp311-manylinux_2_17_x86_64.manylinux2014_x86_64.whl (1.2 MB)\n",
      "\u001b[2K     \u001b[90m━━━━━━━━━━━━━━━━━━━━━━━━━━━━━━━━━━━━━━━━\u001b[0m \u001b[32m1.2/1.2 MB\u001b[0m \u001b[31m10.4 MB/s\u001b[0m eta \u001b[36m0:00:00\u001b[0m00:01\u001b[0m00:01\u001b[0m\n",
      "\u001b[?25hCollecting referencing>=0.28.4\n",
      "  Downloading referencing-0.31.1-py3-none-any.whl (25 kB)\n",
      "Collecting jsonschema-specifications>=2023.03.6\n",
      "  Downloading jsonschema_specifications-2023.11.2-py3-none-any.whl (17 kB)\n",
      "Collecting attrs>=22.2.0\n",
      "  Downloading attrs-23.1.0-py3-none-any.whl (61 kB)\n",
      "\u001b[2K     \u001b[90m━━━━━━━━━━━━━━━━━━━━━━━━━━━━━━━━━━━━━━━━\u001b[0m \u001b[32m61.2/61.2 KB\u001b[0m \u001b[31m8.2 MB/s\u001b[0m eta \u001b[36m0:00:00\u001b[0m\n",
      "\u001b[?25hCollecting cryptography<42.0.0,>=3.2.1\n",
      "  Downloading cryptography-41.0.7-cp37-abi3-manylinux_2_28_x86_64.whl (4.4 MB)\n",
      "\u001b[2K     \u001b[90m━━━━━━━━━━━━━━━━━━━━━━━━━━━━━━━━━━━━━━━━\u001b[0m \u001b[32m4.4/4.4 MB\u001b[0m \u001b[31m11.3 MB/s\u001b[0m eta \u001b[36m0:00:00\u001b[0m00:01\u001b[0m00:01\u001b[0m\n",
      "\u001b[?25hCollecting cffi>=1.12\n",
      "  Downloading cffi-1.16.0-cp311-cp311-manylinux_2_17_x86_64.manylinux2014_x86_64.whl (464 kB)\n",
      "\u001b[2K     \u001b[90m━━━━━━━━━━━━━━━━━━━━━━━━━━━━━━━━━━━━━━\u001b[0m \u001b[32m464.8/464.8 KB\u001b[0m \u001b[31m11.2 MB/s\u001b[0m eta \u001b[36m0:00:00\u001b[0ma \u001b[36m0:00:01\u001b[0m\n",
      "\u001b[?25hCollecting pycparser\n",
      "  Using cached pycparser-2.21-py2.py3-none-any.whl (118 kB)\n",
      "Building wheels for collected packages: circuitbreaker\n",
      "  Building wheel for circuitbreaker (setup.py) ... \u001b[?25ldone\n",
      "\u001b[?25h  Created wheel for circuitbreaker: filename=circuitbreaker-1.4.0-py3-none-any.whl size=7522 sha256=f1d4bd2b3bc6e140719114e9ba800ac4d0e6f2978c469f39cfcd481fb180e536\n",
      "  Stored in directory: /home/celis/.cache/pip/wheels/d1/eb/14/95fd939855e1ad2a5d4ddc18119dbf4f15e6f20a696328643a\n",
      "Successfully built circuitbreaker\n",
      "Installing collected packages: circuitbreaker, cerberus, tqdm, tabulate, smmap, rpds-py, PyYAML, pycparser, Markdown, jinja2, inflection, fsspec, cloudpickle, attrs, asteval, referencing, pandas, gitdb, cffi, jsonschema-specifications, gitpython, cryptography, pyOpenSSL, jsonschema, python_jsonschema_objects, oci, ocifs, oracle-ads\n",
      "  Attempting uninstall: pandas\n",
      "    Found existing installation: pandas 2.1.1\n",
      "    Uninstalling pandas-2.1.1:\n",
      "      Successfully uninstalled pandas-2.1.1\n",
      "Successfully installed Markdown-3.5.1 PyYAML-6.0.1 asteval-0.9.31 attrs-23.1.0 cerberus-1.3.5 cffi-1.16.0 circuitbreaker-1.4.0 cloudpickle-3.0.0 cryptography-41.0.7 fsspec-2023.9.0 gitdb-4.0.11 gitpython-3.1.40 inflection-0.5.1 jinja2-3.1.2 jsonschema-4.20.0 jsonschema-specifications-2023.11.2 oci-2.116.0 ocifs-1.3.0 oracle-ads-2.9.0 pandas-2.0.3 pyOpenSSL-23.3.0 pycparser-2.21 python_jsonschema_objects-0.5.0 referencing-0.31.1 rpds-py-0.13.2 smmap-5.0.1 tabulate-0.9.0 tqdm-4.66.1\n",
      "Note: you may need to restart the kernel to use updated packages.\n"
     ]
    }
   ],
   "source": [
    "pip install oracle-ads"
   ]
  },
  {
   "cell_type": "code",
   "execution_count": 2,
   "metadata": {},
   "outputs": [],
   "source": [
    "import ads\n",
    "import pandas as pd"
   ]
  },
  {
   "cell_type": "code",
   "execution_count": 12,
   "metadata": {},
   "outputs": [
    {
     "data": {
      "text/plain": [
       "'2.1.1'"
      ]
     },
     "execution_count": 12,
     "metadata": {},
     "output_type": "execute_result"
    }
   ],
   "source": [
    "pd.__version__"
   ]
  },
  {
   "cell_type": "code",
   "execution_count": 13,
   "metadata": {},
   "outputs": [
    {
     "data": {
      "text/plain": [
       "'0.12.3'"
      ]
     },
     "execution_count": 13,
     "metadata": {},
     "output_type": "execute_result"
    }
   ],
   "source": [
    "ads.__version__"
   ]
  },
  {
   "cell_type": "markdown",
   "metadata": {},
   "source": [
    "link de los datos = https://www.kaggle.com/datasets/dileep070/heart-disease-prediction-using-logistic-regression/"
   ]
  },
  {
   "cell_type": "code",
   "execution_count": 22,
   "metadata": {},
   "outputs": [
    {
     "data": {
      "text/html": [
       "<div>\n",
       "<style scoped>\n",
       "    .dataframe tbody tr th:only-of-type {\n",
       "        vertical-align: middle;\n",
       "    }\n",
       "\n",
       "    .dataframe tbody tr th {\n",
       "        vertical-align: top;\n",
       "    }\n",
       "\n",
       "    .dataframe thead th {\n",
       "        text-align: right;\n",
       "    }\n",
       "</style>\n",
       "<table border=\"1\" class=\"dataframe\">\n",
       "  <thead>\n",
       "    <tr style=\"text-align: right;\">\n",
       "      <th></th>\n",
       "      <th>male</th>\n",
       "      <th>age</th>\n",
       "      <th>education</th>\n",
       "      <th>currentSmoker</th>\n",
       "      <th>cigsPerDay</th>\n",
       "      <th>BPMeds</th>\n",
       "      <th>prevalentStroke</th>\n",
       "      <th>prevalentHyp</th>\n",
       "      <th>diabetes</th>\n",
       "      <th>totChol</th>\n",
       "      <th>sysBP</th>\n",
       "      <th>diaBP</th>\n",
       "      <th>BMI</th>\n",
       "      <th>heartRate</th>\n",
       "      <th>glucose</th>\n",
       "      <th>TenYearCHD</th>\n",
       "    </tr>\n",
       "  </thead>\n",
       "  <tbody>\n",
       "    <tr>\n",
       "      <th>1065</th>\n",
       "      <td>1</td>\n",
       "      <td>41</td>\n",
       "      <td>1.0</td>\n",
       "      <td>0</td>\n",
       "      <td>0.0</td>\n",
       "      <td>0.0</td>\n",
       "      <td>0</td>\n",
       "      <td>0</td>\n",
       "      <td>0</td>\n",
       "      <td>324.0</td>\n",
       "      <td>129.5</td>\n",
       "      <td>92.5</td>\n",
       "      <td>34.99</td>\n",
       "      <td>79.0</td>\n",
       "      <td>103.0</td>\n",
       "      <td>0</td>\n",
       "    </tr>\n",
       "    <tr>\n",
       "      <th>474</th>\n",
       "      <td>1</td>\n",
       "      <td>46</td>\n",
       "      <td>2.0</td>\n",
       "      <td>1</td>\n",
       "      <td>20.0</td>\n",
       "      <td>0.0</td>\n",
       "      <td>0</td>\n",
       "      <td>0</td>\n",
       "      <td>0</td>\n",
       "      <td>235.0</td>\n",
       "      <td>150.0</td>\n",
       "      <td>96.5</td>\n",
       "      <td>27.22</td>\n",
       "      <td>94.0</td>\n",
       "      <td>78.0</td>\n",
       "      <td>0</td>\n",
       "    </tr>\n",
       "    <tr>\n",
       "      <th>553</th>\n",
       "      <td>1</td>\n",
       "      <td>53</td>\n",
       "      <td>1.0</td>\n",
       "      <td>0</td>\n",
       "      <td>0.0</td>\n",
       "      <td>0.0</td>\n",
       "      <td>0</td>\n",
       "      <td>1</td>\n",
       "      <td>0</td>\n",
       "      <td>240.0</td>\n",
       "      <td>174.5</td>\n",
       "      <td>103.0</td>\n",
       "      <td>29.82</td>\n",
       "      <td>81.0</td>\n",
       "      <td>74.0</td>\n",
       "      <td>1</td>\n",
       "    </tr>\n",
       "    <tr>\n",
       "      <th>707</th>\n",
       "      <td>1</td>\n",
       "      <td>47</td>\n",
       "      <td>1.0</td>\n",
       "      <td>1</td>\n",
       "      <td>30.0</td>\n",
       "      <td>0.0</td>\n",
       "      <td>0</td>\n",
       "      <td>0</td>\n",
       "      <td>0</td>\n",
       "      <td>143.0</td>\n",
       "      <td>114.0</td>\n",
       "      <td>79.0</td>\n",
       "      <td>26.59</td>\n",
       "      <td>69.0</td>\n",
       "      <td>72.0</td>\n",
       "      <td>1</td>\n",
       "    </tr>\n",
       "    <tr>\n",
       "      <th>1670</th>\n",
       "      <td>1</td>\n",
       "      <td>37</td>\n",
       "      <td>2.0</td>\n",
       "      <td>1</td>\n",
       "      <td>20.0</td>\n",
       "      <td>0.0</td>\n",
       "      <td>0</td>\n",
       "      <td>0</td>\n",
       "      <td>0</td>\n",
       "      <td>272.0</td>\n",
       "      <td>114.5</td>\n",
       "      <td>80.0</td>\n",
       "      <td>27.60</td>\n",
       "      <td>63.0</td>\n",
       "      <td>57.0</td>\n",
       "      <td>0</td>\n",
       "    </tr>\n",
       "  </tbody>\n",
       "</table>\n",
       "</div>"
      ],
      "text/plain": [
       "      male  age  education  currentSmoker  cigsPerDay  BPMeds  \\\n",
       "1065     1   41        1.0              0         0.0     0.0   \n",
       "474      1   46        2.0              1        20.0     0.0   \n",
       "553      1   53        1.0              0         0.0     0.0   \n",
       "707      1   47        1.0              1        30.0     0.0   \n",
       "1670     1   37        2.0              1        20.0     0.0   \n",
       "\n",
       "      prevalentStroke  prevalentHyp  diabetes  totChol  sysBP  diaBP    BMI  \\\n",
       "1065                0             0         0    324.0  129.5   92.5  34.99   \n",
       "474                 0             0         0    235.0  150.0   96.5  27.22   \n",
       "553                 0             1         0    240.0  174.5  103.0  29.82   \n",
       "707                 0             0         0    143.0  114.0   79.0  26.59   \n",
       "1670                0             0         0    272.0  114.5   80.0  27.60   \n",
       "\n",
       "      heartRate  glucose  TenYearCHD  \n",
       "1065       79.0    103.0           0  \n",
       "474        94.0     78.0           0  \n",
       "553        81.0     74.0           1  \n",
       "707        69.0     72.0           1  \n",
       "1670       63.0     57.0           0  "
      ]
     },
     "execution_count": 22,
     "metadata": {},
     "output_type": "execute_result"
    }
   ],
   "source": [
    "datos = pd.read_csv(\"data/framingham.csv\")\n",
    "datos.sample(5)"
   ]
  },
  {
   "cell_type": "code",
   "execution_count": 6,
   "metadata": {},
   "outputs": [
    {
     "data": {
      "text/plain": [
       "(4238, 16)"
      ]
     },
     "execution_count": 6,
     "metadata": {},
     "output_type": "execute_result"
    }
   ],
   "source": [
    "datos.shape"
   ]
  },
  {
   "cell_type": "code",
   "execution_count": 7,
   "metadata": {},
   "outputs": [
    {
     "data": {
      "text/plain": [
       "Index(['male', 'age', 'education', 'currentSmoker', 'cigsPerDay', 'BPMeds',\n",
       "       'prevalentStroke', 'prevalentHyp', 'diabetes', 'totChol', 'sysBP',\n",
       "       'diaBP', 'BMI', 'heartRate', 'glucose', 'TenYearCHD'],\n",
       "      dtype='object')"
      ]
     },
     "execution_count": 7,
     "metadata": {},
     "output_type": "execute_result"
    }
   ],
   "source": [
    "datos.columns"
   ]
  },
  {
   "cell_type": "markdown",
   "metadata": {},
   "source": [
    "###  2.2 Cargando el CSV"
   ]
  },
  {
   "cell_type": "code",
   "execution_count": 26,
   "metadata": {},
   "outputs": [
    {
     "ename": "ImportError",
     "evalue": "cannot import name 'set_documentation_mode' from 'ads' (/home/celis/.local/lib/python3.11/site-packages/ads/__init__.py)",
     "output_type": "error",
     "traceback": [
      "\u001b[0;31m---------------------------------------------------------------------------\u001b[0m",
      "\u001b[0;31mImportError\u001b[0m                               Traceback (most recent call last)",
      "\u001b[1;32m/mnt/c/Users/celio/OneDrive/Escritorio/programación/ONE-OracleNextEducation/ONE-Fase-3-Especializacion-Back-End/PythonParaDataScience/OracleADSanalisisdedatosenlaNube/notebook_analisis_salud.ipynb Celda 12\u001b[0m line \u001b[0;36m1\n\u001b[0;32m----> <a href='vscode-notebook-cell://wsl%2Bubuntu/mnt/c/Users/celio/OneDrive/Escritorio/programaci%C3%B3n/ONE-OracleNextEducation/ONE-Fase-3-Especializacion-Back-End/PythonParaDataScience/OracleADSanalisisdedatosenlaNube/notebook_analisis_salud.ipynb#X13sdnNjb2RlLXJlbW90ZQ%3D%3D?line=0'>1</a>\u001b[0m \u001b[39mfrom\u001b[39;00m \u001b[39mads\u001b[39;00m\u001b[39m.\u001b[39;00m\u001b[39mdataset\u001b[39;00m\u001b[39m.\u001b[39;00m\u001b[39mfactory\u001b[39;00m \u001b[39mimport\u001b[39;00m DatasetFactory\n\u001b[1;32m      <a href='vscode-notebook-cell://wsl%2Bubuntu/mnt/c/Users/celio/OneDrive/Escritorio/programaci%C3%B3n/ONE-OracleNextEducation/ONE-Fase-3-Especializacion-Back-End/PythonParaDataScience/OracleADSanalisisdedatosenlaNube/notebook_analisis_salud.ipynb#X13sdnNjb2RlLXJlbW90ZQ%3D%3D?line=2'>3</a>\u001b[0m ds \u001b[39m=\u001b[39m DatasetFactory\u001b[39m.\u001b[39mopen(\u001b[39m\"\u001b[39m\u001b[39mdata/framingham.csv\u001b[39m\u001b[39m\"\u001b[39m)\n\u001b[1;32m      <a href='vscode-notebook-cell://wsl%2Bubuntu/mnt/c/Users/celio/OneDrive/Escritorio/programaci%C3%B3n/ONE-OracleNextEducation/ONE-Fase-3-Especializacion-Back-End/PythonParaDataScience/OracleADSanalisisdedatosenlaNube/notebook_analisis_salud.ipynb#X13sdnNjb2RlLXJlbW90ZQ%3D%3D?line=3'>4</a>\u001b[0m ds\u001b[39m.\u001b[39mhead()\n",
      "File \u001b[0;32m~/.local/lib/python3.11/site-packages/ads/dataset/factory.py:22\u001b[0m\n\u001b[1;32m     20\u001b[0m \u001b[39mfrom\u001b[39;00m \u001b[39mads\u001b[39;00m\u001b[39m.\u001b[39;00m\u001b[39mcommon\u001b[39;00m\u001b[39m.\u001b[39;00m\u001b[39mutils\u001b[39;00m \u001b[39mimport\u001b[39;00m is_same_class\n\u001b[1;32m     21\u001b[0m \u001b[39mfrom\u001b[39;00m \u001b[39mads\u001b[39;00m\u001b[39m.\u001b[39;00m\u001b[39mdataset\u001b[39;00m \u001b[39mimport\u001b[39;00m logger\n\u001b[0;32m---> 22\u001b[0m \u001b[39mfrom\u001b[39;00m \u001b[39mads\u001b[39;00m\u001b[39m.\u001b[39;00m\u001b[39mdataset\u001b[39;00m\u001b[39m.\u001b[39;00m\u001b[39mclassification_dataset\u001b[39;00m \u001b[39mimport\u001b[39;00m (\n\u001b[1;32m     23\u001b[0m     BinaryClassificationDataset,\n\u001b[1;32m     24\u001b[0m     MultiClassClassificationDataset,\n\u001b[1;32m     25\u001b[0m     BinaryTextClassificationDataset,\n\u001b[1;32m     26\u001b[0m     MultiClassTextClassificationDataset,\n\u001b[1;32m     27\u001b[0m )\n\u001b[1;32m     28\u001b[0m \u001b[39mfrom\u001b[39;00m \u001b[39mads\u001b[39;00m\u001b[39m.\u001b[39;00m\u001b[39mdataset\u001b[39;00m\u001b[39m.\u001b[39;00m\u001b[39mdataset\u001b[39;00m \u001b[39mimport\u001b[39;00m ADSDataset\n\u001b[1;32m     29\u001b[0m \u001b[39mfrom\u001b[39;00m \u001b[39mads\u001b[39;00m\u001b[39m.\u001b[39;00m\u001b[39mdataset\u001b[39;00m\u001b[39m.\u001b[39;00m\u001b[39mforecasting_dataset\u001b[39;00m \u001b[39mimport\u001b[39;00m ForecastingDataset\n",
      "File \u001b[0;32m~/.local/lib/python3.11/site-packages/ads/dataset/classification_dataset.py:13\u001b[0m\n\u001b[1;32m     11\u001b[0m \u001b[39mfrom\u001b[39;00m \u001b[39mads\u001b[39;00m\u001b[39m.\u001b[39;00m\u001b[39mdataset\u001b[39;00m \u001b[39mimport\u001b[39;00m helper\n\u001b[1;32m     12\u001b[0m \u001b[39mfrom\u001b[39;00m \u001b[39mads\u001b[39;00m\u001b[39m.\u001b[39;00m\u001b[39mdataset\u001b[39;00m\u001b[39m.\u001b[39;00m\u001b[39mexception\u001b[39;00m \u001b[39mimport\u001b[39;00m ValidationError\n\u001b[0;32m---> 13\u001b[0m \u001b[39mfrom\u001b[39;00m \u001b[39mads\u001b[39;00m\u001b[39m.\u001b[39;00m\u001b[39mdataset\u001b[39;00m\u001b[39m.\u001b[39;00m\u001b[39mdataset_with_target\u001b[39;00m \u001b[39mimport\u001b[39;00m ADSDatasetWithTarget\n\u001b[1;32m     14\u001b[0m \u001b[39mfrom\u001b[39;00m \u001b[39msklearn\u001b[39;00m\u001b[39m.\u001b[39;00m\u001b[39mpreprocessing\u001b[39;00m \u001b[39mimport\u001b[39;00m FunctionTransformer\n\u001b[1;32m     15\u001b[0m \u001b[39mfrom\u001b[39;00m \u001b[39mads\u001b[39;00m\u001b[39m.\u001b[39;00m\u001b[39mdataset\u001b[39;00m\u001b[39m.\u001b[39;00m\u001b[39mhelper\u001b[39;00m \u001b[39mimport\u001b[39;00m deprecate_variable, deprecate_default_value\n",
      "File \u001b[0;32m~/.local/lib/python3.11/site-packages/ads/dataset/dataset_with_target.py:23\u001b[0m\n\u001b[1;32m     18\u001b[0m \u001b[39mfrom\u001b[39;00m \u001b[39mads\u001b[39;00m\u001b[39m.\u001b[39;00m\u001b[39mcommon\u001b[39;00m\u001b[39m.\u001b[39;00m\u001b[39mdecorator\u001b[39;00m\u001b[39m.\u001b[39;00m\u001b[39mruntime_dependency\u001b[39;00m \u001b[39mimport\u001b[39;00m (\n\u001b[1;32m     19\u001b[0m     runtime_dependency,\n\u001b[1;32m     20\u001b[0m     OptionalDependency,\n\u001b[1;32m     21\u001b[0m )\n\u001b[1;32m     22\u001b[0m \u001b[39mfrom\u001b[39;00m \u001b[39mads\u001b[39;00m\u001b[39m.\u001b[39;00m\u001b[39mdataset\u001b[39;00m \u001b[39mimport\u001b[39;00m helper\n\u001b[0;32m---> 23\u001b[0m \u001b[39mfrom\u001b[39;00m \u001b[39mads\u001b[39;00m\u001b[39m.\u001b[39;00m\u001b[39mdataset\u001b[39;00m\u001b[39m.\u001b[39;00m\u001b[39mdataset\u001b[39;00m \u001b[39mimport\u001b[39;00m ADSDataset\n\u001b[1;32m     24\u001b[0m \u001b[39mfrom\u001b[39;00m \u001b[39mads\u001b[39;00m\u001b[39m.\u001b[39;00m\u001b[39mdataset\u001b[39;00m\u001b[39m.\u001b[39;00m\u001b[39mfeature_engineering_transformer\u001b[39;00m \u001b[39mimport\u001b[39;00m FeatureEngineeringTransformer\n\u001b[1;32m     25\u001b[0m \u001b[39mfrom\u001b[39;00m \u001b[39mads\u001b[39;00m\u001b[39m.\u001b[39;00m\u001b[39mdataset\u001b[39;00m\u001b[39m.\u001b[39;00m\u001b[39mfeature_selection\u001b[39;00m \u001b[39mimport\u001b[39;00m FeatureImportance\n",
      "File \u001b[0;32m~/.local/lib/python3.11/site-packages/ads/dataset/dataset.py:21\u001b[0m\n\u001b[1;32m     18\u001b[0m \u001b[39mfrom\u001b[39;00m \u001b[39msklearn\u001b[39;00m\u001b[39m.\u001b[39;00m\u001b[39mpreprocessing\u001b[39;00m \u001b[39mimport\u001b[39;00m FunctionTransformer\n\u001b[1;32m     19\u001b[0m \u001b[39mfrom\u001b[39;00m \u001b[39mtyping\u001b[39;00m \u001b[39mimport\u001b[39;00m Iterable, Tuple, Union\n\u001b[0;32m---> 21\u001b[0m \u001b[39mfrom\u001b[39;00m \u001b[39mads\u001b[39;00m \u001b[39mimport\u001b[39;00m set_documentation_mode\n\u001b[1;32m     22\u001b[0m \u001b[39mfrom\u001b[39;00m \u001b[39mads\u001b[39;00m\u001b[39m.\u001b[39;00m\u001b[39mcommon\u001b[39;00m \u001b[39mimport\u001b[39;00m utils\n\u001b[1;32m     23\u001b[0m \u001b[39mfrom\u001b[39;00m \u001b[39mads\u001b[39;00m\u001b[39m.\u001b[39;00m\u001b[39mcommon\u001b[39;00m\u001b[39m.\u001b[39;00m\u001b[39mdecorator\u001b[39;00m\u001b[39m.\u001b[39;00m\u001b[39mdeprecate\u001b[39;00m \u001b[39mimport\u001b[39;00m deprecated\n",
      "\u001b[0;31mImportError\u001b[0m: cannot import name 'set_documentation_mode' from 'ads' (/home/celis/.local/lib/python3.11/site-packages/ads/__init__.py)"
     ]
    }
   ],
   "source": [
    " from ads.dataset.factory import DatasetFactory\n",
    "\n",
    " ds = DatasetFactory.open(\"data/framingham.csv\")\n",
    " ds.head()"
   ]
  },
  {
   "cell_type": "code",
   "execution_count": null,
   "metadata": {},
   "outputs": [
    {
     "ename": "NameError",
     "evalue": "name 'ds' is not defined",
     "output_type": "error",
     "traceback": [
      "\u001b[0;31m---------------------------------------------------------------------------\u001b[0m",
      "\u001b[0;31mNameError\u001b[0m                                 Traceback (most recent call last)",
      "\u001b[1;32m/mnt/c/Users/celio/OneDrive/Escritorio/programación/ONE-OracleNextEducation/ONE-Fase-3-Especializacion-Back-End/PythonParaDataScience/OracleADSanalisisdedatosenlaNube/notebook_analisis_salud.ipynb Celda 12\u001b[0m line \u001b[0;36m1\n\u001b[0;32m----> <a href='vscode-notebook-cell://wsl%2Bubuntu/mnt/c/Users/celio/OneDrive/Escritorio/programaci%C3%B3n/ONE-OracleNextEducation/ONE-Fase-3-Especializacion-Back-End/PythonParaDataScience/OracleADSanalisisdedatosenlaNube/notebook_analisis_salud.ipynb#X14sdnNjb2RlLXJlbW90ZQ%3D%3D?line=0'>1</a>\u001b[0m \u001b[39mtype\u001b[39m(ds)\n",
      "\u001b[0;31mNameError\u001b[0m: name 'ds' is not defined"
     ]
    }
   ],
   "source": [
    "type(ds)"
   ]
  },
  {
   "cell_type": "code",
   "execution_count": null,
   "metadata": {},
   "outputs": [
    {
     "data": {
      "text/plain": [
       "pandas.core.frame.DataFrame"
      ]
     },
     "execution_count": 24,
     "metadata": {},
     "output_type": "execute_result"
    }
   ],
   "source": [
    "type(datos)"
   ]
  },
  {
   "cell_type": "code",
   "execution_count": null,
   "metadata": {},
   "outputs": [
    {
     "ename": "NameError",
     "evalue": "name 'ds' is not defined",
     "output_type": "error",
     "traceback": [
      "\u001b[0;31m---------------------------------------------------------------------------\u001b[0m",
      "\u001b[0;31mNameError\u001b[0m                                 Traceback (most recent call last)",
      "\u001b[1;32m/mnt/c/Users/celio/OneDrive/Escritorio/programación/ONE-OracleNextEducation/ONE-Fase-3-Especializacion-Back-End/PythonParaDataScience/OracleADSanalisisdedatosenlaNube/notebook_analisis_salud.ipynb Celda 14\u001b[0m line \u001b[0;36m1\n\u001b[0;32m----> <a href='vscode-notebook-cell://wsl%2Bubuntu/mnt/c/Users/celio/OneDrive/Escritorio/programaci%C3%B3n/ONE-OracleNextEducation/ONE-Fase-3-Especializacion-Back-End/PythonParaDataScience/OracleADSanalisisdedatosenlaNube/notebook_analisis_salud.ipynb#X16sdnNjb2RlLXJlbW90ZQ%3D%3D?line=0'>1</a>\u001b[0m ds\u001b[39m.\u001b[39mcolumns\n",
      "\u001b[0;31mNameError\u001b[0m: name 'ds' is not defined"
     ]
    }
   ],
   "source": [
    "ds.columns"
   ]
  },
  {
   "cell_type": "code",
   "execution_count": null,
   "metadata": {},
   "outputs": [],
   "source": [
    "dict_ing_esp = {\n",
    "    \"male\":\"sexo\",\n",
    "    \"age\":\"edad\",\n",
    "    \"education\":\"escolaridad\",\n",
    "    \"currentSmoker\":\"fumador\",\n",
    "    \"cigsPerDay\":\"cigarrillos_por_dia\",\n",
    "    \"BPMeds\":\"uso_medicamentos_presion\",\n",
    "    \"prevalentStroke\":\"acv\",\n",
    "    \"prevalentHyp\":\"hipertension\",\n",
    "    \"diabetes\":\"diabetes\",\n",
    "    \"totChol\":\"colesterol_total\",\n",
    "    \"sysBP\":\"presion_arterial_sistolica\",\n",
    "    \"diaBP\":\"presion_arterial_diastolica\",\n",
    "    \"BMI\":\"imc\",\n",
    "    \"heartRate\":\"fracuencia_cardiaca\",\n",
    "    \"glucose\":\"glicemia\",\n",
    "    \"TenYearCHD\":\"riesgo_eac_decada\"\n",
    "}"
   ]
  },
  {
   "cell_type": "code",
   "execution_count": null,
   "metadata": {},
   "outputs": [
    {
     "ename": "NameError",
     "evalue": "name 'ds' is not defined",
     "output_type": "error",
     "traceback": [
      "\u001b[0;31m---------------------------------------------------------------------------\u001b[0m",
      "\u001b[0;31mNameError\u001b[0m                                 Traceback (most recent call last)",
      "\u001b[1;32m/mnt/c/Users/celio/OneDrive/Escritorio/programación/ONE-OracleNextEducation/ONE-Fase-3-Especializacion-Back-End/PythonParaDataScience/OracleADSanalisisdedatosenlaNube/notebook_analisis_salud.ipynb Celda 16\u001b[0m line \u001b[0;36m1\n\u001b[0;32m----> <a href='vscode-notebook-cell://wsl%2Bubuntu/mnt/c/Users/celio/OneDrive/Escritorio/programaci%C3%B3n/ONE-OracleNextEducation/ONE-Fase-3-Especializacion-Back-End/PythonParaDataScience/OracleADSanalisisdedatosenlaNube/notebook_analisis_salud.ipynb#X21sdnNjb2RlLXJlbW90ZQ%3D%3D?line=0'>1</a>\u001b[0m ds \u001b[39m=\u001b[39m ds\u001b[39m.\u001b[39mrename_columns(columns\u001b[39m=\u001b[39mdict_ing_esp)\n",
      "\u001b[0;31mNameError\u001b[0m: name 'ds' is not defined"
     ]
    }
   ],
   "source": [
    "ds = ds.rename_columns(columns=dict_ing_esp)"
   ]
  },
  {
   "cell_type": "code",
   "execution_count": null,
   "metadata": {},
   "outputs": [
    {
     "ename": "NameError",
     "evalue": "name 'ds' is not defined",
     "output_type": "error",
     "traceback": [
      "\u001b[0;31m---------------------------------------------------------------------------\u001b[0m",
      "\u001b[0;31mNameError\u001b[0m                                 Traceback (most recent call last)",
      "\u001b[1;32m/mnt/c/Users/celio/OneDrive/Escritorio/programación/ONE-OracleNextEducation/ONE-Fase-3-Especializacion-Back-End/PythonParaDataScience/OracleADSanalisisdedatosenlaNube/notebook_analisis_salud.ipynb Celda 17\u001b[0m line \u001b[0;36m1\n\u001b[0;32m----> <a href='vscode-notebook-cell://wsl%2Bubuntu/mnt/c/Users/celio/OneDrive/Escritorio/programaci%C3%B3n/ONE-OracleNextEducation/ONE-Fase-3-Especializacion-Back-End/PythonParaDataScience/OracleADSanalisisdedatosenlaNube/notebook_analisis_salud.ipynb#X23sdnNjb2RlLXJlbW90ZQ%3D%3D?line=0'>1</a>\u001b[0m ds\u001b[39m.\u001b[39mcolumns\n",
      "\u001b[0;31mNameError\u001b[0m: name 'ds' is not defined"
     ]
    }
   ],
   "source": [
    "ds.columns"
   ]
  },
  {
   "cell_type": "code",
   "execution_count": null,
   "metadata": {},
   "outputs": [],
   "source": [
    "ds.head()"
   ]
  },
  {
   "cell_type": "code",
   "execution_count": null,
   "metadata": {},
   "outputs": [
    {
     "ename": "NameError",
     "evalue": "name 'ds' is not defined",
     "output_type": "error",
     "traceback": [
      "\u001b[0;31m---------------------------------------------------------------------------\u001b[0m",
      "\u001b[0;31mNameError\u001b[0m                                 Traceback (most recent call last)",
      "\u001b[1;32m/mnt/c/Users/celio/OneDrive/Escritorio/programación/ONE-OracleNextEducation/ONE-Fase-3-Especializacion-Back-End/PythonParaDataScience/OracleADSanalisisdedatosenlaNube/notebook_analisis_salud.ipynb Celda 19\u001b[0m line \u001b[0;36m1\n\u001b[0;32m----> <a href='vscode-notebook-cell://wsl%2Bubuntu/mnt/c/Users/celio/OneDrive/Escritorio/programaci%C3%B3n/ONE-OracleNextEducation/ONE-Fase-3-Especializacion-Back-End/PythonParaDataScience/OracleADSanalisisdedatosenlaNube/notebook_analisis_salud.ipynb#X25sdnNjb2RlLXJlbW90ZQ%3D%3D?line=0'>1</a>\u001b[0m ds \u001b[39m=\u001b[39m ds\u001b[39m.\u001b[39mdrop_columns(\u001b[39m\"\u001b[39m\u001b[39mescolaridad\u001b[39m\u001b[39m\"\u001b[39m)\n",
      "\u001b[0;31mNameError\u001b[0m: name 'ds' is not defined"
     ]
    }
   ],
   "source": [
    "ds = ds.drop_columns(\"escolaridad\")"
   ]
  },
  {
   "cell_type": "code",
   "execution_count": null,
   "metadata": {},
   "outputs": [
    {
     "ename": "NameError",
     "evalue": "name 'ds' is not defined",
     "output_type": "error",
     "traceback": [
      "\u001b[0;31m---------------------------------------------------------------------------\u001b[0m",
      "\u001b[0;31mNameError\u001b[0m                                 Traceback (most recent call last)",
      "\u001b[1;32m/mnt/c/Users/celio/OneDrive/Escritorio/programación/ONE-OracleNextEducation/ONE-Fase-3-Especializacion-Back-End/PythonParaDataScience/OracleADSanalisisdedatosenlaNube/notebook_analisis_salud.ipynb Celda 20\u001b[0m line \u001b[0;36m1\n\u001b[0;32m----> <a href='vscode-notebook-cell://wsl%2Bubuntu/mnt/c/Users/celio/OneDrive/Escritorio/programaci%C3%B3n/ONE-OracleNextEducation/ONE-Fase-3-Especializacion-Back-End/PythonParaDataScience/OracleADSanalisisdedatosenlaNube/notebook_analisis_salud.ipynb#X26sdnNjb2RlLXJlbW90ZQ%3D%3D?line=0'>1</a>\u001b[0m ds\u001b[39m.\u001b[39mcolumns\n",
      "\u001b[0;31mNameError\u001b[0m: name 'ds' is not defined"
     ]
    }
   ],
   "source": [
    "ds.columns"
   ]
  },
  {
   "cell_type": "markdown",
   "metadata": {},
   "source": [
    "### 2.3 Creando un ADS DataFreme"
   ]
  },
  {
   "cell_type": "code",
   "execution_count": 9,
   "metadata": {},
   "outputs": [
    {
     "ename": "NameError",
     "evalue": "name 'ds' is not defined",
     "output_type": "error",
     "traceback": [
      "\u001b[0;31m---------------------------------------------------------------------------\u001b[0m",
      "\u001b[0;31mNameError\u001b[0m                                 Traceback (most recent call last)",
      "\u001b[1;32m/mnt/c/Users/celio/OneDrive/Escritorio/programación/ONE-OracleNextEducation/ONE-Fase-3-Especializacion-Back-End/PythonParaDataScience/OracleADSanalisisdedatosenlaNube/notebook_analisis_salud.ipynb Celda 22\u001b[0m line \u001b[0;36m1\n\u001b[0;32m----> <a href='vscode-notebook-cell://wsl%2Bubuntu/mnt/c/Users/celio/OneDrive/Escritorio/programaci%C3%B3n/ONE-OracleNextEducation/ONE-Fase-3-Especializacion-Back-End/PythonParaDataScience/OracleADSanalisisdedatosenlaNube/notebook_analisis_salud.ipynb#X30sdnNjb2RlLXJlbW90ZQ%3D%3D?line=0'>1</a>\u001b[0m ds\u001b[39m.\u001b[39msummary()\n",
      "\u001b[0;31mNameError\u001b[0m: name 'ds' is not defined"
     ]
    }
   ],
   "source": [
    "ds.summary()"
   ]
  },
  {
   "cell_type": "code",
   "execution_count": 10,
   "metadata": {},
   "outputs": [
    {
     "ename": "NameError",
     "evalue": "name 'ds' is not defined",
     "output_type": "error",
     "traceback": [
      "\u001b[0;31m---------------------------------------------------------------------------\u001b[0m",
      "\u001b[0;31mNameError\u001b[0m                                 Traceback (most recent call last)",
      "\u001b[1;32m/mnt/c/Users/celio/OneDrive/Escritorio/programación/ONE-OracleNextEducation/ONE-Fase-3-Especializacion-Back-End/PythonParaDataScience/OracleADSanalisisdedatosenlaNube/notebook_analisis_salud.ipynb Celda 23\u001b[0m line \u001b[0;36m1\n\u001b[0;32m----> <a href='vscode-notebook-cell://wsl%2Bubuntu/mnt/c/Users/celio/OneDrive/Escritorio/programaci%C3%B3n/ONE-OracleNextEducation/ONE-Fase-3-Especializacion-Back-End/PythonParaDataScience/OracleADSanalisisdedatosenlaNube/notebook_analisis_salud.ipynb#X31sdnNjb2RlLXJlbW90ZQ%3D%3D?line=0'>1</a>\u001b[0m ds\u001b[39m.\u001b[39mcigarrillos_por_dia\u001b[39m.\u001b[39munique()\n",
      "\u001b[0;31mNameError\u001b[0m: name 'ds' is not defined"
     ]
    }
   ],
   "source": [
    "ds.cigarrillos_por_dia.unique()"
   ]
  },
  {
   "cell_type": "code",
   "execution_count": 11,
   "metadata": {},
   "outputs": [
    {
     "ename": "NameError",
     "evalue": "name 'ds' is not defined",
     "output_type": "error",
     "traceback": [
      "\u001b[0;31m---------------------------------------------------------------------------\u001b[0m",
      "\u001b[0;31mNameError\u001b[0m                                 Traceback (most recent call last)",
      "\u001b[1;32m/mnt/c/Users/celio/OneDrive/Escritorio/programación/ONE-OracleNextEducation/ONE-Fase-3-Especializacion-Back-End/PythonParaDataScience/OracleADSanalisisdedatosenlaNube/notebook_analisis_salud.ipynb Celda 24\u001b[0m line \u001b[0;36m1\n\u001b[0;32m----> <a href='vscode-notebook-cell://wsl%2Bubuntu/mnt/c/Users/celio/OneDrive/Escritorio/programaci%C3%B3n/ONE-OracleNextEducation/ONE-Fase-3-Especializacion-Back-End/PythonParaDataScience/OracleADSanalisisdedatosenlaNube/notebook_analisis_salud.ipynb#X32sdnNjb2RlLXJlbW90ZQ%3D%3D?line=0'>1</a>\u001b[0m ds\u001b[39m.\u001b[39misnull()\u001b[39m.\u001b[39msum()\n",
      "\u001b[0;31mNameError\u001b[0m: name 'ds' is not defined"
     ]
    }
   ],
   "source": [
    "ds.isnull().sum()"
   ]
  },
  {
   "cell_type": "code",
   "execution_count": 16,
   "metadata": {},
   "outputs": [
    {
     "ename": "NameError",
     "evalue": "name 'ds' is not defined",
     "output_type": "error",
     "traceback": [
      "\u001b[0;31m---------------------------------------------------------------------------\u001b[0m",
      "\u001b[0;31mNameError\u001b[0m                                 Traceback (most recent call last)",
      "\u001b[1;32m/mnt/c/Users/celio/OneDrive/Escritorio/programación/ONE-OracleNextEducation/ONE-Fase-3-Especializacion-Back-End/PythonParaDataScience/OracleADSanalisisdedatosenlaNube/notebook_analisis_salud.ipynb Celda 25\u001b[0m line \u001b[0;36m1\n\u001b[0;32m----> <a href='vscode-notebook-cell://wsl%2Bubuntu/mnt/c/Users/celio/OneDrive/Escritorio/programaci%C3%B3n/ONE-OracleNextEducation/ONE-Fase-3-Especializacion-Back-End/PythonParaDataScience/OracleADSanalisisdedatosenlaNube/notebook_analisis_salud.ipynb#X33sdnNjb2RlLXJlbW90ZQ%3D%3D?line=0'>1</a>\u001b[0m seleccion_correctos \u001b[39m=\u001b[39m ds\u001b[39m.\u001b[39mcigarrilos_por_dia\u001b[39m.\u001b[39mnotnull()\n",
      "\u001b[0;31mNameError\u001b[0m: name 'ds' is not defined"
     ]
    }
   ],
   "source": [
    "seleccion_correctos = ds.cigarrilos_por_dia.notnull()"
   ]
  },
  {
   "cell_type": "code",
   "execution_count": 17,
   "metadata": {},
   "outputs": [
    {
     "ename": "NameError",
     "evalue": "name 'ds' is not defined",
     "output_type": "error",
     "traceback": [
      "\u001b[0;31m---------------------------------------------------------------------------\u001b[0m",
      "\u001b[0;31mNameError\u001b[0m                                 Traceback (most recent call last)",
      "\u001b[1;32m/mnt/c/Users/celio/OneDrive/Escritorio/programación/ONE-OracleNextEducation/ONE-Fase-3-Especializacion-Back-End/PythonParaDataScience/OracleADSanalisisdedatosenlaNube/notebook_analisis_salud.ipynb Celda 26\u001b[0m line \u001b[0;36m1\n\u001b[0;32m----> <a href='vscode-notebook-cell://wsl%2Bubuntu/mnt/c/Users/celio/OneDrive/Escritorio/programaci%C3%B3n/ONE-OracleNextEducation/ONE-Fase-3-Especializacion-Back-End/PythonParaDataScience/OracleADSanalisisdedatosenlaNube/notebook_analisis_salud.ipynb#X34sdnNjb2RlLXJlbW90ZQ%3D%3D?line=0'>1</a>\u001b[0m ds \u001b[39m=\u001b[39m ds[seleccion_correctos]\n",
      "\u001b[0;31mNameError\u001b[0m: name 'ds' is not defined"
     ]
    }
   ],
   "source": [
    "ds = ds[seleccion_correctos]"
   ]
  },
  {
   "cell_type": "code",
   "execution_count": 18,
   "metadata": {},
   "outputs": [
    {
     "ename": "NameError",
     "evalue": "name 'ds' is not defined",
     "output_type": "error",
     "traceback": [
      "\u001b[0;31m---------------------------------------------------------------------------\u001b[0m",
      "\u001b[0;31mNameError\u001b[0m                                 Traceback (most recent call last)",
      "\u001b[1;32m/mnt/c/Users/celio/OneDrive/Escritorio/programación/ONE-OracleNextEducation/ONE-Fase-3-Especializacion-Back-End/PythonParaDataScience/OracleADSanalisisdedatosenlaNube/notebook_analisis_salud.ipynb Celda 27\u001b[0m line \u001b[0;36m1\n\u001b[0;32m----> <a href='vscode-notebook-cell://wsl%2Bubuntu/mnt/c/Users/celio/OneDrive/Escritorio/programaci%C3%B3n/ONE-OracleNextEducation/ONE-Fase-3-Especializacion-Back-End/PythonParaDataScience/OracleADSanalisisdedatosenlaNube/notebook_analisis_salud.ipynb#X35sdnNjb2RlLXJlbW90ZQ%3D%3D?line=0'>1</a>\u001b[0m ds\u001b[39m.\u001b[39misnull()\u001b[39m.\u001b[39msum()\n",
      "\u001b[0;31mNameError\u001b[0m: name 'ds' is not defined"
     ]
    }
   ],
   "source": [
    "ds.isnull().sum()"
   ]
  },
  {
   "cell_type": "code",
   "execution_count": 20,
   "metadata": {},
   "outputs": [
    {
     "ename": "NameError",
     "evalue": "name 'ds' is not defined",
     "output_type": "error",
     "traceback": [
      "\u001b[0;31m---------------------------------------------------------------------------\u001b[0m",
      "\u001b[0;31mNameError\u001b[0m                                 Traceback (most recent call last)",
      "\u001b[1;32m/mnt/c/Users/celio/OneDrive/Escritorio/programación/ONE-OracleNextEducation/ONE-Fase-3-Especializacion-Back-End/PythonParaDataScience/OracleADSanalisisdedatosenlaNube/notebook_analisis_salud.ipynb Celda 28\u001b[0m line \u001b[0;36m1\n\u001b[0;32m----> <a href='vscode-notebook-cell://wsl%2Bubuntu/mnt/c/Users/celio/OneDrive/Escritorio/programaci%C3%B3n/ONE-OracleNextEducation/ONE-Fase-3-Especializacion-Back-End/PythonParaDataScience/OracleADSanalisisdedatosenlaNube/notebook_analisis_salud.ipynb#X36sdnNjb2RlLXJlbW90ZQ%3D%3D?line=0'>1</a>\u001b[0m ds \u001b[39m=\u001b[39m ds[ds\u001b[39m.\u001b[39muso_medicamento_presion\u001b[39m.\u001b[39mnotnull()]\n\u001b[1;32m      <a href='vscode-notebook-cell://wsl%2Bubuntu/mnt/c/Users/celio/OneDrive/Escritorio/programaci%C3%B3n/ONE-OracleNextEducation/ONE-Fase-3-Especializacion-Back-End/PythonParaDataScience/OracleADSanalisisdedatosenlaNube/notebook_analisis_salud.ipynb#X36sdnNjb2RlLXJlbW90ZQ%3D%3D?line=1'>2</a>\u001b[0m ds \u001b[39m=\u001b[39m ds[ds\u001b[39m.\u001b[39mcolesterol_total\u001b[39m.\u001b[39mnotnull()]\n\u001b[1;32m      <a href='vscode-notebook-cell://wsl%2Bubuntu/mnt/c/Users/celio/OneDrive/Escritorio/programaci%C3%B3n/ONE-OracleNextEducation/ONE-Fase-3-Especializacion-Back-End/PythonParaDataScience/OracleADSanalisisdedatosenlaNube/notebook_analisis_salud.ipynb#X36sdnNjb2RlLXJlbW90ZQ%3D%3D?line=2'>3</a>\u001b[0m ds \u001b[39m=\u001b[39m ds[ds\u001b[39m.\u001b[39mimc\u001b[39m.\u001b[39mnotnull()]\n",
      "\u001b[0;31mNameError\u001b[0m: name 'ds' is not defined"
     ]
    }
   ],
   "source": [
    "ds = ds[ds.uso_medicamento_presion.notnull()]\n",
    "ds = ds[ds.colesterol_total.notnull()]\n",
    "ds = ds[ds.imc.notnull()]\n",
    "ds = ds[ds.frecuencia_cardiaca.notnull()]"
   ]
  },
  {
   "cell_type": "code",
   "execution_count": 21,
   "metadata": {},
   "outputs": [
    {
     "ename": "NameError",
     "evalue": "name 'ds' is not defined",
     "output_type": "error",
     "traceback": [
      "\u001b[0;31m---------------------------------------------------------------------------\u001b[0m",
      "\u001b[0;31mNameError\u001b[0m                                 Traceback (most recent call last)",
      "\u001b[1;32m/mnt/c/Users/celio/OneDrive/Escritorio/programación/ONE-OracleNextEducation/ONE-Fase-3-Especializacion-Back-End/PythonParaDataScience/OracleADSanalisisdedatosenlaNube/notebook_analisis_salud.ipynb Celda 29\u001b[0m line \u001b[0;36m1\n\u001b[0;32m----> <a href='vscode-notebook-cell://wsl%2Bubuntu/mnt/c/Users/celio/OneDrive/Escritorio/programaci%C3%B3n/ONE-OracleNextEducation/ONE-Fase-3-Especializacion-Back-End/PythonParaDataScience/OracleADSanalisisdedatosenlaNube/notebook_analisis_salud.ipynb#X40sdnNjb2RlLXJlbW90ZQ%3D%3D?line=0'>1</a>\u001b[0m ds\u001b[39m.\u001b[39misnull()\u001b[39m.\u001b[39msum()\n",
      "\u001b[0;31mNameError\u001b[0m: name 'ds' is not defined"
     ]
    }
   ],
   "source": [
    "ds.isnull().sum()"
   ]
  }
 ],
 "metadata": {
  "kernelspec": {
   "display_name": "Python 3",
   "language": "python",
   "name": "python3"
  },
  "language_info": {
   "codemirror_mode": {
    "name": "ipython",
    "version": 3
   },
   "file_extension": ".py",
   "mimetype": "text/x-python",
   "name": "python",
   "nbconvert_exporter": "python",
   "pygments_lexer": "ipython3",
   "version": "3.11.0rc1"
  }
 },
 "nbformat": 4,
 "nbformat_minor": 2
}
