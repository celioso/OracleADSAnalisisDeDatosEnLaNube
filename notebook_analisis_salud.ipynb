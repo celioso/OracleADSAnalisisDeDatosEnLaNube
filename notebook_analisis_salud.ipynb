{
 "cells": [
  {
   "cell_type": "markdown",
   "metadata": {},
   "source": [
    "# 1.5 Version de las Bibliotecas"
   ]
  },
  {
   "cell_type": "code",
   "execution_count": 4,
   "metadata": {},
   "outputs": [
    {
     "name": "stdout",
     "output_type": "stream",
     "text": [
      "Defaulting to user installation because normal site-packages is not writeable\n",
      "Collecting ads\n",
      "  Downloading ads-0.12.3.tar.gz (32 kB)\n",
      "  Preparing metadata (setup.py) ... \u001b[?25ldone\n",
      "\u001b[?25hCollecting httpretty==0.8.10\n",
      "  Downloading httpretty-0.8.10.tar.gz (41 kB)\n",
      "\u001b[2K     \u001b[90m━━━━━━━━━━━━━━━━━━━━━━━━━━━━━━━━━━━━━━━━\u001b[0m \u001b[32m41.7/41.7 KB\u001b[0m \u001b[31m2.6 MB/s\u001b[0m eta \u001b[36m0:00:00\u001b[0m\n",
      "\u001b[?25h  Preparing metadata (setup.py) ... \u001b[?25ldone\n",
      "\u001b[?25hCollecting mock\n",
      "  Downloading mock-5.1.0-py3-none-any.whl (30 kB)\n",
      "Requirement already satisfied: requests in /usr/lib/python3/dist-packages (from ads) (2.25.1)\n",
      "Requirement already satisfied: six in /usr/lib/python3/dist-packages (from ads) (1.16.0)\n",
      "Collecting werkzeug\n",
      "  Downloading werkzeug-3.0.1-py3-none-any.whl (226 kB)\n",
      "\u001b[2K     \u001b[90m━━━━━━━━━━━━━━━━━━━━━━━━━━━━━━━━━━━━━━━\u001b[0m \u001b[32m226.7/226.7 KB\u001b[0m \u001b[31m8.1 MB/s\u001b[0m eta \u001b[36m0:00:00\u001b[0m\n",
      "\u001b[?25hCollecting MarkupSafe>=2.1.1\n",
      "  Downloading MarkupSafe-2.1.3-cp311-cp311-manylinux_2_17_x86_64.manylinux2014_x86_64.whl (28 kB)\n",
      "Building wheels for collected packages: ads, httpretty\n",
      "  Building wheel for ads (setup.py) ... \u001b[?25ldone\n",
      "\u001b[?25h  Created wheel for ads: filename=ads-0.12.3-py3-none-any.whl size=37392 sha256=c666d9a69bd402abb733f12d78ae3bd7af85b4c889277d8de53f87cc52285164\n",
      "  Stored in directory: /home/celis/.cache/pip/wheels/d7/40/99/ec51a32529251b8e1051b572ee8dcb523e4d7cf3490e26a8f5\n",
      "  Building wheel for httpretty (setup.py) ... \u001b[?25ldone\n",
      "\u001b[?25h  Created wheel for httpretty: filename=httpretty-0.8.10-py3-none-any.whl size=24014 sha256=9328a5ca86e413a4b439587aeb62eb33243f826ba87c308e18e6f0b141ca6bb5\n",
      "  Stored in directory: /home/celis/.cache/pip/wheels/52/aa/a5/7edee14eb2e5377987aa46d610505d02549dc2fdc7732d04b9\n",
      "Successfully built ads httpretty\n",
      "Installing collected packages: httpretty, mock, MarkupSafe, werkzeug, ads\n",
      "Successfully installed MarkupSafe-2.1.3 ads-0.12.3 httpretty-0.8.10 mock-5.1.0 werkzeug-3.0.1\n",
      "Note: you may need to restart the kernel to use updated packages.\n"
     ]
    }
   ],
   "source": [
    "pip install ads\n"
   ]
  },
  {
   "cell_type": "code",
   "execution_count": 5,
   "metadata": {},
   "outputs": [],
   "source": [
    "import ads\n",
    "import pandas as pd"
   ]
  },
  {
   "cell_type": "code",
   "execution_count": 7,
   "metadata": {},
   "outputs": [
    {
     "data": {
      "text/plain": [
       "'2.1.1'"
      ]
     },
     "execution_count": 7,
     "metadata": {},
     "output_type": "execute_result"
    }
   ],
   "source": [
    "pd.__version__"
   ]
  },
  {
   "cell_type": "code",
   "execution_count": 6,
   "metadata": {},
   "outputs": [
    {
     "data": {
      "text/plain": [
       "'0.12.3'"
      ]
     },
     "execution_count": 6,
     "metadata": {},
     "output_type": "execute_result"
    }
   ],
   "source": [
    "ads.__version__"
   ]
  },
  {
   "cell_type": "code",
   "execution_count": null,
   "metadata": {},
   "outputs": [],
   "source": []
  }
 ],
 "metadata": {
  "kernelspec": {
   "display_name": "Python 3",
   "language": "python",
   "name": "python3"
  },
  "language_info": {
   "codemirror_mode": {
    "name": "ipython",
    "version": 3
   },
   "file_extension": ".py",
   "mimetype": "text/x-python",
   "name": "python",
   "nbconvert_exporter": "python",
   "pygments_lexer": "ipython3",
   "version": "3.11.0rc1"
  }
 },
 "nbformat": 4,
 "nbformat_minor": 2
}
