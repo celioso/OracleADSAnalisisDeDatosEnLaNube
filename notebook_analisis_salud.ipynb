{
 "cells": [
  {
   "cell_type": "markdown",
   "metadata": {},
   "source": [
    "# 1.5 Version de las Bibliotecas"
   ]
  },
  {
   "cell_type": "code",
   "execution_count": 43,
   "metadata": {},
   "outputs": [
    {
     "name": "stdout",
     "output_type": "stream",
     "text": [
      "Defaulting to user installation because normal site-packages is not writeable\n",
      "Requirement already satisfied: ads in /home/celis/.local/lib/python3.11/site-packages (0.12.3)\n",
      "Requirement already satisfied: six in /usr/lib/python3/dist-packages (from ads) (1.16.0)\n",
      "Requirement already satisfied: mock in /home/celis/.local/lib/python3.11/site-packages (from ads) (5.1.0)\n",
      "Requirement already satisfied: requests in /usr/lib/python3/dist-packages (from ads) (2.25.1)\n",
      "Requirement already satisfied: httpretty==0.8.10 in /home/celis/.local/lib/python3.11/site-packages (from ads) (0.8.10)\n",
      "Requirement already satisfied: werkzeug in /home/celis/.local/lib/python3.11/site-packages (from ads) (3.0.1)\n",
      "Requirement already satisfied: MarkupSafe>=2.1.1 in /home/celis/.local/lib/python3.11/site-packages (from werkzeug->ads) (2.1.3)\n",
      "Note: you may need to restart the kernel to use updated packages.\n"
     ]
    }
   ],
   "source": [
    "pip install ads"
   ]
  },
  {
   "cell_type": "code",
   "execution_count": 41,
   "metadata": {},
   "outputs": [],
   "source": [
    "import ads\n",
    "import pandas as pd"
   ]
  },
  {
   "cell_type": "code",
   "execution_count": 35,
   "metadata": {},
   "outputs": [
    {
     "data": {
      "text/plain": [
       "'2.1.1'"
      ]
     },
     "execution_count": 35,
     "metadata": {},
     "output_type": "execute_result"
    }
   ],
   "source": [
    "pd.__version__"
   ]
  },
  {
   "cell_type": "code",
   "execution_count": 36,
   "metadata": {},
   "outputs": [
    {
     "data": {
      "text/plain": [
       "'0.12.3'"
      ]
     },
     "execution_count": 36,
     "metadata": {},
     "output_type": "execute_result"
    }
   ],
   "source": [
    "ads.__version__"
   ]
  },
  {
   "cell_type": "markdown",
   "metadata": {},
   "source": [
    "link de los datos = https://www.kaggle.com/datasets/dileep070/heart-disease-prediction-using-logistic-regression/"
   ]
  },
  {
   "cell_type": "code",
   "execution_count": 37,
   "metadata": {},
   "outputs": [
    {
     "data": {
      "text/html": [
       "<div>\n",
       "<style scoped>\n",
       "    .dataframe tbody tr th:only-of-type {\n",
       "        vertical-align: middle;\n",
       "    }\n",
       "\n",
       "    .dataframe tbody tr th {\n",
       "        vertical-align: top;\n",
       "    }\n",
       "\n",
       "    .dataframe thead th {\n",
       "        text-align: right;\n",
       "    }\n",
       "</style>\n",
       "<table border=\"1\" class=\"dataframe\">\n",
       "  <thead>\n",
       "    <tr style=\"text-align: right;\">\n",
       "      <th></th>\n",
       "      <th>male</th>\n",
       "      <th>age</th>\n",
       "      <th>education</th>\n",
       "      <th>currentSmoker</th>\n",
       "      <th>cigsPerDay</th>\n",
       "      <th>BPMeds</th>\n",
       "      <th>prevalentStroke</th>\n",
       "      <th>prevalentHyp</th>\n",
       "      <th>diabetes</th>\n",
       "      <th>totChol</th>\n",
       "      <th>sysBP</th>\n",
       "      <th>diaBP</th>\n",
       "      <th>BMI</th>\n",
       "      <th>heartRate</th>\n",
       "      <th>glucose</th>\n",
       "      <th>TenYearCHD</th>\n",
       "    </tr>\n",
       "  </thead>\n",
       "  <tbody>\n",
       "    <tr>\n",
       "      <th>2190</th>\n",
       "      <td>1</td>\n",
       "      <td>37</td>\n",
       "      <td>2.0</td>\n",
       "      <td>1</td>\n",
       "      <td>1.0</td>\n",
       "      <td>0.0</td>\n",
       "      <td>0</td>\n",
       "      <td>1</td>\n",
       "      <td>0</td>\n",
       "      <td>165.0</td>\n",
       "      <td>134.5</td>\n",
       "      <td>91.0</td>\n",
       "      <td>27.97</td>\n",
       "      <td>86.0</td>\n",
       "      <td>80.0</td>\n",
       "      <td>0</td>\n",
       "    </tr>\n",
       "    <tr>\n",
       "      <th>2677</th>\n",
       "      <td>1</td>\n",
       "      <td>52</td>\n",
       "      <td>2.0</td>\n",
       "      <td>0</td>\n",
       "      <td>0.0</td>\n",
       "      <td>0.0</td>\n",
       "      <td>0</td>\n",
       "      <td>0</td>\n",
       "      <td>0</td>\n",
       "      <td>210.0</td>\n",
       "      <td>128.0</td>\n",
       "      <td>87.0</td>\n",
       "      <td>26.25</td>\n",
       "      <td>67.0</td>\n",
       "      <td>61.0</td>\n",
       "      <td>0</td>\n",
       "    </tr>\n",
       "    <tr>\n",
       "      <th>1641</th>\n",
       "      <td>0</td>\n",
       "      <td>40</td>\n",
       "      <td>NaN</td>\n",
       "      <td>0</td>\n",
       "      <td>0.0</td>\n",
       "      <td>0.0</td>\n",
       "      <td>0</td>\n",
       "      <td>0</td>\n",
       "      <td>0</td>\n",
       "      <td>228.0</td>\n",
       "      <td>116.0</td>\n",
       "      <td>78.0</td>\n",
       "      <td>27.72</td>\n",
       "      <td>62.0</td>\n",
       "      <td>75.0</td>\n",
       "      <td>0</td>\n",
       "    </tr>\n",
       "    <tr>\n",
       "      <th>3871</th>\n",
       "      <td>1</td>\n",
       "      <td>45</td>\n",
       "      <td>1.0</td>\n",
       "      <td>1</td>\n",
       "      <td>20.0</td>\n",
       "      <td>0.0</td>\n",
       "      <td>0</td>\n",
       "      <td>1</td>\n",
       "      <td>0</td>\n",
       "      <td>256.0</td>\n",
       "      <td>144.0</td>\n",
       "      <td>96.0</td>\n",
       "      <td>26.60</td>\n",
       "      <td>75.0</td>\n",
       "      <td>83.0</td>\n",
       "      <td>0</td>\n",
       "    </tr>\n",
       "    <tr>\n",
       "      <th>3102</th>\n",
       "      <td>1</td>\n",
       "      <td>54</td>\n",
       "      <td>1.0</td>\n",
       "      <td>1</td>\n",
       "      <td>30.0</td>\n",
       "      <td>0.0</td>\n",
       "      <td>0</td>\n",
       "      <td>1</td>\n",
       "      <td>0</td>\n",
       "      <td>177.0</td>\n",
       "      <td>162.5</td>\n",
       "      <td>99.5</td>\n",
       "      <td>22.97</td>\n",
       "      <td>65.0</td>\n",
       "      <td>93.0</td>\n",
       "      <td>1</td>\n",
       "    </tr>\n",
       "  </tbody>\n",
       "</table>\n",
       "</div>"
      ],
      "text/plain": [
       "      male  age  education  currentSmoker  cigsPerDay  BPMeds  \\\n",
       "2190     1   37        2.0              1         1.0     0.0   \n",
       "2677     1   52        2.0              0         0.0     0.0   \n",
       "1641     0   40        NaN              0         0.0     0.0   \n",
       "3871     1   45        1.0              1        20.0     0.0   \n",
       "3102     1   54        1.0              1        30.0     0.0   \n",
       "\n",
       "      prevalentStroke  prevalentHyp  diabetes  totChol  sysBP  diaBP    BMI  \\\n",
       "2190                0             1         0    165.0  134.5   91.0  27.97   \n",
       "2677                0             0         0    210.0  128.0   87.0  26.25   \n",
       "1641                0             0         0    228.0  116.0   78.0  27.72   \n",
       "3871                0             1         0    256.0  144.0   96.0  26.60   \n",
       "3102                0             1         0    177.0  162.5   99.5  22.97   \n",
       "\n",
       "      heartRate  glucose  TenYearCHD  \n",
       "2190       86.0     80.0           0  \n",
       "2677       67.0     61.0           0  \n",
       "1641       62.0     75.0           0  \n",
       "3871       75.0     83.0           0  \n",
       "3102       65.0     93.0           1  "
      ]
     },
     "execution_count": 37,
     "metadata": {},
     "output_type": "execute_result"
    }
   ],
   "source": [
    "datos = pd.read_csv(\"data/framingham.csv\")\n",
    "datos.sample(5)"
   ]
  },
  {
   "cell_type": "code",
   "execution_count": 38,
   "metadata": {},
   "outputs": [
    {
     "data": {
      "text/plain": [
       "(4238, 16)"
      ]
     },
     "execution_count": 38,
     "metadata": {},
     "output_type": "execute_result"
    }
   ],
   "source": [
    "datos.shape"
   ]
  },
  {
   "cell_type": "code",
   "execution_count": 39,
   "metadata": {},
   "outputs": [
    {
     "data": {
      "text/plain": [
       "Index(['male', 'age', 'education', 'currentSmoker', 'cigsPerDay', 'BPMeds',\n",
       "       'prevalentStroke', 'prevalentHyp', 'diabetes', 'totChol', 'sysBP',\n",
       "       'diaBP', 'BMI', 'heartRate', 'glucose', 'TenYearCHD'],\n",
       "      dtype='object')"
      ]
     },
     "execution_count": 39,
     "metadata": {},
     "output_type": "execute_result"
    }
   ],
   "source": [
    "datos.columns"
   ]
  },
  {
   "cell_type": "markdown",
   "metadata": {},
   "source": [
    "###  2.2 Cargando el CSV"
   ]
  },
  {
   "cell_type": "code",
   "execution_count": 50,
   "metadata": {},
   "outputs": [
    {
     "ename": "ModuleNotFoundError",
     "evalue": "No module named 'ads.dataset'",
     "output_type": "error",
     "traceback": [
      "\u001b[0;31m---------------------------------------------------------------------------\u001b[0m",
      "\u001b[0;31mModuleNotFoundError\u001b[0m                       Traceback (most recent call last)",
      "\u001b[1;32m/mnt/c/Users/celio/OneDrive/Escritorio/programación/ONE-OracleNextEducation/ONE-Fase-3-Especializacion-Back-End/PythonParaDataScience/OracleADSanalisisdedatosenlaNube/notebook_analisis_salud.ipynb Celda 11\u001b[0m line \u001b[0;36m1\n\u001b[0;32m----> <a href='vscode-notebook-cell://wsl%2Bubuntu/mnt/c/Users/celio/OneDrive/Escritorio/programaci%C3%B3n/ONE-OracleNextEducation/ONE-Fase-3-Especializacion-Back-End/PythonParaDataScience/OracleADSanalisisdedatosenlaNube/notebook_analisis_salud.ipynb#X11sdnNjb2RlLXJlbW90ZQ%3D%3D?line=0'>1</a>\u001b[0m \u001b[39mfrom\u001b[39;00m \u001b[39mads\u001b[39;00m\u001b[39m.\u001b[39;00m\u001b[39mdataset\u001b[39;00m\u001b[39m.\u001b[39;00m\u001b[39mfactory\u001b[39;00m \u001b[39mimport\u001b[39;00m DatasetFactory\n\u001b[1;32m      <a href='vscode-notebook-cell://wsl%2Bubuntu/mnt/c/Users/celio/OneDrive/Escritorio/programaci%C3%B3n/ONE-OracleNextEducation/ONE-Fase-3-Especializacion-Back-End/PythonParaDataScience/OracleADSanalisisdedatosenlaNube/notebook_analisis_salud.ipynb#X11sdnNjb2RlLXJlbW90ZQ%3D%3D?line=2'>3</a>\u001b[0m ds \u001b[39m=\u001b[39m DatasetFactory\u001b[39m.\u001b[39mopen(\u001b[39m\"\u001b[39m\u001b[39mdata/framingham.csv\u001b[39m\u001b[39m\"\u001b[39m)\n\u001b[1;32m      <a href='vscode-notebook-cell://wsl%2Bubuntu/mnt/c/Users/celio/OneDrive/Escritorio/programaci%C3%B3n/ONE-OracleNextEducation/ONE-Fase-3-Especializacion-Back-End/PythonParaDataScience/OracleADSanalisisdedatosenlaNube/notebook_analisis_salud.ipynb#X11sdnNjb2RlLXJlbW90ZQ%3D%3D?line=3'>4</a>\u001b[0m ds\u001b[39m.\u001b[39mhead()\n",
      "\u001b[0;31mModuleNotFoundError\u001b[0m: No module named 'ads.dataset'"
     ]
    }
   ],
   "source": [
    " from ads.dataset.factory import DatasetFactory\n",
    "\n",
    " ds = DatasetFactory.open(\"data/framingham.csv\")\n",
    " ds.head()"
   ]
  },
  {
   "cell_type": "code",
   "execution_count": null,
   "metadata": {},
   "outputs": [
    {
     "ename": "NameError",
     "evalue": "name 'ds' is not defined",
     "output_type": "error",
     "traceback": [
      "\u001b[0;31m---------------------------------------------------------------------------\u001b[0m",
      "\u001b[0;31mNameError\u001b[0m                                 Traceback (most recent call last)",
      "\u001b[1;32m/mnt/c/Users/celio/OneDrive/Escritorio/programación/ONE-OracleNextEducation/ONE-Fase-3-Especializacion-Back-End/PythonParaDataScience/OracleADSanalisisdedatosenlaNube/notebook_analisis_salud.ipynb Celda 12\u001b[0m line \u001b[0;36m1\n\u001b[0;32m----> <a href='vscode-notebook-cell://wsl%2Bubuntu/mnt/c/Users/celio/OneDrive/Escritorio/programaci%C3%B3n/ONE-OracleNextEducation/ONE-Fase-3-Especializacion-Back-End/PythonParaDataScience/OracleADSanalisisdedatosenlaNube/notebook_analisis_salud.ipynb#X14sdnNjb2RlLXJlbW90ZQ%3D%3D?line=0'>1</a>\u001b[0m \u001b[39mtype\u001b[39m(ds)\n",
      "\u001b[0;31mNameError\u001b[0m: name 'ds' is not defined"
     ]
    }
   ],
   "source": [
    "type(ds)"
   ]
  },
  {
   "cell_type": "code",
   "execution_count": null,
   "metadata": {},
   "outputs": [
    {
     "data": {
      "text/plain": [
       "pandas.core.frame.DataFrame"
      ]
     },
     "execution_count": 24,
     "metadata": {},
     "output_type": "execute_result"
    }
   ],
   "source": [
    "type(datos)"
   ]
  },
  {
   "cell_type": "code",
   "execution_count": 49,
   "metadata": {},
   "outputs": [
    {
     "ename": "NameError",
     "evalue": "name 'ds' is not defined",
     "output_type": "error",
     "traceback": [
      "\u001b[0;31m---------------------------------------------------------------------------\u001b[0m",
      "\u001b[0;31mNameError\u001b[0m                                 Traceback (most recent call last)",
      "\u001b[1;32m/mnt/c/Users/celio/OneDrive/Escritorio/programación/ONE-OracleNextEducation/ONE-Fase-3-Especializacion-Back-End/PythonParaDataScience/OracleADSanalisisdedatosenlaNube/notebook_analisis_salud.ipynb Celda 14\u001b[0m line \u001b[0;36m1\n\u001b[0;32m----> <a href='vscode-notebook-cell://wsl%2Bubuntu/mnt/c/Users/celio/OneDrive/Escritorio/programaci%C3%B3n/ONE-OracleNextEducation/ONE-Fase-3-Especializacion-Back-End/PythonParaDataScience/OracleADSanalisisdedatosenlaNube/notebook_analisis_salud.ipynb#X16sdnNjb2RlLXJlbW90ZQ%3D%3D?line=0'>1</a>\u001b[0m ds\u001b[39m.\u001b[39mcolumns\n",
      "\u001b[0;31mNameError\u001b[0m: name 'ds' is not defined"
     ]
    }
   ],
   "source": [
    "ds.columns"
   ]
  },
  {
   "cell_type": "code",
   "execution_count": null,
   "metadata": {},
   "outputs": [],
   "source": [
    "dict_ing_esp = {\n",
    "    \"male\":\"sexo\",\n",
    "    \"age\":\"edad\",\n",
    "    \"education\":\"escolaridad\",\n",
    "    \"currentSmoker\":\"fumador\",\n",
    "    \"cigsPerDay\":\"cigarrillos_por_dia\",\n",
    "    \"BPMeds\":\"uso_medicamentos_presion\",\n",
    "    \"prevalentStroke\":\"acv\",\n",
    "    \"prevalentHyp\":\"hipertension\",\n",
    "    \"diabetes\":\"diabetes\",\n",
    "    \"totChol\":\"colesterol_total\",\n",
    "    \"sysBP\":\"presion_arterial_sistolica\",\n",
    "    \"diaBP\":\"presion_arterial_diastolica\",\n",
    "    \"BMI\":\"imc\",\n",
    "    \"heartRate\":\"fracuencia_cardiaca\",\n",
    "    \"glucose\":\"glicemia\",\n",
    "    \"TenYearCHD\":\"riesgo_eac_decada\"\n",
    "}"
   ]
  },
  {
   "cell_type": "code",
   "execution_count": null,
   "metadata": {},
   "outputs": [
    {
     "ename": "NameError",
     "evalue": "name 'ds' is not defined",
     "output_type": "error",
     "traceback": [
      "\u001b[0;31m---------------------------------------------------------------------------\u001b[0m",
      "\u001b[0;31mNameError\u001b[0m                                 Traceback (most recent call last)",
      "\u001b[1;32m/mnt/c/Users/celio/OneDrive/Escritorio/programación/ONE-OracleNextEducation/ONE-Fase-3-Especializacion-Back-End/PythonParaDataScience/OracleADSanalisisdedatosenlaNube/notebook_analisis_salud.ipynb Celda 16\u001b[0m line \u001b[0;36m1\n\u001b[0;32m----> <a href='vscode-notebook-cell://wsl%2Bubuntu/mnt/c/Users/celio/OneDrive/Escritorio/programaci%C3%B3n/ONE-OracleNextEducation/ONE-Fase-3-Especializacion-Back-End/PythonParaDataScience/OracleADSanalisisdedatosenlaNube/notebook_analisis_salud.ipynb#X21sdnNjb2RlLXJlbW90ZQ%3D%3D?line=0'>1</a>\u001b[0m ds \u001b[39m=\u001b[39m ds\u001b[39m.\u001b[39mrename_columns(columns\u001b[39m=\u001b[39mdict_ing_esp)\n",
      "\u001b[0;31mNameError\u001b[0m: name 'ds' is not defined"
     ]
    }
   ],
   "source": [
    "ds = ds.rename_columns(columns=dict_ing_esp)"
   ]
  },
  {
   "cell_type": "code",
   "execution_count": 47,
   "metadata": {},
   "outputs": [
    {
     "ename": "NameError",
     "evalue": "name 'ds' is not defined",
     "output_type": "error",
     "traceback": [
      "\u001b[0;31m---------------------------------------------------------------------------\u001b[0m",
      "\u001b[0;31mNameError\u001b[0m                                 Traceback (most recent call last)",
      "\u001b[1;32m/mnt/c/Users/celio/OneDrive/Escritorio/programación/ONE-OracleNextEducation/ONE-Fase-3-Especializacion-Back-End/PythonParaDataScience/OracleADSanalisisdedatosenlaNube/notebook_analisis_salud.ipynb Celda 17\u001b[0m line \u001b[0;36m1\n\u001b[0;32m----> <a href='vscode-notebook-cell://wsl%2Bubuntu/mnt/c/Users/celio/OneDrive/Escritorio/programaci%C3%B3n/ONE-OracleNextEducation/ONE-Fase-3-Especializacion-Back-End/PythonParaDataScience/OracleADSanalisisdedatosenlaNube/notebook_analisis_salud.ipynb#X23sdnNjb2RlLXJlbW90ZQ%3D%3D?line=0'>1</a>\u001b[0m ds\u001b[39m.\u001b[39mcolumns\n",
      "\u001b[0;31mNameError\u001b[0m: name 'ds' is not defined"
     ]
    }
   ],
   "source": [
    "ds.columns"
   ]
  },
  {
   "cell_type": "code",
   "execution_count": null,
   "metadata": {},
   "outputs": [],
   "source": [
    "ds.head()"
   ]
  },
  {
   "cell_type": "code",
   "execution_count": 51,
   "metadata": {},
   "outputs": [
    {
     "ename": "NameError",
     "evalue": "name 'ds' is not defined",
     "output_type": "error",
     "traceback": [
      "\u001b[0;31m---------------------------------------------------------------------------\u001b[0m",
      "\u001b[0;31mNameError\u001b[0m                                 Traceback (most recent call last)",
      "\u001b[1;32m/mnt/c/Users/celio/OneDrive/Escritorio/programación/ONE-OracleNextEducation/ONE-Fase-3-Especializacion-Back-End/PythonParaDataScience/OracleADSanalisisdedatosenlaNube/notebook_analisis_salud.ipynb Celda 19\u001b[0m line \u001b[0;36m1\n\u001b[0;32m----> <a href='vscode-notebook-cell://wsl%2Bubuntu/mnt/c/Users/celio/OneDrive/Escritorio/programaci%C3%B3n/ONE-OracleNextEducation/ONE-Fase-3-Especializacion-Back-End/PythonParaDataScience/OracleADSanalisisdedatosenlaNube/notebook_analisis_salud.ipynb#X25sdnNjb2RlLXJlbW90ZQ%3D%3D?line=0'>1</a>\u001b[0m ds \u001b[39m=\u001b[39m ds\u001b[39m.\u001b[39mdrop_columns(\u001b[39m\"\u001b[39m\u001b[39mescolaridad\u001b[39m\u001b[39m\"\u001b[39m)\n",
      "\u001b[0;31mNameError\u001b[0m: name 'ds' is not defined"
     ]
    }
   ],
   "source": [
    "ds = ds.drop_columns(\"escolaridad\")"
   ]
  },
  {
   "cell_type": "code",
   "execution_count": 52,
   "metadata": {},
   "outputs": [
    {
     "ename": "NameError",
     "evalue": "name 'ds' is not defined",
     "output_type": "error",
     "traceback": [
      "\u001b[0;31m---------------------------------------------------------------------------\u001b[0m",
      "\u001b[0;31mNameError\u001b[0m                                 Traceback (most recent call last)",
      "\u001b[1;32m/mnt/c/Users/celio/OneDrive/Escritorio/programación/ONE-OracleNextEducation/ONE-Fase-3-Especializacion-Back-End/PythonParaDataScience/OracleADSanalisisdedatosenlaNube/notebook_analisis_salud.ipynb Celda 20\u001b[0m line \u001b[0;36m1\n\u001b[0;32m----> <a href='vscode-notebook-cell://wsl%2Bubuntu/mnt/c/Users/celio/OneDrive/Escritorio/programaci%C3%B3n/ONE-OracleNextEducation/ONE-Fase-3-Especializacion-Back-End/PythonParaDataScience/OracleADSanalisisdedatosenlaNube/notebook_analisis_salud.ipynb#X26sdnNjb2RlLXJlbW90ZQ%3D%3D?line=0'>1</a>\u001b[0m ds\u001b[39m.\u001b[39mcolumns\n",
      "\u001b[0;31mNameError\u001b[0m: name 'ds' is not defined"
     ]
    }
   ],
   "source": [
    "ds.columns"
   ]
  }
 ],
 "metadata": {
  "kernelspec": {
   "display_name": "Python 3",
   "language": "python",
   "name": "python3"
  },
  "language_info": {
   "codemirror_mode": {
    "name": "ipython",
    "version": 3
   },
   "file_extension": ".py",
   "mimetype": "text/x-python",
   "name": "python",
   "nbconvert_exporter": "python",
   "pygments_lexer": "ipython3",
   "version": "3.11.0rc1"
  }
 },
 "nbformat": 4,
 "nbformat_minor": 2
}
